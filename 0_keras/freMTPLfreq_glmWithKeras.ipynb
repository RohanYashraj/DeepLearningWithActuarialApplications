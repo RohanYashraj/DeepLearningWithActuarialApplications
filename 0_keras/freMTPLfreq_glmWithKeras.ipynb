{
 "cells": [
  {
   "cell_type": "markdown",
   "metadata": {},
   "source": [
    "# **French Motor Third-Party Liability Claims**\n",
    "\n",
    "# Fitting a GLM using keras\n",
    "\n",
    "Jürg Schelldorfer\n",
    "\n",
    "2021-12-12"
   ]
  },
  {
   "cell_type": "markdown",
   "metadata": {},
   "source": [
    "# Table of contents\n",
    "1. [Introduction](#intro) \n",
    "2. [Data Preparation](#dataPrep)             \n",
    "      2.1 [Load packages](#pkg)             \n",
    "      2.2 [Set global parameters](#paramSeed)             \n",
    "      2.3 [Helper functions](#helpers)             \n",
    "      2.4 [Load data](#loadData)                   \n",
    "      2.5 [General preprocessing](#genProcess)          \n",
    "      2.6 [Store model results](#storeModel)\n",
    "3. [Pre-processing Neural Networks](#ppNN)                       \n",
    "    3.1 [Introduction](#ppNNintro)                          \n",
    "    3.2 [Pre-processing functions](#ppNNfct)                       \n",
    "    3.3 [Execute pre-processing](#ppNNexec)          \n",
    "    3.4 [Inspect the pre-processed data](#ppNNinspect)              \n",
    "    3.5 [Split train and test data](#splitraintest)            \n",
    "    3.6 [Common neural network specifications](#ppNNspec)           \n",
    "4. [Designing neural networks](#DsgNN)                            \n",
    "    4.1 [Gradient descent methods](#gdm)                \n",
    "    4.2 [Epochs and batches](#epbatch)      \n",
    "    4.3 [Initialization](#init)           \n",
    "    4.4 [Activation function](#)\n",
    "5. [Generalized Linear Model using `keras(...)`](#M1)                             \n",
    "    5.1 [Definition](#M1def)                  \n",
    "    5.2 [Compilation](#M1com)                \n",
    "    5.3 [Fitting](#M1fit)                     \n",
    "    5.4 [Validation](#M1val)                    \n",
    "6. [Generalized Linear Model using `glm(...)`](#M2)                                        \n",
    "    6.1 [Fitting](#M2fit)                              \n",
    "    6.2 [Validation](#M2val)                                     \n",
    "7. [Model Comparison](#MC)             \n",
    "    7.1 [Compare fitted values](#MCfit)               \n",
    "    7.2 [Compare coefficients/weights](#MCcoef)               \n",
    "8. [Remarks](#rmk)\n",
    "9. [Session Info](#session)"
   ]
  },
  {
   "cell_type": "markdown",
   "metadata": {},
   "source": [
    "# 1. Introduction<a name=\"intro\"></a>\n",
    "\n",
    "This notebook was created for the course \"Deep Learning with Actuarial Applications in R\" of the Swiss Association of Actuaries (https://www.actuaries.ch/).\n",
    "\n",
    "This notebook serves as accompanion to the tutorial “Insights from Inside Neural Networks”, available on [SSRN](https://papers.ssrn.com/sol3/papers.cfm?abstract_id=3226852).\n",
    "\n",
    "The code is similar to the code used in above tutorial and combines the raw R code in the scripts, available on [GitHub](https://github.com/JSchelldorfer/ActuarialDataScience/tree/master/2%20-%20Insights%20from%20Inside%20Neural%20Networks) along with some more comments. Please refer to the tutorial for explanations.\n",
    "\n",
    "Note that the results might vary depending on the R and Python package versions, see last section for the result of `sessionInfo()` and corresponding info on the Python setup."
   ]
  },
  {
   "cell_type": "markdown",
   "metadata": {},
   "source": [
    "# 2. Data Preparation<a name=\"dataPrep\"></a>"
   ]
  },
  {
   "cell_type": "markdown",
   "metadata": {},
   "source": [
    "The tutorial uses the French MTPL data set available on [openML (ID 41214)](https://www.openml.org/d/41214)."
   ]
  },
  {
   "cell_type": "markdown",
   "metadata": {},
   "source": [
    "## 2.1 Load packages<a name=\"pkg\"></a>"
   ]
  },
  {
   "cell_type": "code",
   "execution_count": 1,
   "metadata": {},
   "outputs": [
    {
     "name": "stderr",
     "output_type": "stream",
     "text": [
      "Loading required package: nlme\n",
      "\n",
      "This is mgcv 1.8-33. For overview type 'help(\"mgcv-package\")'.\n",
      "\n",
      "\n",
      "Attaching package: ‘dplyr’\n",
      "\n",
      "\n",
      "The following object is masked from ‘package:nlme’:\n",
      "\n",
      "    collapse\n",
      "\n",
      "\n",
      "The following objects are masked from ‘package:stats’:\n",
      "\n",
      "    filter, lag\n",
      "\n",
      "\n",
      "The following objects are masked from ‘package:base’:\n",
      "\n",
      "    intersect, setdiff, setequal, union\n",
      "\n",
      "\n",
      "\n",
      "Attaching package: ‘purrr’\n",
      "\n",
      "\n",
      "The following object is masked from ‘package:magrittr’:\n",
      "\n",
      "    set_names\n",
      "\n",
      "\n",
      "\n",
      "Attaching package: ‘gridExtra’\n",
      "\n",
      "\n",
      "The following object is masked from ‘package:dplyr’:\n",
      "\n",
      "    combine\n",
      "\n",
      "\n",
      "\n",
      "Attaching package: ‘tidyr’\n",
      "\n",
      "\n",
      "The following object is masked from ‘package:magrittr’:\n",
      "\n",
      "    extract\n",
      "\n",
      "\n"
     ]
    }
   ],
   "source": [
    "library(mgcv)\n",
    "library(keras)\n",
    "library(magrittr)\n",
    "library(dplyr)\n",
    "library(tibble)\n",
    "library(purrr)\n",
    "library(ggplot2)\n",
    "library(gridExtra)\n",
    "library(splitTools)\n",
    "library(tidyr)\n",
    "library(OpenML)\n",
    "library(farff)"
   ]
  },
  {
   "cell_type": "markdown",
   "metadata": {},
   "source": [
    "## 2.2 Set global parameters<a name=\"paramSeed\"></a>"
   ]
  },
  {
   "cell_type": "code",
   "execution_count": 2,
   "metadata": {},
   "outputs": [],
   "source": [
    "options(encoding = 'UTF-8')"
   ]
  },
  {
   "cell_type": "code",
   "execution_count": 3,
   "metadata": {},
   "outputs": [],
   "source": [
    "# set seed to obtain best reproducibility. note that the underlying architecture may affect results nonetheless, so full reproducibility cannot be guaranteed across different platforms.\n",
    "seed <- 100\n",
    "Sys.setenv(PYTHONHASHSEED = seed)\n",
    "set.seed(seed)\n",
    "reticulate::py_set_seed(seed)\n",
    "tensorflow::tf$random$set_seed(seed)"
   ]
  },
  {
   "cell_type": "markdown",
   "metadata": {},
   "source": [
    "The results below will not exactly match the results in the paper, since the underlying dataset and some packages are different. In addition the split into training and testing data is different as well. However, the general conclusions remain the same."
   ]
  },
  {
   "cell_type": "markdown",
   "metadata": {},
   "source": [
    "## 2.3 Helper functions<a name=\"helpers\"></a>"
   ]
  },
  {
   "cell_type": "markdown",
   "metadata": {},
   "source": [
    "Subsequently, for ease of reading, we provide all the helper functions which are used in this tutorial in this section."
   ]
  },
  {
   "cell_type": "code",
   "execution_count": 4,
   "metadata": {},
   "outputs": [],
   "source": [
    "# Poisson deviance\n",
    "PoissonDeviance <- function(pred, obs) {\n",
    "    200 * (sum(pred) - sum(obs) + sum(log((obs/pred)^(obs)))) / length(pred)\n",
    "}"
   ]
  },
  {
   "cell_type": "markdown",
   "metadata": {
    "tags": []
   },
   "source": [
    "# 2.4 Load data<a name=\"loadData\"></a>"
   ]
  },
  {
   "cell_type": "markdown",
   "metadata": {},
   "source": [
    "We consider the data `freMTPL2freq` included in the R package `CASdatasets` for claim frequency modeling. This data comprises a French motor third-party liability (MTPL) insurance portfolio with corresponding claim counts observed in one accounting year.\n",
    "We do not incorporate claim sizes which would also be available through freMTPL2sev.\n",
    "\n",
    "As the current package version provides a slightly amended dataset, we use an older dataset available on [openML (ID 41214)](https://www.openml.org/d/41214) to allow replication of the results in the tutorial.\n",
    "\n",
    "There are two options to load this dataset:\n",
    "- Option 1: Manually download the data from [github](https://github.com/JSchelldorfer/DeepLearningWithActuarialApplications/) in case of firewalls or other issues\n",
    "- Option 2: Download from [openML (ID 41214)](https://www.openml.org/d/41214)"
   ]
  },
  {
   "cell_type": "code",
   "execution_count": 5,
   "metadata": {},
   "outputs": [],
   "source": [
    "# Local loading\n",
    "# you can download it from https://github.com/JSchelldorfer/DeepLearningWithActuarialApplications/blob/master/freMTPL2freq.RData\n",
    "load(\"/home/s3m3wx/SAV_2021_Blockcourse/1_glm/freMTPL2freq.RData\")\n",
    "\n",
    "# download (only if company firewall allows it)\n",
    "#freMTPL2freq <- getOMLDataSet(data.id = 41214)$data"
   ]
  },
  {
   "cell_type": "markdown",
   "metadata": {},
   "source": [
    "## 2.5 General data preprocessing<a name=\"genProcess\"></a>"
   ]
  },
  {
   "cell_type": "markdown",
   "metadata": {},
   "source": [
    "A priori, there is not sufficient information about this data to do a sensible decision about the best consideration of the exposure measure, either as feature or as offset. In the following we treat the exposure always as an offset.\n",
    "\n",
    "Data preprocessing includes a couple of transformations. We ensure that ClaimNb is an integer, VehAge, DrivAge and BonusMalus have been capped for the plots at age 20, age 90 and bonus-malus level 150, respectively, to improve visualization. Density is logarithmized and VehGas is a categorical variable. We leave away the rounding used in the first notebook, which were mainly used for nicer visualizations of the data.\n",
    "\n",
    "We are adding a group_id identifying rows possibly referring to the same policy. Respecting group_id in data splitting techniques (train/test, cross-validation) is essential. This is different to the tutorial where another splitting has been used. As a consequence, the figures in this notebook do not match the figures in the tutorial, but the conclusions drawn are the same.\n",
    "\n",
    "In addition to the previous tutorial, we decide to truncate the ClaimNb and the Exposure in order to correct for unreasonable data entries and simplifications for the modeling part."
   ]
  },
  {
   "cell_type": "code",
   "execution_count": 6,
   "metadata": {
    "tags": []
   },
   "outputs": [],
   "source": [
    "# Grouping id\n",
    "distinct <- freMTPL2freq %>% \n",
    "  distinct_at(vars(-c(IDpol, Exposure, ClaimNb))) %>% \n",
    "  mutate(group_id = row_number())"
   ]
  },
  {
   "cell_type": "code",
   "execution_count": 7,
   "metadata": {},
   "outputs": [
    {
     "name": "stderr",
     "output_type": "stream",
     "text": [
      "Joining, by = c(\"Area\", \"VehPower\", \"VehAge\", \"DrivAge\", \"BonusMalus\", \"VehBrand\", \"VehGas\", \"Density\", \"Region\", \"ClaimTotal\")\n",
      "\n"
     ]
    }
   ],
   "source": [
    "dat <- freMTPL2freq %>% \n",
    "  left_join(distinct) %>% \n",
    "  mutate(ClaimNb = pmin(as.integer(ClaimNb), 4),\n",
    "         VehAge = pmin(VehAge,20),\n",
    "         DrivAge = pmin(DrivAge,90),\n",
    "         BonusMalus = pmin(BonusMalus,150),\n",
    "         Density = round(log(Density),2),\n",
    "         VehGas = factor(VehGas),\n",
    "         Exposure = pmin(Exposure, 1))"
   ]
  },
  {
   "cell_type": "code",
   "execution_count": 8,
   "metadata": {},
   "outputs": [
    {
     "data": {
      "text/plain": [
       "\n",
       "     1      2      3      4      5      6      7      8      9     10     11 \n",
       "429576  84201  13940   2437    966    754    720    475    400    269    142 \n",
       "    12     13     14     15     18     22 \n",
       "   191      3      1      2      1      1 "
      ]
     },
     "metadata": {},
     "output_type": "display_data"
    }
   ],
   "source": [
    "# Group sizes of suspected clusters\n",
    "table(table(dat[, \"group_id\"]))"
   ]
  },
  {
   "cell_type": "markdown",
   "metadata": {},
   "source": [
    "## 2.6 Store model results<a name=\"storeModel\"></a>"
   ]
  },
  {
   "cell_type": "markdown",
   "metadata": {},
   "source": [
    "As we are going to compare two models, we create a table which stores the metrics we are going to use for the comparison and the selection of the best model."
   ]
  },
  {
   "cell_type": "code",
   "execution_count": 9,
   "metadata": {},
   "outputs": [],
   "source": [
    "# initialize table to store all model results for comparison\n",
    "df_cmp <- tibble(\n",
    " model = character(),\n",
    " epochs = numeric(),\n",
    " run_time = numeric(),\n",
    " parameters = numeric(),\n",
    " in_sample_loss = numeric(),\n",
    " out_sample_loss = numeric(),\n",
    " avg_freq = numeric(),\n",
    ")"
   ]
  },
  {
   "cell_type": "markdown",
   "metadata": {},
   "source": [
    "# 3. Pre-processing Neural Networks<a name=\"ppNN\"></a>\n",
    "\n",
    "## 3.1 Introduction<a name=\"ppNNintro\"></a>"
   ]
  },
  {
   "cell_type": "markdown",
   "metadata": {},
   "source": [
    "In this chapter, we explain how the data need to be pre-processed to be used in neural networks. It can not be processed in the same way as shown above for GLMs. Further details can be found in this tutorial on [SSRN](https://papers.ssrn.com/sol3/papers.cfm?abstract_id=3226852), chapter 2."
   ]
  },
  {
   "cell_type": "markdown",
   "metadata": {},
   "source": [
    "We are going to highlight a few important points in data pre-processing that are necessary for a successful application of networks.\n",
    "\n",
    "In network modeling the choice of the scale of the feature components may substantially influence the fitting procedure of the predictive model. Therefore, data pre-processing requires careful consideration. We treat unordered categorical (nominal) feature components and continuous (or ordinal) feature components separately. Ordered categorical feature components are treated like continuous ones, where we simply replace the ordered categorical labels by integers. Binary categorical feature components are coded by 0's and 1's for the two binary labels (for binary labels we do not distinguish between ordered and unordered components). Remark that if we choose an anti-symmetric activation function, i.e. $-\\phi(x) = \\phi(-x)$, we may also set binary\n",
    "categorical feature components to $\\pm 1/2$, which may simplify initialization of optimization\n",
    "algorithms."
   ]
  },
  {
   "cell_type": "markdown",
   "metadata": {},
   "source": [
    "### 3.1.1 Unordered (nominal) categorical feature components"
   ]
  },
  {
   "cell_type": "markdown",
   "metadata": {},
   "source": [
    "We need to transform (nominal) categorical feature components to numerical values. The most commonly used transformations are the so-called **dummy coding** and the **one-hot encoding**. Both methods construct binary representations for categorical labels. For dummy coding one label is chosen as reference level. Dummy coding then uses binary variables to indicate which label a particular policy possesses if it differs from the reference level. In our example we have two unordered categorical feature components, namely VehBrand and Region. We use VehBrand as\n",
    "illustration. It has 11 different labels $\\{B_1, B_{10}, B_{11}, B_{12}, B_{13}, B_{14}, B_2, B_3, B_4, B_5, B_6\\}$. We choose\n",
    "$B_1$ as reference label. Dummy coding then provides the coding scheme below (left). We observe that the 11 labels are replaced by 10-dimensional feature vectors $\\{0,1\\}^{10}$, with components summing up to either 0 or 1."
   ]
  },
  {
   "cell_type": "markdown",
   "metadata": {},
   "source": [
    "![2_fnn](Figure_Encoding.PNG)"
   ]
  },
  {
   "cell_type": "markdown",
   "metadata": {},
   "source": [
    "In contrast to dummy coding, one-hot encoding does not choose a reference level, but uses an indicator for each label. In this way the 11 labels of VehBrand are replaced by the 11 unit vectors. The main difference between dummy coding and one-hot encoding is that the former leads to full rank design matrices, whereas the latter does not. This implies that under one-hot encoding there are identifiability issues in parametrizations. In network modeling identifiability is less important because we typically work in over-parametrized nonconvex optimization problems (with multiple equally good models/parametrizations); on the other hand, identifiability in GLMs is an important feature because one typically tries to solve a convex optimization problem, where the full rank property is important to efficiently  and the (unique) solution."
   ]
  },
  {
   "cell_type": "markdown",
   "metadata": {},
   "source": [
    "Remark that other coding schemes could be used for categorical feature components such as Helmert's contrast coding. In classical GLMs the choice of the coding scheme typically does not influence the prediction, however, interpretation of the results may change by considering\n",
    "a different contrast. In network modeling the choice of the coding scheme may influence the prediction: typically, we exercise an early stopping rule in network calibrations. This early stopping rule and the corresponding result may depend on any chosen modeling strategy, such\n",
    "as the encoding scheme of categorical feature components."
   ]
  },
  {
   "cell_type": "markdown",
   "metadata": {},
   "source": [
    "Remark that dummy coding and one-hot encoding may lead to very high-dimensional input layers in networks, and it provides sparsity in input features. Moreover, the Euclidean distance between any two labels in the one-hot encoding scheme is that same. From natural language\n",
    "processing (NLP) we have learned that there are more efficient ways of representing categorical feature components, namely, by embedding them into lower-dimensional spaces so that proximity in these spaces has a useful meaning in the regression task. In networks this can be achieved by\n",
    "so-called embedding layers. In the context of our French MTPL example we refer to our next notebook."
   ]
  },
  {
   "cell_type": "markdown",
   "metadata": {},
   "source": [
    "### 3.1.2 Continuous feature components"
   ]
  },
  {
   "cell_type": "markdown",
   "metadata": {},
   "source": [
    "In theory, continuous feature components do not need pre-processing if we choose a sufficiently rich network, because the network may take care of feature components living on different scales. This statement is of purely theoretical value. In practice, continuous feature components need\n",
    "pre-processing such that they all live on a similar scale and such that they are sufficiently equally distributed across this scale. The reason for this requirement is that the calibration algorithms mostly use gradient descent methods (GDMs). These GDMs only work properly, if\n",
    "all components live on a similar scale and, thus, all directions contribute equally to the gradient.\n",
    "Otherwise, the optimization algorithms may get trapped in saddle points or in regions where the gradients are at (also known as vanishing gradient problem). Often, one uses $[-1,+1]$ as the common scale because the/our choice of activation function is focused to that scale."
   ]
  },
  {
   "cell_type": "markdown",
   "metadata": {},
   "source": [
    "A popular transformation is the so-called MinMaxScaler. For this transformation we fix each continuous feature component of $x$, say $x_l$, at a time. Denote the minimum and the maximum of the domain of $x_l$ by $m_l$ and $M_l$, respectively. The MinMaxScaler then replaces"
   ]
  },
  {
   "cell_type": "markdown",
   "metadata": {},
   "source": [
    "![2_fnn](Figure_MinMaxScaler.PNG)"
   ]
  },
  {
   "cell_type": "markdown",
   "metadata": {},
   "source": [
    "In practice, it may happen that the minimum ml or the maximum Ml is not known. In this case one chooses the corresponding minimum and/or maximum of the features in the observed data. For prediction under new features one then needs to keep the original scaling of the initially\n",
    "observed data, i.e. the one which has been used for model calibration.\n",
    "\n",
    "Remark that if we have outliers, the above transformations may lead to very concentrated transformed feature components $x_l^*$, $i=1,...,n$, because the outliers may, for instance, dominate the maximum in the MinMaxScaler. In this case, feature components should be transformed\n",
    "first by a log-transformation or by a quantile transformation so that they become more equally spaced (and robust) across the real line."
   ]
  },
  {
   "cell_type": "markdown",
   "metadata": {},
   "source": [
    "### 3.1.3 Binary feature components"
   ]
  },
  {
   "cell_type": "markdown",
   "metadata": {},
   "source": [
    "We observe that binary feature components (e.g. gender) are often embedded in the ML literature into a higher-dimensional space. However, we are of the opinion that this does not make sense. Hence, we suggest to set binary categorical feature components to $\\pm 1/2$."
   ]
  },
  {
   "cell_type": "markdown",
   "metadata": {},
   "source": [
    "### 3.1.4 Summary"
   ]
  },
  {
   "cell_type": "markdown",
   "metadata": {},
   "source": [
    "As a rule of thumb one could formulate it as follows:\n",
    "- continuous features $\\Rightarrow$ scale to $[-1,+1]$ (if no outliers)\n",
    "- binary features $\\Rightarrow$ set to $\\{-1/2,+1/2 \\}$\n",
    "- categorical features:\n",
    "     * make them numerical $\\Rightarrow$ scale to $[-1,+1]$\n",
    "     * One-hot encoding $\\Rightarrow$ no scaling\n",
    "     * dummy encoding $\\Rightarrow$ no scaling\n",
    "     * embedding $\\Rightarrow$ made numerical and no scaling"
   ]
  },
  {
   "cell_type": "markdown",
   "metadata": {},
   "source": [
    "## 3.2 Pre-processing functions<a name=\"ppNNfct\"></a>"
   ]
  },
  {
   "cell_type": "markdown",
   "metadata": {},
   "source": [
    "In our example we use dummy coding for the feature components VehBrand and Region. We use the MinMaxScaler for Area (after transforming $\\{A,...,F\\}$ $\\mapsto$ $\\{1,...,6\\}$), VehPower, VehAge (after capping at age 20), DrivAge (after capping at age 90), BonusMalus (after capping at level 150) and Density (after first taking the log-transform). VehGas we transform to $\\pm 1/2$ and the volume Exposure $\\in (0,1]$ we keep untransformed."
   ]
  },
  {
   "cell_type": "markdown",
   "metadata": {},
   "source": [
    "Below the corresponding pre-processing functions:"
   ]
  },
  {
   "cell_type": "code",
   "execution_count": 10,
   "metadata": {},
   "outputs": [],
   "source": [
    "# MinMax scaler\n",
    "preprocess_minmax <- function(varData) {\n",
    "  X <- as.numeric(varData)\n",
    "  2 * (X - min(X)) / (max(X) - min(X)) - 1\n",
    "}\n",
    "\n",
    "# Dummy coding \n",
    "preprocess_catdummy <- function(data, varName, prefix) {\n",
    "  varData <- data[[varName]]\n",
    "  X <- as.integer(varData)\n",
    "  n0 <- length(unique(X))\n",
    "  n1 <- 2:n0\n",
    "  addCols <- purrr::map(n1, function(x, y) {as.integer(y == x)}, y = X) %>%\n",
    "    rlang::set_names(paste0(prefix, n1))\n",
    "  cbind(data, addCols)\n",
    "}\n",
    "\n",
    "# Feature pre-processing using MinMax Scaler and Dummy Coding\n",
    "preprocess_features <- function(data) {\n",
    "  data %>%\n",
    "    mutate_at(\n",
    "      c(AreaX = \"Area\", VehPowerX = \"VehPower\", VehAgeX = \"VehAge\",\n",
    "        DrivAgeX = \"DrivAge\", BonusMalusX = \"BonusMalus\", DensityX = \"Density\"),\n",
    "      preprocess_minmax\n",
    "    ) %>%\n",
    "    mutate(\n",
    "      VehGasX = as.integer(VehGas) - 1.5\n",
    "    ) %>%\n",
    "    preprocess_catdummy(\"VehBrand\", \"Br\") %>%\n",
    "    preprocess_catdummy(\"Region\", \"R\")\n",
    "}\n"
   ]
  },
  {
   "cell_type": "markdown",
   "metadata": {},
   "source": [
    "## 3.3 Execute pre-processing<a name=\"ppNNexec\"></a>"
   ]
  },
  {
   "cell_type": "code",
   "execution_count": 11,
   "metadata": {},
   "outputs": [],
   "source": [
    "dat2 <- preprocess_features(dat)"
   ]
  },
  {
   "cell_type": "markdown",
   "metadata": {},
   "source": [
    "## 3.4 Inspect the pre-processed data<a name=\"ppNNinspect\"></a>"
   ]
  },
  {
   "cell_type": "code",
   "execution_count": 12,
   "metadata": {},
   "outputs": [
    {
     "data": {
      "text/html": [
       "<table class=\"dataframe\">\n",
       "<caption>A data.frame: 6 × 52</caption>\n",
       "<thead>\n",
       "\t<tr><th></th><th scope=col>IDpol</th><th scope=col>Exposure</th><th scope=col>Area</th><th scope=col>VehPower</th><th scope=col>VehAge</th><th scope=col>DrivAge</th><th scope=col>BonusMalus</th><th scope=col>VehBrand</th><th scope=col>VehGas</th><th scope=col>Density</th><th scope=col>⋯</th><th scope=col>R13</th><th scope=col>R14</th><th scope=col>R15</th><th scope=col>R16</th><th scope=col>R17</th><th scope=col>R18</th><th scope=col>R19</th><th scope=col>R20</th><th scope=col>R21</th><th scope=col>R22</th></tr>\n",
       "\t<tr><th></th><th scope=col>&lt;dbl&gt;</th><th scope=col>&lt;dbl&gt;</th><th scope=col>&lt;fct&gt;</th><th scope=col>&lt;dbl&gt;</th><th scope=col>&lt;dbl&gt;</th><th scope=col>&lt;dbl&gt;</th><th scope=col>&lt;dbl&gt;</th><th scope=col>&lt;fct&gt;</th><th scope=col>&lt;fct&gt;</th><th scope=col>&lt;dbl&gt;</th><th scope=col>⋯</th><th scope=col>&lt;int&gt;</th><th scope=col>&lt;int&gt;</th><th scope=col>&lt;int&gt;</th><th scope=col>&lt;int&gt;</th><th scope=col>&lt;int&gt;</th><th scope=col>&lt;int&gt;</th><th scope=col>&lt;int&gt;</th><th scope=col>&lt;int&gt;</th><th scope=col>&lt;int&gt;</th><th scope=col>&lt;int&gt;</th></tr>\n",
       "</thead>\n",
       "<tbody>\n",
       "\t<tr><th scope=row>1</th><td> 1</td><td>0.10</td><td>D</td><td>5</td><td>0</td><td>55</td><td>50</td><td>B12</td><td>Regular</td><td>7.10</td><td>⋯</td><td>0</td><td>0</td><td>0</td><td>0</td><td>0</td><td>1</td><td>0</td><td>0</td><td>0</td><td>0</td></tr>\n",
       "\t<tr><th scope=row>2</th><td> 3</td><td>0.77</td><td>D</td><td>5</td><td>0</td><td>55</td><td>50</td><td>B12</td><td>Regular</td><td>7.10</td><td>⋯</td><td>0</td><td>0</td><td>0</td><td>0</td><td>0</td><td>1</td><td>0</td><td>0</td><td>0</td><td>0</td></tr>\n",
       "\t<tr><th scope=row>3</th><td> 5</td><td>0.75</td><td>B</td><td>6</td><td>2</td><td>52</td><td>50</td><td>B12</td><td>Diesel </td><td>3.99</td><td>⋯</td><td>0</td><td>0</td><td>0</td><td>0</td><td>0</td><td>0</td><td>0</td><td>0</td><td>0</td><td>0</td></tr>\n",
       "\t<tr><th scope=row>4</th><td>10</td><td>0.09</td><td>B</td><td>7</td><td>0</td><td>46</td><td>50</td><td>B12</td><td>Diesel </td><td>4.33</td><td>⋯</td><td>0</td><td>0</td><td>1</td><td>0</td><td>0</td><td>0</td><td>0</td><td>0</td><td>0</td><td>0</td></tr>\n",
       "\t<tr><th scope=row>5</th><td>11</td><td>0.84</td><td>B</td><td>7</td><td>0</td><td>46</td><td>50</td><td>B12</td><td>Diesel </td><td>4.33</td><td>⋯</td><td>0</td><td>0</td><td>1</td><td>0</td><td>0</td><td>0</td><td>0</td><td>0</td><td>0</td><td>0</td></tr>\n",
       "\t<tr><th scope=row>6</th><td>13</td><td>0.52</td><td>E</td><td>6</td><td>2</td><td>38</td><td>50</td><td>B12</td><td>Regular</td><td>8.01</td><td>⋯</td><td>0</td><td>0</td><td>0</td><td>0</td><td>0</td><td>0</td><td>0</td><td>0</td><td>0</td><td>0</td></tr>\n",
       "</tbody>\n",
       "</table>\n"
      ],
      "text/latex": [
       "A data.frame: 6 × 52\n",
       "\\begin{tabular}{r|lllllllllllllllllllll}\n",
       "  & IDpol & Exposure & Area & VehPower & VehAge & DrivAge & BonusMalus & VehBrand & VehGas & Density & ⋯ & R13 & R14 & R15 & R16 & R17 & R18 & R19 & R20 & R21 & R22\\\\\n",
       "  & <dbl> & <dbl> & <fct> & <dbl> & <dbl> & <dbl> & <dbl> & <fct> & <fct> & <dbl> & ⋯ & <int> & <int> & <int> & <int> & <int> & <int> & <int> & <int> & <int> & <int>\\\\\n",
       "\\hline\n",
       "\t1 &  1 & 0.10 & D & 5 & 0 & 55 & 50 & B12 & Regular & 7.10 & ⋯ & 0 & 0 & 0 & 0 & 0 & 1 & 0 & 0 & 0 & 0\\\\\n",
       "\t2 &  3 & 0.77 & D & 5 & 0 & 55 & 50 & B12 & Regular & 7.10 & ⋯ & 0 & 0 & 0 & 0 & 0 & 1 & 0 & 0 & 0 & 0\\\\\n",
       "\t3 &  5 & 0.75 & B & 6 & 2 & 52 & 50 & B12 & Diesel  & 3.99 & ⋯ & 0 & 0 & 0 & 0 & 0 & 0 & 0 & 0 & 0 & 0\\\\\n",
       "\t4 & 10 & 0.09 & B & 7 & 0 & 46 & 50 & B12 & Diesel  & 4.33 & ⋯ & 0 & 0 & 1 & 0 & 0 & 0 & 0 & 0 & 0 & 0\\\\\n",
       "\t5 & 11 & 0.84 & B & 7 & 0 & 46 & 50 & B12 & Diesel  & 4.33 & ⋯ & 0 & 0 & 1 & 0 & 0 & 0 & 0 & 0 & 0 & 0\\\\\n",
       "\t6 & 13 & 0.52 & E & 6 & 2 & 38 & 50 & B12 & Regular & 8.01 & ⋯ & 0 & 0 & 0 & 0 & 0 & 0 & 0 & 0 & 0 & 0\\\\\n",
       "\\end{tabular}\n"
      ],
      "text/markdown": [
       "\n",
       "A data.frame: 6 × 52\n",
       "\n",
       "| <!--/--> | IDpol &lt;dbl&gt; | Exposure &lt;dbl&gt; | Area &lt;fct&gt; | VehPower &lt;dbl&gt; | VehAge &lt;dbl&gt; | DrivAge &lt;dbl&gt; | BonusMalus &lt;dbl&gt; | VehBrand &lt;fct&gt; | VehGas &lt;fct&gt; | Density &lt;dbl&gt; | ⋯ ⋯ | R13 &lt;int&gt; | R14 &lt;int&gt; | R15 &lt;int&gt; | R16 &lt;int&gt; | R17 &lt;int&gt; | R18 &lt;int&gt; | R19 &lt;int&gt; | R20 &lt;int&gt; | R21 &lt;int&gt; | R22 &lt;int&gt; |\n",
       "|---|---|---|---|---|---|---|---|---|---|---|---|---|---|---|---|---|---|---|---|---|---|\n",
       "| 1 |  1 | 0.10 | D | 5 | 0 | 55 | 50 | B12 | Regular | 7.10 | ⋯ | 0 | 0 | 0 | 0 | 0 | 1 | 0 | 0 | 0 | 0 |\n",
       "| 2 |  3 | 0.77 | D | 5 | 0 | 55 | 50 | B12 | Regular | 7.10 | ⋯ | 0 | 0 | 0 | 0 | 0 | 1 | 0 | 0 | 0 | 0 |\n",
       "| 3 |  5 | 0.75 | B | 6 | 2 | 52 | 50 | B12 | Diesel  | 3.99 | ⋯ | 0 | 0 | 0 | 0 | 0 | 0 | 0 | 0 | 0 | 0 |\n",
       "| 4 | 10 | 0.09 | B | 7 | 0 | 46 | 50 | B12 | Diesel  | 4.33 | ⋯ | 0 | 0 | 1 | 0 | 0 | 0 | 0 | 0 | 0 | 0 |\n",
       "| 5 | 11 | 0.84 | B | 7 | 0 | 46 | 50 | B12 | Diesel  | 4.33 | ⋯ | 0 | 0 | 1 | 0 | 0 | 0 | 0 | 0 | 0 | 0 |\n",
       "| 6 | 13 | 0.52 | E | 6 | 2 | 38 | 50 | B12 | Regular | 8.01 | ⋯ | 0 | 0 | 0 | 0 | 0 | 0 | 0 | 0 | 0 | 0 |\n",
       "\n"
      ],
      "text/plain": [
       "  IDpol Exposure Area VehPower VehAge DrivAge BonusMalus VehBrand VehGas \n",
       "1  1    0.10     D    5        0      55      50         B12      Regular\n",
       "2  3    0.77     D    5        0      55      50         B12      Regular\n",
       "3  5    0.75     B    6        2      52      50         B12      Diesel \n",
       "4 10    0.09     B    7        0      46      50         B12      Diesel \n",
       "5 11    0.84     B    7        0      46      50         B12      Diesel \n",
       "6 13    0.52     E    6        2      38      50         B12      Regular\n",
       "  Density ⋯ R13 R14 R15 R16 R17 R18 R19 R20 R21 R22\n",
       "1 7.10    ⋯ 0   0   0   0   0   1   0   0   0   0  \n",
       "2 7.10    ⋯ 0   0   0   0   0   1   0   0   0   0  \n",
       "3 3.99    ⋯ 0   0   0   0   0   0   0   0   0   0  \n",
       "4 4.33    ⋯ 0   0   1   0   0   0   0   0   0   0  \n",
       "5 4.33    ⋯ 0   0   1   0   0   0   0   0   0   0  \n",
       "6 8.01    ⋯ 0   0   0   0   0   0   0   0   0   0  "
      ]
     },
     "metadata": {},
     "output_type": "display_data"
    }
   ],
   "source": [
    "head(dat2)"
   ]
  },
  {
   "cell_type": "code",
   "execution_count": 13,
   "metadata": {},
   "outputs": [
    {
     "name": "stdout",
     "output_type": "stream",
     "text": [
      "'data.frame':\t678007 obs. of  52 variables:\n",
      " $ IDpol      : num  1 3 5 10 11 13 15 17 18 21 ...\n",
      " $ Exposure   : num  0.1 0.77 0.75 0.09 0.84 0.52 0.45 0.27 0.71 0.15 ...\n",
      " $ Area       : Factor w/ 6 levels \"A\",\"B\",\"C\",\"D\",..: 4 4 2 2 2 5 5 3 3 2 ...\n",
      " $ VehPower   : num  5 5 6 7 7 6 6 7 7 7 ...\n",
      " $ VehAge     : num  0 0 2 0 0 2 2 0 0 0 ...\n",
      " $ DrivAge    : num  55 55 52 46 46 38 38 33 33 41 ...\n",
      " $ BonusMalus : num  50 50 50 50 50 50 50 68 68 50 ...\n",
      " $ VehBrand   : Factor w/ 11 levels \"B1\",\"B2\",\"B3\",..: 9 9 9 9 9 9 9 9 9 9 ...\n",
      " $ VehGas     : Factor w/ 2 levels \"Diesel\",\"Regular\": 2 2 1 1 1 2 2 1 1 1 ...\n",
      " $ Density    : num  7.1 7.1 3.99 4.33 4.33 8.01 8.01 4.92 4.92 4.09 ...\n",
      " $ Region     : Factor w/ 22 levels \"R11\",\"R21\",\"R22\",..: 18 18 3 15 15 8 8 20 20 12 ...\n",
      " $ ClaimTotal : num  0 0 0 0 0 0 0 0 0 0 ...\n",
      " $ ClaimNb    : num  0 0 0 0 0 0 0 0 0 0 ...\n",
      " $ group_id   : int  1 1 2 3 3 4 4 5 5 6 ...\n",
      " $ AreaX      : num  0.2 0.2 -0.6 -0.6 -0.6 0.6 0.6 -0.2 -0.2 -0.6 ...\n",
      " $ VehPowerX  : num  -0.818 -0.818 -0.636 -0.455 -0.455 ...\n",
      " $ VehAgeX    : num  -1 -1 -0.8 -1 -1 -0.8 -0.8 -1 -1 -1 ...\n",
      " $ DrivAgeX   : num  0.0278 0.0278 -0.0556 -0.2222 -0.2222 ...\n",
      " $ BonusMalusX: num  -1 -1 -1 -1 -1 -1 -1 -0.64 -0.64 -1 ...\n",
      " $ DensityX   : num  0.392 0.392 -0.218 -0.151 -0.151 ...\n",
      " $ VehGasX    : num  0.5 0.5 -0.5 -0.5 -0.5 0.5 0.5 -0.5 -0.5 -0.5 ...\n",
      " $ Br2        : int  0 0 0 0 0 0 0 0 0 0 ...\n",
      " $ Br3        : int  0 0 0 0 0 0 0 0 0 0 ...\n",
      " $ Br4        : int  0 0 0 0 0 0 0 0 0 0 ...\n",
      " $ Br5        : int  0 0 0 0 0 0 0 0 0 0 ...\n",
      " $ Br6        : int  0 0 0 0 0 0 0 0 0 0 ...\n",
      " $ Br7        : int  0 0 0 0 0 0 0 0 0 0 ...\n",
      " $ Br8        : int  0 0 0 0 0 0 0 0 0 0 ...\n",
      " $ Br9        : int  1 1 1 1 1 1 1 1 1 1 ...\n",
      " $ Br10       : int  0 0 0 0 0 0 0 0 0 0 ...\n",
      " $ Br11       : int  0 0 0 0 0 0 0 0 0 0 ...\n",
      " $ R2         : int  0 0 0 0 0 0 0 0 0 0 ...\n",
      " $ R3         : int  0 0 1 0 0 0 0 0 0 0 ...\n",
      " $ R4         : int  0 0 0 0 0 0 0 0 0 0 ...\n",
      " $ R5         : int  0 0 0 0 0 0 0 0 0 0 ...\n",
      " $ R6         : int  0 0 0 0 0 0 0 0 0 0 ...\n",
      " $ R7         : int  0 0 0 0 0 0 0 0 0 0 ...\n",
      " $ R8         : int  0 0 0 0 0 1 1 0 0 0 ...\n",
      " $ R9         : int  0 0 0 0 0 0 0 0 0 0 ...\n",
      " $ R10        : int  0 0 0 0 0 0 0 0 0 0 ...\n",
      " $ R11        : int  0 0 0 0 0 0 0 0 0 0 ...\n",
      " $ R12        : int  0 0 0 0 0 0 0 0 0 1 ...\n",
      " $ R13        : int  0 0 0 0 0 0 0 0 0 0 ...\n",
      " $ R14        : int  0 0 0 0 0 0 0 0 0 0 ...\n",
      " $ R15        : int  0 0 0 1 1 0 0 0 0 0 ...\n",
      " $ R16        : int  0 0 0 0 0 0 0 0 0 0 ...\n",
      " $ R17        : int  0 0 0 0 0 0 0 0 0 0 ...\n",
      " $ R18        : int  1 1 0 0 0 0 0 0 0 0 ...\n",
      " $ R19        : int  0 0 0 0 0 0 0 0 0 0 ...\n",
      " $ R20        : int  0 0 0 0 0 0 0 1 1 0 ...\n",
      " $ R21        : int  0 0 0 0 0 0 0 0 0 0 ...\n",
      " $ R22        : int  0 0 0 0 0 0 0 0 0 0 ...\n"
     ]
    }
   ],
   "source": [
    "str(dat2)"
   ]
  },
  {
   "cell_type": "code",
   "execution_count": 14,
   "metadata": {},
   "outputs": [
    {
     "data": {
      "text/plain": [
       "     IDpol            Exposure        Area          VehPower     \n",
       " Min.   :      1   Min.   :0.002732   A:103957   Min.   : 4.000  \n",
       " 1st Qu.:1157948   1st Qu.:0.180000   B: 75459   1st Qu.: 5.000  \n",
       " Median :2272153   Median :0.490000   C:191880   Median : 6.000  \n",
       " Mean   :2621857   Mean   :0.528547   D:151590   Mean   : 6.455  \n",
       " 3rd Qu.:4046278   3rd Qu.:0.990000   E:137167   3rd Qu.: 7.000  \n",
       " Max.   :6114330   Max.   :1.000000   F: 17954   Max.   :15.000  \n",
       "                                                                 \n",
       "     VehAge          DrivAge       BonusMalus        VehBrand     \n",
       " Min.   : 0.000   Min.   :18.0   Min.   : 50.00   B12    :166024  \n",
       " 1st Qu.: 2.000   1st Qu.:34.0   1st Qu.: 50.00   B1     :162730  \n",
       " Median : 6.000   Median :44.0   Median : 50.00   B2     :159861  \n",
       " Mean   : 6.976   Mean   :45.5   Mean   : 59.76   B3     : 53395  \n",
       " 3rd Qu.:11.000   3rd Qu.:55.0   3rd Qu.: 64.00   B5     : 34753  \n",
       " Max.   :20.000   Max.   :90.0   Max.   :150.00   B6     : 28548  \n",
       "                                                  (Other): 72696  \n",
       "     VehGas          Density           Region         ClaimTotal     \n",
       " Diesel :332136   Min.   : 0.000   R24    :160601   Min.   :      0  \n",
       " Regular:345871   1st Qu.: 4.520   R82    : 84752   1st Qu.:      0  \n",
       "                  Median : 5.970   R93    : 79315   Median :      0  \n",
       "                  Mean   : 5.982   R11    : 69791   Mean   :     88  \n",
       "                  3rd Qu.: 7.410   R53    : 42122   3rd Qu.:      0  \n",
       "                  Max.   :10.200   R52    : 38751   Max.   :4075401  \n",
       "                                   (Other):202675                    \n",
       "    ClaimNb           group_id          AreaX            VehPowerX      \n",
       " Min.   :0.00000   Min.   :     1   Min.   :-1.00000   Min.   :-1.0000  \n",
       " 1st Qu.:0.00000   1st Qu.:149318   1st Qu.:-0.60000   1st Qu.:-0.8182  \n",
       " Median :0.00000   Median :273211   Median :-0.20000   Median :-0.6364  \n",
       " Mean   :0.03891   Mean   :275320   Mean   :-0.08412   Mean   :-0.5537  \n",
       " 3rd Qu.:0.00000   3rd Qu.:404072   3rd Qu.: 0.20000   3rd Qu.:-0.4545  \n",
       " Max.   :4.00000   Max.   :534079   Max.   : 1.00000   Max.   : 1.0000  \n",
       "                                                                        \n",
       "    VehAgeX           DrivAgeX         BonusMalusX         DensityX      \n",
       " Min.   :-1.0000   Min.   :-1.00000   Min.   :-1.0000   Min.   :-1.0000  \n",
       " 1st Qu.:-0.8000   1st Qu.:-0.55556   1st Qu.:-1.0000   1st Qu.:-0.1137  \n",
       " Median :-0.4000   Median :-0.27778   Median :-1.0000   Median : 0.1706  \n",
       " Mean   :-0.3024   Mean   :-0.23620   Mean   :-0.8049   Mean   : 0.1729  \n",
       " 3rd Qu.: 0.1000   3rd Qu.: 0.02778   3rd Qu.:-0.7200   3rd Qu.: 0.4529  \n",
       " Max.   : 1.0000   Max.   : 1.00000   Max.   : 1.0000   Max.   : 1.0000  \n",
       "                                                                         \n",
       "    VehGasX              Br2              Br3               Br4         \n",
       " Min.   :-0.50000   Min.   :0.0000   Min.   :0.00000   Min.   :0.00000  \n",
       " 1st Qu.:-0.50000   1st Qu.:0.0000   1st Qu.:0.00000   1st Qu.:0.00000  \n",
       " Median : 0.50000   Median :0.0000   Median :0.00000   Median :0.00000  \n",
       " Mean   : 0.01013   Mean   :0.2358   Mean   :0.07875   Mean   :0.03714  \n",
       " 3rd Qu.: 0.50000   3rd Qu.:0.0000   3rd Qu.:0.00000   3rd Qu.:0.00000  \n",
       " Max.   : 0.50000   Max.   :1.0000   Max.   :1.00000   Max.   :1.00000  \n",
       "                                                                        \n",
       "      Br5               Br6               Br7               Br8         \n",
       " Min.   :0.00000   Min.   :0.00000   Min.   :0.00000   Min.   :0.00000  \n",
       " 1st Qu.:0.00000   1st Qu.:0.00000   1st Qu.:0.00000   1st Qu.:0.00000  \n",
       " Median :0.00000   Median :0.00000   Median :0.00000   Median :0.00000  \n",
       " Mean   :0.05126   Mean   :0.04211   Mean   :0.02612   Mean   :0.02004  \n",
       " 3rd Qu.:0.00000   3rd Qu.:0.00000   3rd Qu.:0.00000   3rd Qu.:0.00000  \n",
       " Max.   :1.00000   Max.   :1.00000   Max.   :1.00000   Max.   :1.00000  \n",
       "                                                                        \n",
       "      Br9              Br10              Br11                R2          \n",
       " Min.   :0.0000   Min.   :0.00000   Min.   :0.000000   Min.   :0.000000  \n",
       " 1st Qu.:0.0000   1st Qu.:0.00000   1st Qu.:0.000000   1st Qu.:0.000000  \n",
       " Median :0.0000   Median :0.00000   Median :0.000000   Median :0.000000  \n",
       " Mean   :0.2449   Mean   :0.01796   Mean   :0.005969   Mean   :0.004463  \n",
       " 3rd Qu.:0.0000   3rd Qu.:0.00000   3rd Qu.:0.000000   3rd Qu.:0.000000  \n",
       " Max.   :1.0000   Max.   :1.00000   Max.   :1.000000   Max.   :1.000000  \n",
       "                                                                         \n",
       "       R3                R4                R5               R6         \n",
       " Min.   :0.00000   Min.   :0.00000   Min.   :0.0000   Min.   :0.00000  \n",
       " 1st Qu.:0.00000   1st Qu.:0.00000   1st Qu.:0.0000   1st Qu.:0.00000  \n",
       " Median :0.00000   Median :0.00000   Median :0.0000   Median :0.00000  \n",
       " Mean   :0.01179   Mean   :0.01296   Mean   :0.2369   Mean   :0.01607  \n",
       " 3rd Qu.:0.00000   3rd Qu.:0.00000   3rd Qu.:0.0000   3rd Qu.:0.00000  \n",
       " Max.   :1.00000   Max.   :1.00000   Max.   :1.0000   Max.   :1.00000  \n",
       "                                                                       \n",
       "       R7                R8                R9               R10          \n",
       " Min.   :0.00000   Min.   :0.00000   Min.   :0.00000   Min.   :0.000000  \n",
       " 1st Qu.:0.00000   1st Qu.:0.00000   1st Qu.:0.00000   1st Qu.:0.000000  \n",
       " Median :0.00000   Median :0.00000   Median :0.00000   Median :0.000000  \n",
       " Mean   :0.01547   Mean   :0.04024   Mean   :0.01916   Mean   :0.003245  \n",
       " 3rd Qu.:0.00000   3rd Qu.:0.00000   3rd Qu.:0.00000   3rd Qu.:0.000000  \n",
       " Max.   :1.00000   Max.   :1.00000   Max.   :1.00000   Max.   :1.000000  \n",
       "                                                                         \n",
       "      R11                R12               R13               R14         \n",
       " Min.   :0.000000   Min.   :0.00000   Min.   :0.00000   Min.   :0.00000  \n",
       " 1st Qu.:0.000000   1st Qu.:0.00000   1st Qu.:0.00000   1st Qu.:0.00000  \n",
       " Median :0.000000   Median :0.00000   Median :0.00000   Median :0.00000  \n",
       " Mean   :0.001956   Mean   :0.05715   Mean   :0.06213   Mean   :0.02809  \n",
       " 3rd Qu.:0.000000   3rd Qu.:0.00000   3rd Qu.:0.00000   3rd Qu.:0.00000  \n",
       " Max.   :1.000000   Max.   :1.00000   Max.   :1.00000   Max.   :1.00000  \n",
       "                                                                         \n",
       "      R15               R16               R17                R18       \n",
       " Min.   :0.00000   Min.   :0.00000   Min.   :0.000000   Min.   :0.000  \n",
       " 1st Qu.:0.00000   1st Qu.:0.00000   1st Qu.:0.000000   1st Qu.:0.000  \n",
       " Median :0.00000   Median :0.00000   Median :0.000000   Median :0.000  \n",
       " Mean   :0.04621   Mean   :0.02528   Mean   :0.006736   Mean   :0.125  \n",
       " 3rd Qu.:0.00000   3rd Qu.:0.00000   3rd Qu.:0.000000   3rd Qu.:0.000  \n",
       " Max.   :1.00000   Max.   :1.00000   Max.   :1.000000   Max.   :1.000  \n",
       "                                                                       \n",
       "      R19                R20              R21             R22          \n",
       " Min.   :0.000000   Min.   :0.0000   Min.   :0.000   Min.   :0.000000  \n",
       " 1st Qu.:0.000000   1st Qu.:0.0000   1st Qu.:0.000   1st Qu.:0.000000  \n",
       " Median :0.000000   Median :0.0000   Median :0.000   Median :0.000000  \n",
       " Mean   :0.007798   Mean   :0.0528   Mean   :0.117   Mean   :0.006661  \n",
       " 3rd Qu.:0.000000   3rd Qu.:0.0000   3rd Qu.:0.000   3rd Qu.:0.000000  \n",
       " Max.   :1.000000   Max.   :1.0000   Max.   :1.000   Max.   :1.000000  \n",
       "                                                                       "
      ]
     },
     "metadata": {},
     "output_type": "display_data"
    }
   ],
   "source": [
    "summary(dat2)"
   ]
  },
  {
   "cell_type": "markdown",
   "metadata": {},
   "source": [
    "## 3.5 Split train and test data<a name=\"splitraintest\"></a>"
   ]
  },
  {
   "cell_type": "markdown",
   "metadata": {},
   "source": [
    "First, we split the dataset into train and test. Due to the potential grouping of rows in policies we can not just do a random split. For this purpose, we use the function `partition(...)` from the `splitTools` package."
   ]
  },
  {
   "cell_type": "code",
   "execution_count": 15,
   "metadata": {},
   "outputs": [],
   "source": [
    "ind <- partition(dat2[[\"group_id\"]], p = c(train = 0.8, test = 0.2), \n",
    "                 seed = seed, type = \"grouped\")\n",
    "train <- dat2[ind$train, ]\n",
    "test <- dat2[ind$test, ]"
   ]
  },
  {
   "cell_type": "code",
   "execution_count": 16,
   "metadata": {},
   "outputs": [
    {
     "data": {
      "text/html": [
       "'Number of observations (train): 542331'"
      ],
      "text/latex": [
       "'Number of observations (train): 542331'"
      ],
      "text/markdown": [
       "'Number of observations (train): 542331'"
      ],
      "text/plain": [
       "[1] \"Number of observations (train): 542331\""
      ]
     },
     "metadata": {},
     "output_type": "display_data"
    },
    {
     "data": {
      "text/html": [
       "'Number of observations (test): 135676'"
      ],
      "text/latex": [
       "'Number of observations (test): 135676'"
      ],
      "text/markdown": [
       "'Number of observations (test): 135676'"
      ],
      "text/plain": [
       "[1] \"Number of observations (test): 135676\""
      ]
     },
     "metadata": {},
     "output_type": "display_data"
    },
    {
     "data": {
      "text/html": [
       "'Empirical frequency (train): 0.0736'"
      ],
      "text/latex": [
       "'Empirical frequency (train): 0.0736'"
      ],
      "text/markdown": [
       "'Empirical frequency (train): 0.0736'"
      ],
      "text/plain": [
       "[1] \"Empirical frequency (train): 0.0736\""
      ]
     },
     "metadata": {},
     "output_type": "display_data"
    },
    {
     "data": {
      "text/html": [
       "'Empirical frequency (test): 0.0736'"
      ],
      "text/latex": [
       "'Empirical frequency (test): 0.0736'"
      ],
      "text/markdown": [
       "'Empirical frequency (test): 0.0736'"
      ],
      "text/plain": [
       "[1] \"Empirical frequency (test): 0.0736\""
      ]
     },
     "metadata": {},
     "output_type": "display_data"
    }
   ],
   "source": [
    "# size of train/test\n",
    "sprintf(\"Number of observations (train): %s\", nrow(train))\n",
    "sprintf(\"Number of observations (test): %s\", nrow(test))\n",
    "\n",
    "# Claims frequency of train/test\n",
    "sprintf(\"Empirical frequency (train): %s\", round(sum(train$ClaimNb) / sum(train$Exposure), 4))\n",
    "sprintf(\"Empirical frequency (test): %s\", round(sum(test$ClaimNb) / sum(test$Exposure), 4))"
   ]
  },
  {
   "cell_type": "markdown",
   "metadata": {},
   "source": [
    "## 3.6 Common neural network specifications<a name=\"ppNNspec\"></a>"
   ]
  },
  {
   "cell_type": "markdown",
   "metadata": {},
   "source": [
    "In this section, we define objects and parameters which are used for all subsequent neural networks considered, independent of their network structure."
   ]
  },
  {
   "cell_type": "markdown",
   "metadata": {},
   "source": [
    "We need to define which components in the pre-processed dataset `dat2` are used as input features. As we have added the pre-processed features appropriate for the neural networks to the original features, we only must use the relevant ones."
   ]
  },
  {
   "cell_type": "code",
   "execution_count": 17,
   "metadata": {},
   "outputs": [
    {
     "name": "stdout",
     "output_type": "stream",
     "text": [
      " [1] \"AreaX\"       \"VehPowerX\"   \"VehAgeX\"     \"DrivAgeX\"    \"BonusMalusX\"\n",
      " [6] \"DensityX\"    \"VehGasX\"     \"Br2\"         \"Br3\"         \"Br4\"        \n",
      "[11] \"Br5\"         \"Br6\"         \"Br7\"         \"Br8\"         \"Br9\"        \n",
      "[16] \"Br10\"        \"Br11\"        \"R2\"          \"R3\"          \"R4\"         \n",
      "[21] \"R5\"          \"R6\"          \"R7\"          \"R8\"          \"R9\"         \n",
      "[26] \"R10\"         \"R11\"         \"R12\"         \"R13\"         \"R14\"        \n",
      "[31] \"R15\"         \"R16\"         \"R17\"         \"R18\"         \"R19\"        \n",
      "[36] \"R20\"         \"R21\"         \"R22\"        \n"
     ]
    }
   ],
   "source": [
    "# select the feature space\n",
    "col_start <- ncol(dat) + 1\n",
    "col_end <- ncol(dat2)\n",
    "features <- c(col_start:col_end) # select features, be careful if pre-processing changes\n",
    "print(colnames(train[, features]))"
   ]
  },
  {
   "cell_type": "markdown",
   "metadata": {},
   "source": [
    "The input to keras requires the train and testing data to be of matrix format, including all features used in the matrix and already correctly pre-processed."
   ]
  },
  {
   "cell_type": "code",
   "execution_count": 18,
   "metadata": {},
   "outputs": [],
   "source": [
    "# feature matrix\n",
    "Xtrain <- as.matrix(train[, features])  # design matrix training sample\n",
    "Xtest <- as.matrix(test[, features])    # design matrix test sample"
   ]
  },
  {
   "cell_type": "markdown",
   "metadata": {},
   "source": [
    "# 4. Designing neural networks<a name=\"DsgNN\"></a>"
   ]
  },
  {
   "cell_type": "markdown",
   "metadata": {},
   "source": [
    "The choice of a particular network architecture and its calibration involve many steps. In each of these steps the modeler has to make\n",
    "certain decisions, and it may require that each of these decisions is revised several times in order to get the best (or more modestly a good) predictive model.\n",
    "\n",
    "In this section we provide a short explanation on the ones explicitly used below. We refer to this tutorial on [SSRN](https://papers.ssrn.com/sol3/papers.cfm?abstract_id=3226852) and further literature (provided below in the last chapter) to learn more about these hyperparameters and the way to choose the right architecture.\n",
    "\n",
    "The tutorial covers the choice of a particular network architecture and its calibration. In each of these steps the modeler has to make\n",
    "certain decisions, and it may require that each of these decisions is revised several times in order to get the best (or more modestly a good) predictive model. The choices involve:"
   ]
  },
  {
   "cell_type": "markdown",
   "metadata": {},
   "source": [
    "![2_fnn](Figure_DesignDecisions.PNG)"
   ]
  },
  {
   "cell_type": "markdown",
   "metadata": {},
   "source": [
    "## 4.1 Gradient descent methods <a name=\"gdm\"></a>"
   ]
  },
  {
   "cell_type": "markdown",
   "metadata": {},
   "source": [
    "There are seval optimizers availble to find the solution to a neural networks, a short description as follows:\n",
    "\n",
    "- The stochastic gradient descent method, called 'sgd', can be fine-tuned for the speed of convergence by using optimal learning rates, momentum-based improvements, the Nesterov acceleration and optimal batches. `stochastic' gradient means that in contrast to (steepest) gradient descent, we explore locally optimally steps on random sub-samples\n",
    "- 'adagrad' chooses learning rates that differ in all directions of the gradient and that consider\n",
    "the directional sizes of the gradients ('ada' stands for adapted);\n",
    "- 'adadelta' is a modi\f",
    "ed version of 'adagrad' that overcomes some deficiencies of the latter,\n",
    "for instance, the sensitivity to hyperparameters;\n",
    "- 'rmsprop' is another method to overcome the deficiencies of 'adagrad' ('rmsprop' stands\n",
    "for root mean square propagation);\n",
    "- 'adam' stands for adaptive moment estimation, similar to 'adagrad' it searches for directionally\n",
    "optimal learning rates based on the momentum induced by past gradients\n",
    "measured by an `2-norm;\n",
    "- 'adamax' considers optimal learning rates as 'adam' but based on the $l_1$-norm;\n",
    "- 'nadam' is a Nesterov accelerated version of 'adam'."
   ]
  },
  {
   "cell_type": "markdown",
   "metadata": {},
   "source": [
    "In the tutorial on [SSRN](https://papers.ssrn.com/sol3/papers.cfm?abstract_id=3226852), chapter 4 the performance of the various optimizers are analyzed. The study shows that `nadam` is a good candiate to be used."
   ]
  },
  {
   "cell_type": "code",
   "execution_count": 19,
   "metadata": {},
   "outputs": [],
   "source": [
    "# available optimizers for keras\n",
    "# https://keras.io/optimizers/\n",
    "optimizers <- c('sgd', 'adagrad', 'adadelta', 'rmsprop', 'adam', 'adamax', 'nadam')"
   ]
  },
  {
   "cell_type": "markdown",
   "metadata": {},
   "source": [
    "## 4.2 Epochs and batches<a name=\"epbatch\"></a>"
   ]
  },
  {
   "cell_type": "markdown",
   "metadata": {},
   "source": [
    "Epochs indicates how many times we go through the entire learning data $\\mathcal{D}$, and batch size indicates the size of the subsamples considered in each Gradient Descent Method (GDM) step. Thus, if the batch size is equal to the number of observations $n$ we do exactly one GDM step in one epoch, if the batch size is equal to 1 then we do n GDM steps in one epoch until we have seen the entire learning data  $\\mathcal{D}$. Note that smaller batches are needed for big data because it is not feasible to simultaneously calculate the gradient on all data efficiently if we have many observations. Therefore, we partition the entire data at random into (mini-) batches in the application of the GDM. Note that this partitioning of the data is of particular interest if we work with big data because it allows us to explore the data sequentially."
   ]
  },
  {
   "cell_type": "markdown",
   "metadata": {},
   "source": [
    "Concretly, for the maximal batch size $n$ we can do exactly one GDM step in one epoch, for batch size $k$ we can do $n/k$ GDM steps in one epoch. For the maximal batch size we need to calculate the gradient on the entire data $\\mathcal{D}$. The latter is, of course, much faster but on the other hand we need to calculate $n/k$ gradients to run through the entire data (in an epoch)."
   ]
  },
  {
   "cell_type": "markdown",
   "metadata": {},
   "source": [
    "The partitioning of the data  $\\mathcal{D}$ into batches is done at random, and it may happen that several potential outliers lie in the same batch. This happens especially if the chosen batch size is small and the expected frequency is low (class imbalance problem)."
   ]
  },
  {
   "cell_type": "markdown",
   "metadata": {},
   "source": [
    "## 4.3 Initialization<a name=\"init\"></a>"
   ]
  },
  {
   "cell_type": "markdown",
   "metadata": {},
   "source": [
    "A simple way to bring the initial network onto the right price level is to embed the homogeneous model into the neural network. This can be achieved by setting the output weights of the neurons equal to zero, and by initializing the output intercept to the homogeneous model. This is obtained subsequently by the code part defining the $\\mathtt{weights}$."
   ]
  },
  {
   "cell_type": "code",
   "execution_count": 20,
   "metadata": {},
   "outputs": [],
   "source": [
    "# homogeneous model (train)\n",
    "lambda_hom <- sum(train$ClaimNb) / sum(train$Exposure)"
   ]
  },
  {
   "cell_type": "markdown",
   "metadata": {},
   "source": [
    "## 4.4 Activation function<a name=\"actfct\"></a>"
   ]
  },
  {
   "cell_type": "markdown",
   "metadata": {},
   "source": [
    "Next we discuss the choice of activation function $\\phi(\\cdot)$ Typical choices of activation functions are:"
   ]
  },
  {
   "cell_type": "markdown",
   "metadata": {},
   "source": [
    "![2_fnn](Figure_ActivFunc.PNG)"
   ]
  },
  {
   "cell_type": "markdown",
   "metadata": {},
   "source": [
    "The particular choice of the activation function may matter: calibration of deep networks may be slightly simpler if we choose the hyperbolic tangent activation because this will guarantee that all hidden neurons are in $(-1,+1)$, which is the domain of the main activation of the neurons in the next layer.\n",
    "\n",
    "The step function activation is useful for theoretical considerations. From a practical point of view it is less useful because it is not differentiable and difficult to calibrate. Moreover, the discontinuity also implies that neighboring feature components may have rather different regression function responses: if the step function jumps, say, between driver's ages 48 and 49, then these two driver's ages may have a rather different insurance premium. For these reasons we do not pursue with the step function activation here.\n",
    "\n",
    "We remark that the ReLU activation function often leads to sparsity in deep network activations because some neurons remain unactivated for the entire input. Such an effect may be wanted because it reduces the complexity of the regression model, but it can also be an undesired side effect because it may increase the diffculty in model calibration because of more vanishing gradients. Moreover, ReLU may lead to arbitrarily large activations in neurons because it is an unbounded activation function, this may be an unwanted effect because it may need re-scaling of  activations to the main domain around the origin."
   ]
  },
  {
   "cell_type": "markdown",
   "metadata": {},
   "source": [
    "# 5. Generalized Linear Model using `keras(...)`<a name=\"M1\"></a>"
   ]
  },
  {
   "cell_type": "markdown",
   "metadata": {},
   "source": [
    "## 5.1 Definition<a name=\"M1def\"></a>"
   ]
  },
  {
   "cell_type": "code",
   "execution_count": 21,
   "metadata": {},
   "outputs": [
    {
     "data": {
      "text/html": [
       "'Neural network with K=0 hidden layer'"
      ],
      "text/latex": [
       "'Neural network with K=0 hidden layer'"
      ],
      "text/markdown": [
       "'Neural network with K=0 hidden layer'"
      ],
      "text/plain": [
       "[1] \"Neural network with K=0 hidden layer\""
      ]
     },
     "metadata": {},
     "output_type": "display_data"
    },
    {
     "data": {
      "text/html": [
       "'Input feature dimension: q0 = 38'"
      ],
      "text/latex": [
       "'Input feature dimension: q0 = 38'"
      ],
      "text/markdown": [
       "'Input feature dimension: q0 = 38'"
      ],
      "text/plain": [
       "[1] \"Input feature dimension: q0 = 38\""
      ]
     },
     "metadata": {},
     "output_type": "display_data"
    },
    {
     "data": {
      "text/html": [
       "'Output dimension: 1'"
      ],
      "text/latex": [
       "'Output dimension: 1'"
      ],
      "text/markdown": [
       "'Output dimension: 1'"
      ],
      "text/plain": [
       "[1] \"Output dimension: 1\""
      ]
     },
     "metadata": {},
     "output_type": "display_data"
    }
   ],
   "source": [
    "# define network and load pre-specified weights\n",
    "q0 <- length(features)                  # dimension of features\n",
    "\n",
    "sprintf(\"Neural network with K=0 hidden layer\")\n",
    "sprintf(\"Input feature dimension: q0 = %s\", q0)\n",
    "sprintf(\"Output dimension: %s\", 1)"
   ]
  },
  {
   "cell_type": "code",
   "execution_count": 22,
   "metadata": {},
   "outputs": [],
   "source": [
    "# set seeds for reproducability of model fit\n",
    "# needs to be set before the keras_model function!\n",
    "Sys.setenv(PYTHONHASHSEED = seed)\n",
    "set.seed(seed)\n",
    "reticulate::py_set_seed(seed)\n",
    "tensorflow::tf$random$set_seed(seed)"
   ]
  },
  {
   "cell_type": "code",
   "execution_count": 23,
   "metadata": {},
   "outputs": [],
   "source": [
    "Design  <- layer_input(shape = c(q0), dtype = 'float32', name = 'Design') \n",
    "LogVol  <- layer_input(shape = c(1), dtype = 'float32', name = 'LogVol')\n",
    "\n",
    "Network <- Design %>%\n",
    "  layer_dense(units = 1, activation = 'linear', name = 'Network',\n",
    "              weights = list(array(0, dim = c(q0, 1)), array(log(lambda_hom), dim = c(1))))\n",
    "\n",
    "Response <- list(Network, LogVol) %>%\n",
    "  layer_add(name = 'Add') %>%\n",
    "  layer_dense(units = 1, activation = k_exp, name = 'Response', trainable = FALSE,\n",
    "              weights = list(array(1, dim = c(1, 1)), array(0, dim = c(1))))\n",
    "\n",
    "model_glm <- keras_model(inputs = c(Design, LogVol), outputs = c(Response))"
   ]
  },
  {
   "cell_type": "markdown",
   "metadata": {},
   "source": [
    "## 5.2 Compilation<a name=\"M1com\"></a>"
   ]
  },
  {
   "cell_type": "code",
   "execution_count": 24,
   "metadata": {},
   "outputs": [
    {
     "name": "stdout",
     "output_type": "stream",
     "text": [
      "Model: \"model\"\n",
      "________________________________________________________________________________\n",
      "Layer (type)              Output Shape      Param #  Connected to               \n",
      "================================================================================\n",
      "Design (InputLayer)       [(None, 38)]      0                                   \n",
      "________________________________________________________________________________\n",
      "Network (Dense)           (None, 1)         39       Design[0][0]               \n",
      "________________________________________________________________________________\n",
      "LogVol (InputLayer)       [(None, 1)]       0                                   \n",
      "________________________________________________________________________________\n",
      "Add (Add)                 (None, 1)         0        Network[0][0]              \n",
      "                                                     LogVol[0][0]               \n",
      "________________________________________________________________________________\n",
      "Response (Dense)          (None, 1)         2        Add[0][0]                  \n",
      "================================================================================\n",
      "Total params: 41\n",
      "Trainable params: 39\n",
      "Non-trainable params: 2\n",
      "________________________________________________________________________________\n"
     ]
    }
   ],
   "source": [
    "model_glm %>% compile(\n",
    "  loss = 'poisson',\n",
    "  optimizer = optimizers[7]\n",
    ")\n",
    "\n",
    "summary(model_glm)"
   ]
  },
  {
   "cell_type": "markdown",
   "metadata": {},
   "source": [
    "## 5.3 Fitting<a name=\"M1fit\"></a>"
   ]
  },
  {
   "cell_type": "code",
   "execution_count": 25,
   "metadata": {},
   "outputs": [],
   "source": [
    "# set hyperparameters\n",
    "epochs <- 2800\n",
    "batch_size <- nrow(Xtrain)\n",
    "validation_split <- 0 # set to >0 to see train/validation loss in plot(fit)\n",
    "verbose <- 1"
   ]
  },
  {
   "cell_type": "code",
   "execution_count": 26,
   "metadata": {},
   "outputs": [
    {
     "data": {
      "text/html": [
       "<style>\n",
       ".dl-inline {width: auto; margin:0; padding: 0}\n",
       ".dl-inline>dt, .dl-inline>dd {float: none; width: auto; display: inline-block}\n",
       ".dl-inline>dt::after {content: \":\\0020\"; padding-right: .5ex}\n",
       ".dl-inline>dt:not(:first-of-type) {padding-left: .5ex}\n",
       "</style><dl class=dl-inline><dt>user.self</dt><dd>1167.459</dd><dt>sys.self</dt><dd>199.457</dd><dt>elapsed</dt><dd>244.315</dd><dt>user.child</dt><dd>0</dd><dt>sys.child</dt><dd>0</dd></dl>\n"
      ],
      "text/latex": [
       "\\begin{description*}\n",
       "\\item[user.self] 1167.459\n",
       "\\item[sys.self] 199.457\n",
       "\\item[elapsed] 244.315\n",
       "\\item[user.child] 0\n",
       "\\item[sys.child] 0\n",
       "\\end{description*}\n"
      ],
      "text/markdown": [
       "user.self\n",
       ":   1167.459sys.self\n",
       ":   199.457elapsed\n",
       ":   244.315user.child\n",
       ":   0sys.child\n",
       ":   0\n",
       "\n"
      ],
      "text/plain": [
       " user.self   sys.self    elapsed user.child  sys.child \n",
       "  1167.459    199.457    244.315      0.000      0.000 "
      ]
     },
     "metadata": {},
     "output_type": "display_data"
    }
   ],
   "source": [
    "# expected run-time on Renku 8GB environment around 70 seconds\n",
    "exec_time <- system.time(\n",
    "  fit <- model_glm %>% fit(\n",
    "    list(Xtrain, as.matrix(log(train$Exposure))), as.matrix(train$ClaimNb),\n",
    "    epochs = epochs,\n",
    "    batch_size = batch_size,\n",
    "    validation_split = validation_split,\n",
    "    verbose = verbose,\n",
    "    callbacks = list(callback_early_stopping(patience=5))\n",
    "  )\n",
    ")\n",
    "exec_time[1:5]"
   ]
  },
  {
   "cell_type": "code",
   "execution_count": 27,
   "metadata": {},
   "outputs": [
    {
     "name": "stderr",
     "output_type": "stream",
     "text": [
      "`geom_smooth()` using formula 'y ~ x'\n",
      "\n"
     ]
    },
    {
     "data": {
      "image/png": "[encoded data removed]",
      "text/plain": [
       "plot without title"
      ]
     },
     "metadata": {
      "image/png": {
       "height": 420,
       "width": 420
      }
     },
     "output_type": "display_data"
    }
   ],
   "source": [
    "plot(fit)"
   ]
  },
  {
   "cell_type": "markdown",
   "metadata": {},
   "source": [
    "## 5.4 Validation<a name=\"M1val\"></a>"
   ]
  },
  {
   "cell_type": "code",
   "execution_count": 28,
   "metadata": {},
   "outputs": [
    {
     "data": {
      "text/html": [
       "'100 x Poisson deviance shallow network (train): 24.1578577334396'"
      ],
      "text/latex": [
       "'100 x Poisson deviance shallow network (train): 24.1578577334396'"
      ],
      "text/markdown": [
       "'100 x Poisson deviance shallow network (train): 24.1578577334396'"
      ],
      "text/plain": [
       "[1] \"100 x Poisson deviance shallow network (train): 24.1578577334396\""
      ]
     },
     "metadata": {},
     "output_type": "display_data"
    },
    {
     "data": {
      "text/html": [
       "'100 x Poisson deviance shallow network (test): 24.2342830372812'"
      ],
      "text/latex": [
       "'100 x Poisson deviance shallow network (test): 24.2342830372812'"
      ],
      "text/markdown": [
       "'100 x Poisson deviance shallow network (test): 24.2342830372812'"
      ],
      "text/plain": [
       "[1] \"100 x Poisson deviance shallow network (test): 24.2342830372812\""
      ]
     },
     "metadata": {},
     "output_type": "display_data"
    },
    {
     "data": {
      "text/html": [
       "'Average frequency (test): 0.0737'"
      ],
      "text/latex": [
       "'Average frequency (test): 0.0737'"
      ],
      "text/markdown": [
       "'Average frequency (test): 0.0737'"
      ],
      "text/plain": [
       "[1] \"Average frequency (test): 0.0737\""
      ]
     },
     "metadata": {},
     "output_type": "display_data"
    }
   ],
   "source": [
    "# calculating the predictions\n",
    "train$fitglmNN <- as.vector(model_glm %>% predict(list(Xtrain, as.matrix(log(train$Exposure)))))\n",
    "test$fitglmNN <- as.vector(model_glm %>% predict(list(Xtest, as.matrix(log(test$Exposure)))))\n",
    "\n",
    "# average in-sample and out-of-sample losses (in 10^(-2))\n",
    "sprintf(\"100 x Poisson deviance shallow network (train): %s\", PoissonDeviance(train$fitglmNN, train$ClaimNb))\n",
    "sprintf(\"100 x Poisson deviance shallow network (test): %s\", PoissonDeviance(test$fitglmNN, test$ClaimNb))\n",
    "\n",
    "# average frequency\n",
    "sprintf(\"Average frequency (test): %s\", round(sum(test$fitglmNN) / sum(test$Exposure), 4))"
   ]
  },
  {
   "cell_type": "code",
   "execution_count": 29,
   "metadata": {},
   "outputs": [
    {
     "data": {
      "text/html": [
       "<table class=\"dataframe\">\n",
       "<caption>A tibble: 1 × 7</caption>\n",
       "<thead>\n",
       "\t<tr><th scope=col>model</th><th scope=col>epochs</th><th scope=col>run_time</th><th scope=col>parameters</th><th scope=col>in_sample_loss</th><th scope=col>out_sample_loss</th><th scope=col>avg_freq</th></tr>\n",
       "\t<tr><th scope=col>&lt;chr&gt;</th><th scope=col>&lt;dbl&gt;</th><th scope=col>&lt;dbl&gt;</th><th scope=col>&lt;dbl&gt;</th><th scope=col>&lt;dbl&gt;</th><th scope=col>&lt;dbl&gt;</th><th scope=col>&lt;dbl&gt;</th></tr>\n",
       "</thead>\n",
       "<tbody>\n",
       "\t<tr><td>GLM with keras</td><td>2800</td><td>244</td><td>39</td><td>24.1579</td><td>24.2343</td><td>0.0737</td></tr>\n",
       "</tbody>\n",
       "</table>\n"
      ],
      "text/latex": [
       "A tibble: 1 × 7\n",
       "\\begin{tabular}{lllllll}\n",
       " model & epochs & run\\_time & parameters & in\\_sample\\_loss & out\\_sample\\_loss & avg\\_freq\\\\\n",
       " <chr> & <dbl> & <dbl> & <dbl> & <dbl> & <dbl> & <dbl>\\\\\n",
       "\\hline\n",
       "\t GLM with keras & 2800 & 244 & 39 & 24.1579 & 24.2343 & 0.0737\\\\\n",
       "\\end{tabular}\n"
      ],
      "text/markdown": [
       "\n",
       "A tibble: 1 × 7\n",
       "\n",
       "| model &lt;chr&gt; | epochs &lt;dbl&gt; | run_time &lt;dbl&gt; | parameters &lt;dbl&gt; | in_sample_loss &lt;dbl&gt; | out_sample_loss &lt;dbl&gt; | avg_freq &lt;dbl&gt; |\n",
       "|---|---|---|---|---|---|---|\n",
       "| GLM with keras | 2800 | 244 | 39 | 24.1579 | 24.2343 | 0.0737 |\n",
       "\n"
      ],
      "text/plain": [
       "  model          epochs run_time parameters in_sample_loss out_sample_loss\n",
       "1 GLM with keras 2800   244      39         24.1579        24.2343        \n",
       "  avg_freq\n",
       "1 0.0737  "
      ]
     },
     "metadata": {},
     "output_type": "display_data"
    }
   ],
   "source": [
    "trainable_params <- sum(unlist(lapply(model_glm$trainable_weights, k_count_params)))\n",
    "df_cmp %<>% bind_rows(\n",
    "  data.frame(model = \"GLM with keras\", epochs = epochs,\n",
    "             run_time = round(exec_time[[3]], 0), parameters = trainable_params,\n",
    "             in_sample_loss = round(PoissonDeviance(train$fitglmNN, train$ClaimNb), 4),\n",
    "             out_sample_loss = round(PoissonDeviance(test$fitglmNN, test$ClaimNb), 4),\n",
    "             avg_freq = round(sum(test$fitglmNN) / sum(test$Exposure), 4)\n",
    "  ))\n",
    "\n",
    "df_cmp"
   ]
  },
  {
   "cell_type": "markdown",
   "metadata": {},
   "source": [
    "# 6. Generalized Linear Model using `glm(...)`<a name=\"M2\"></a>"
   ]
  },
  {
   "cell_type": "markdown",
   "metadata": {},
   "source": [
    "## 6.1 Fitting<a name=\"M2fit\"></a>"
   ]
  },
  {
   "cell_type": "code",
   "execution_count": 30,
   "metadata": {},
   "outputs": [
    {
     "data": {
      "text/html": [
       "<style>\n",
       ".dl-inline {width: auto; margin:0; padding: 0}\n",
       ".dl-inline>dt, .dl-inline>dd {float: none; width: auto; display: inline-block}\n",
       ".dl-inline>dt::after {content: \":\\0020\"; padding-right: .5ex}\n",
       ".dl-inline>dt:not(:first-of-type) {padding-left: .5ex}\n",
       "</style><dl class=dl-inline><dt>user.self</dt><dd>11.425</dd><dt>sys.self</dt><dd>1.46599999999998</dd><dt>elapsed</dt><dd>12.906</dd><dt>user.child</dt><dd>0</dd><dt>sys.child</dt><dd>0</dd></dl>\n"
      ],
      "text/latex": [
       "\\begin{description*}\n",
       "\\item[user.self] 11.425\n",
       "\\item[sys.self] 1.46599999999998\n",
       "\\item[elapsed] 12.906\n",
       "\\item[user.child] 0\n",
       "\\item[sys.child] 0\n",
       "\\end{description*}\n"
      ],
      "text/markdown": [
       "user.self\n",
       ":   11.425sys.self\n",
       ":   1.46599999999998elapsed\n",
       ":   12.906user.child\n",
       ":   0sys.child\n",
       ":   0\n",
       "\n"
      ],
      "text/plain": [
       " user.self   sys.self    elapsed user.child  sys.child \n",
       "    11.425      1.466     12.906      0.000      0.000 "
      ]
     },
     "metadata": {},
     "output_type": "display_data"
    },
    {
     "data": {
      "text/plain": [
       "\n",
       "Call:\n",
       "glm(formula = ClaimNb ~ AreaX + VehPowerX + VehAgeX + DrivAgeX + \n",
       "    BonusMalusX + DensityX + VehGasX + VehBrand + Region, family = poisson(), \n",
       "    data = train, offset = log(Exposure))\n",
       "\n",
       "Deviance Residuals: \n",
       "    Min       1Q   Median       3Q      Max  \n",
       "-1.3729  -0.3255  -0.2472  -0.1396   6.9156  \n",
       "\n",
       "Coefficients:\n",
       "             Estimate Std. Error z value Pr(>|z|)    \n",
       "(Intercept) -1.497636   0.041189 -36.360  < 2e-16 ***\n",
       "AreaX        0.116014   0.053222   2.180  0.02927 *  \n",
       "VehPowerX    0.188582   0.020202   9.335  < 2e-16 ***\n",
       "VehAgeX     -0.173527   0.014874 -11.666  < 2e-16 ***\n",
       "DrivAgeX     0.229850   0.018739  12.266  < 2e-16 ***\n",
       "BonusMalusX  1.345937   0.019390  69.413  < 2e-16 ***\n",
       "DensityX     0.193388   0.080645   2.398  0.01648 *  \n",
       "VehGasX     -0.157057   0.014246 -11.024  < 2e-16 ***\n",
       "VehBrandB2  -0.015839   0.019244  -0.823  0.41049    \n",
       "VehBrandB3   0.051440   0.026613   1.933  0.05325 .  \n",
       "VehBrandB4   0.050664   0.036061   1.405  0.16003    \n",
       "VehBrandB5   0.093294   0.030544   3.054  0.00225 ** \n",
       "VehBrandB6   0.011863   0.034837   0.341  0.73346    \n",
       "VehBrandB10  0.006627   0.044026   0.151  0.88035    \n",
       "VehBrandB11  0.151385   0.046946   3.225  0.00126 ** \n",
       "VehBrandB12 -0.304520   0.024674 -12.342  < 2e-16 ***\n",
       "VehBrandB13  0.066317   0.049774   1.332  0.18274    \n",
       "VehBrandB14 -0.165573   0.097736  -1.694  0.09025 .  \n",
       "RegionR21   -0.014688   0.132675  -0.111  0.91185    \n",
       "RegionR22    0.162787   0.066761   2.438  0.01476 *  \n",
       "RegionR23   -0.034192   0.081020  -0.422  0.67301    \n",
       "RegionR24    0.008005   0.031079   0.258  0.79674    \n",
       "RegionR25   -0.025784   0.059395  -0.434  0.66421    \n",
       "RegionR26    0.047735   0.065073   0.734  0.46322    \n",
       "RegionR31    0.012498   0.043880   0.285  0.77579    \n",
       "RegionR41   -0.150341   0.058231  -2.582  0.00983 ** \n",
       "RegionR42    0.026830   0.117882   0.228  0.81996    \n",
       "RegionR43   -0.123807   0.190739  -0.649  0.51628    \n",
       "RegionR52    0.044481   0.037889   1.174  0.24040    \n",
       "RegionR53    0.031803   0.036623   0.868  0.38518    \n",
       "RegionR54    0.047086   0.048205   0.977  0.32867    \n",
       "RegionR72    0.109974   0.041949   2.622  0.00875 ** \n",
       "RegionR73   -0.174751   0.062161  -2.811  0.00493 ** \n",
       "RegionR74    0.426908   0.082940   5.147 2.64e-07 ***\n",
       "RegionR82    0.234995   0.029306   8.019 1.07e-15 ***\n",
       "RegionR83    0.016626   0.095972   0.173  0.86246    \n",
       "RegionR91    0.008749   0.043069   0.203  0.83903    \n",
       "RegionR93    0.156534   0.031163   5.023 5.09e-07 ***\n",
       "RegionR94    0.157873   0.099689   1.584  0.11327    \n",
       "---\n",
       "Signif. codes:  0 ‘***’ 0.001 ‘**’ 0.01 ‘*’ 0.05 ‘.’ 0.1 ‘ ’ 1\n",
       "\n",
       "(Dispersion parameter for poisson family taken to be 1)\n",
       "\n",
       "    Null deviance: 136692  on 542330  degrees of freedom\n",
       "Residual deviance: 131015  on 542292  degrees of freedom\n",
       "AIC: 171669\n",
       "\n",
       "Number of Fisher Scoring iterations: 6\n"
      ]
     },
     "metadata": {},
     "output_type": "display_data"
    }
   ],
   "source": [
    "exec_time <- system.time(\n",
    "  glm1 <- glm(ClaimNb ~ AreaX + VehPowerX + VehAgeX + DrivAgeX + BonusMalusX + DensityX + VehGasX + VehBrand + Region,\n",
    "              data = train, offset = log(Exposure), family = poisson())\n",
    ")\n",
    "exec_time[1:5]\n",
    "summary(glm1)"
   ]
  },
  {
   "cell_type": "markdown",
   "metadata": {},
   "source": [
    "## 6.2 Validation<a name=\"M2val\"></a>"
   ]
  },
  {
   "cell_type": "code",
   "execution_count": 31,
   "metadata": {},
   "outputs": [],
   "source": [
    "# Predictions\n",
    "train$fitGLM1 <- fitted(glm1)\n",
    "test$fitGLM1 <- predict(glm1, newdata = test, type = \"response\")\n",
    "dat$fitGLM1 <- predict(glm1, newdata = dat2, type = \"response\")"
   ]
  },
  {
   "cell_type": "code",
   "execution_count": 32,
   "metadata": {},
   "outputs": [
    {
     "data": {
      "text/html": [
       "'100 x Poisson deviance GLM (train): 24.1578035936711'"
      ],
      "text/latex": [
       "'100 x Poisson deviance GLM (train): 24.1578035936711'"
      ],
      "text/markdown": [
       "'100 x Poisson deviance GLM (train): 24.1578035936711'"
      ],
      "text/plain": [
       "[1] \"100 x Poisson deviance GLM (train): 24.1578035936711\""
      ]
     },
     "metadata": {},
     "output_type": "display_data"
    },
    {
     "data": {
      "text/html": [
       "'100 x Poisson deviance GLM (test): 24.2344045952532'"
      ],
      "text/latex": [
       "'100 x Poisson deviance GLM (test): 24.2344045952532'"
      ],
      "text/markdown": [
       "'100 x Poisson deviance GLM (test): 24.2344045952532'"
      ],
      "text/plain": [
       "[1] \"100 x Poisson deviance GLM (test): 24.2344045952532\""
      ]
     },
     "metadata": {},
     "output_type": "display_data"
    },
    {
     "data": {
      "text/html": [
       "'average frequency (test): 0.0737'"
      ],
      "text/latex": [
       "'average frequency (test): 0.0737'"
      ],
      "text/markdown": [
       "'average frequency (test): 0.0737'"
      ],
      "text/plain": [
       "[1] \"average frequency (test): 0.0737\""
      ]
     },
     "metadata": {},
     "output_type": "display_data"
    }
   ],
   "source": [
    "# in-sample and out-of-sample losses (in 10^(-2))\n",
    "sprintf(\"100 x Poisson deviance GLM (train): %s\", PoissonDeviance(train$fitGLM1, train$ClaimNb))\n",
    "sprintf(\"100 x Poisson deviance GLM (test): %s\", PoissonDeviance(test$fitGLM1, test$ClaimNb))\n",
    "\n",
    "# Overall estimated frequency\n",
    "sprintf(\"average frequency (test): %s\", round(sum(test$fitGLM1) / sum(test$Exposure), 4))"
   ]
  },
  {
   "cell_type": "code",
   "execution_count": 33,
   "metadata": {},
   "outputs": [
    {
     "data": {
      "text/html": [
       "<table class=\"dataframe\">\n",
       "<caption>A tibble: 2 × 7</caption>\n",
       "<thead>\n",
       "\t<tr><th scope=col>model</th><th scope=col>epochs</th><th scope=col>run_time</th><th scope=col>parameters</th><th scope=col>in_sample_loss</th><th scope=col>out_sample_loss</th><th scope=col>avg_freq</th></tr>\n",
       "\t<tr><th scope=col>&lt;chr&gt;</th><th scope=col>&lt;dbl&gt;</th><th scope=col>&lt;dbl&gt;</th><th scope=col>&lt;dbl&gt;</th><th scope=col>&lt;dbl&gt;</th><th scope=col>&lt;dbl&gt;</th><th scope=col>&lt;dbl&gt;</th></tr>\n",
       "</thead>\n",
       "<tbody>\n",
       "\t<tr><td>GLM with keras</td><td>2800</td><td>244</td><td>39</td><td>24.1579</td><td>24.2343</td><td>0.0737</td></tr>\n",
       "\t<tr><td>GLM with glm  </td><td>  NA</td><td> 13</td><td>39</td><td>24.1578</td><td>24.2344</td><td>0.0737</td></tr>\n",
       "</tbody>\n",
       "</table>\n"
      ],
      "text/latex": [
       "A tibble: 2 × 7\n",
       "\\begin{tabular}{lllllll}\n",
       " model & epochs & run\\_time & parameters & in\\_sample\\_loss & out\\_sample\\_loss & avg\\_freq\\\\\n",
       " <chr> & <dbl> & <dbl> & <dbl> & <dbl> & <dbl> & <dbl>\\\\\n",
       "\\hline\n",
       "\t GLM with keras & 2800 & 244 & 39 & 24.1579 & 24.2343 & 0.0737\\\\\n",
       "\t GLM with glm   &   NA &  13 & 39 & 24.1578 & 24.2344 & 0.0737\\\\\n",
       "\\end{tabular}\n"
      ],
      "text/markdown": [
       "\n",
       "A tibble: 2 × 7\n",
       "\n",
       "| model &lt;chr&gt; | epochs &lt;dbl&gt; | run_time &lt;dbl&gt; | parameters &lt;dbl&gt; | in_sample_loss &lt;dbl&gt; | out_sample_loss &lt;dbl&gt; | avg_freq &lt;dbl&gt; |\n",
       "|---|---|---|---|---|---|---|\n",
       "| GLM with keras | 2800 | 244 | 39 | 24.1579 | 24.2343 | 0.0737 |\n",
       "| GLM with glm   |   NA |  13 | 39 | 24.1578 | 24.2344 | 0.0737 |\n",
       "\n"
      ],
      "text/plain": [
       "  model          epochs run_time parameters in_sample_loss out_sample_loss\n",
       "1 GLM with keras 2800   244      39         24.1579        24.2343        \n",
       "2 GLM with glm     NA    13      39         24.1578        24.2344        \n",
       "  avg_freq\n",
       "1 0.0737  \n",
       "2 0.0737  "
      ]
     },
     "metadata": {},
     "output_type": "display_data"
    }
   ],
   "source": [
    "df_cmp %<>% bind_rows(\n",
    "  data.frame(model = \"GLM with glm\", epochs = NA, run_time = round(exec_time[[3]], 0), parameters = length(coef(glm1)),\n",
    "             in_sample_loss = round(PoissonDeviance(train$fitGLM1, as.vector(unlist(train$ClaimNb))), 4),\n",
    "             out_sample_loss = round(PoissonDeviance(test$fitGLM1, as.vector(unlist(test$ClaimNb))), 4),\n",
    "             avg_freq = round(sum(test$fitGLM1) / sum(test$Exposure), 4))\n",
    ")\n",
    "df_cmp"
   ]
  },
  {
   "cell_type": "markdown",
   "metadata": {},
   "source": [
    "# 7. Model Comparison<a name=\"MC\"></a>"
   ]
  },
  {
   "cell_type": "markdown",
   "metadata": {},
   "source": [
    "### 7.1 Compare fitted values<a name=\"MCfit\"></a>"
   ]
  },
  {
   "cell_type": "code",
   "execution_count": 34,
   "metadata": {},
   "outputs": [],
   "source": [
    "plot_claims_freq <- function(xvar, yvar, xlab, ylab) {\n",
    "  axis_min <- log(max(test[[xvar]], test[[yvar]]))\n",
    "  axis_max <- log(min(test[[xvar]], test[[yvar]]))\n",
    "  \n",
    "  ggplot(test, aes(x = log(!!sym(xvar)), y = log(!!sym(yvar)), colour = Exposure)) + geom_point() +\n",
    "    geom_abline(colour = \"#000000\", slope = 1, intercept = 0) +\n",
    "    xlim(axis_max, axis_min) + ylim(axis_max, axis_min) +\n",
    "    labs(x = xlab, y = ylab, title = \"Claims frequency prediction (log-scale)\") +\n",
    "    scale_colour_gradient(low = \"green\", high = \"red\")\n",
    "}"
   ]
  },
  {
   "cell_type": "code",
   "execution_count": 35,
   "metadata": {},
   "outputs": [
    {
     "data": {
      "image/png": "[encoded data removed]",
      "text/plain": [
       "plot without title"
      ]
     },
     "metadata": {
      "image/png": {
       "height": 420,
       "width": 420
      }
     },
     "output_type": "display_data"
    }
   ],
   "source": [
    "plot_claims_freq(\"fitglmNN\", \"fitGLM1\", \"glmNN\", \"GLM\")"
   ]
  },
  {
   "cell_type": "markdown",
   "metadata": {},
   "source": [
    "### 7.2 Compare coefficients/weights<a name=\"MCcoef\"></a>"
   ]
  },
  {
   "cell_type": "code",
   "execution_count": 36,
   "metadata": {},
   "outputs": [],
   "source": [
    "df_coef <- data.frame(glm=coef(glm1),keras=c(get_weights(model_glm)[[2]],get_weights(model_glm)[[1]]))"
   ]
  },
  {
   "cell_type": "code",
   "execution_count": 37,
   "metadata": {},
   "outputs": [
    {
     "data": {
      "image/png": "[encoded data removed]",
      "text/plain": [
       "plot without title"
      ]
     },
     "metadata": {
      "image/png": {
       "height": 420,
       "width": 420
      }
     },
     "output_type": "display_data"
    }
   ],
   "source": [
    "ggplot(df_coef,aes(x=glm,y=keras)) + geom_point(size=2) + geom_abline(intercept=0, slope=1, col=\"green\")"
   ]
  },
  {
   "cell_type": "code",
   "execution_count": 38,
   "metadata": {},
   "outputs": [
    {
     "data": {
      "text/html": [
       "<table class=\"dataframe\">\n",
       "<caption>A data.frame: 10 × 2</caption>\n",
       "<thead>\n",
       "\t<tr><th></th><th scope=col>glm</th><th scope=col>keras</th></tr>\n",
       "\t<tr><th></th><th scope=col>&lt;dbl&gt;</th><th scope=col>&lt;dbl&gt;</th></tr>\n",
       "</thead>\n",
       "<tbody>\n",
       "\t<tr><th scope=row>(Intercept)</th><td>-1.49763558</td><td>-1.50749433</td></tr>\n",
       "\t<tr><th scope=row>AreaX</th><td> 0.11601366</td><td> 0.11477026</td></tr>\n",
       "\t<tr><th scope=row>VehPowerX</th><td> 0.18858234</td><td> 0.18776892</td></tr>\n",
       "\t<tr><th scope=row>VehAgeX</th><td>-0.17352658</td><td>-0.17288700</td></tr>\n",
       "\t<tr><th scope=row>DrivAgeX</th><td> 0.22984962</td><td> 0.22471580</td></tr>\n",
       "\t<tr><th scope=row>BonusMalusX</th><td> 1.34593742</td><td> 1.33544743</td></tr>\n",
       "\t<tr><th scope=row>DensityX</th><td> 0.19338782</td><td> 0.19686709</td></tr>\n",
       "\t<tr><th scope=row>VehGasX</th><td>-0.15705729</td><td>-0.15676792</td></tr>\n",
       "\t<tr><th scope=row>VehBrandB2</th><td>-0.01583881</td><td>-0.01561991</td></tr>\n",
       "\t<tr><th scope=row>VehBrandB3</th><td> 0.05144019</td><td> 0.05155322</td></tr>\n",
       "</tbody>\n",
       "</table>\n"
      ],
      "text/latex": [
       "A data.frame: 10 × 2\n",
       "\\begin{tabular}{r|ll}\n",
       "  & glm & keras\\\\\n",
       "  & <dbl> & <dbl>\\\\\n",
       "\\hline\n",
       "\t(Intercept) & -1.49763558 & -1.50749433\\\\\n",
       "\tAreaX &  0.11601366 &  0.11477026\\\\\n",
       "\tVehPowerX &  0.18858234 &  0.18776892\\\\\n",
       "\tVehAgeX & -0.17352658 & -0.17288700\\\\\n",
       "\tDrivAgeX &  0.22984962 &  0.22471580\\\\\n",
       "\tBonusMalusX &  1.34593742 &  1.33544743\\\\\n",
       "\tDensityX &  0.19338782 &  0.19686709\\\\\n",
       "\tVehGasX & -0.15705729 & -0.15676792\\\\\n",
       "\tVehBrandB2 & -0.01583881 & -0.01561991\\\\\n",
       "\tVehBrandB3 &  0.05144019 &  0.05155322\\\\\n",
       "\\end{tabular}\n"
      ],
      "text/markdown": [
       "\n",
       "A data.frame: 10 × 2\n",
       "\n",
       "| <!--/--> | glm &lt;dbl&gt; | keras &lt;dbl&gt; |\n",
       "|---|---|---|\n",
       "| (Intercept) | -1.49763558 | -1.50749433 |\n",
       "| AreaX |  0.11601366 |  0.11477026 |\n",
       "| VehPowerX |  0.18858234 |  0.18776892 |\n",
       "| VehAgeX | -0.17352658 | -0.17288700 |\n",
       "| DrivAgeX |  0.22984962 |  0.22471580 |\n",
       "| BonusMalusX |  1.34593742 |  1.33544743 |\n",
       "| DensityX |  0.19338782 |  0.19686709 |\n",
       "| VehGasX | -0.15705729 | -0.15676792 |\n",
       "| VehBrandB2 | -0.01583881 | -0.01561991 |\n",
       "| VehBrandB3 |  0.05144019 |  0.05155322 |\n",
       "\n"
      ],
      "text/plain": [
       "            glm         keras      \n",
       "(Intercept) -1.49763558 -1.50749433\n",
       "AreaX        0.11601366  0.11477026\n",
       "VehPowerX    0.18858234  0.18776892\n",
       "VehAgeX     -0.17352658 -0.17288700\n",
       "DrivAgeX     0.22984962  0.22471580\n",
       "BonusMalusX  1.34593742  1.33544743\n",
       "DensityX     0.19338782  0.19686709\n",
       "VehGasX     -0.15705729 -0.15676792\n",
       "VehBrandB2  -0.01583881 -0.01561991\n",
       "VehBrandB3   0.05144019  0.05155322"
      ]
     },
     "metadata": {},
     "output_type": "display_data"
    }
   ],
   "source": [
    "head(df_coef, n=10)"
   ]
  },
  {
   "cell_type": "markdown",
   "metadata": {},
   "source": [
    "# 8. Remarks<a name=\"rmk\"></a>"
   ]
  },
  {
   "cell_type": "markdown",
   "metadata": {},
   "source": [
    "Some final remarks as follows:\n",
    "- A GLM is a special case of a neural network\n",
    "- A GLM can be fit using `keras()`\n",
    "- The number of epochs needs to be high to reach convergence\n",
    "- There is no reason to fit a glm with `keras()`"
   ]
  },
  {
   "cell_type": "markdown",
   "metadata": {},
   "source": [
    "# 9. Session Info<a name=\"session\"></a>"
   ]
  },
  {
   "cell_type": "markdown",
   "metadata": {},
   "source": [
    "The html is generated with the follow packages (which migth be slightly newer than the ones used in the published tutorial)."
   ]
  },
  {
   "cell_type": "code",
   "execution_count": 39,
   "metadata": {},
   "outputs": [
    {
     "data": {
      "text/plain": [
       "R version 4.0.3 (2020-10-10)\n",
       "Platform: x86_64-pc-linux-gnu (64-bit)\n",
       "Running under: Ubuntu 20.04.3 LTS\n",
       "\n",
       "Matrix products: default\n",
       "BLAS:   /usr/lib/x86_64-linux-gnu/blas/libblas.so.3.9.0\n",
       "LAPACK: /usr/lib/x86_64-linux-gnu/lapack/liblapack.so.3.9.0\n",
       "\n",
       "locale:\n",
       " [1] LC_CTYPE=en_US.UTF-8       LC_NUMERIC=C              \n",
       " [3] LC_TIME=en_US.UTF-8        LC_COLLATE=en_US.UTF-8    \n",
       " [5] LC_MONETARY=en_US.UTF-8    LC_MESSAGES=en_US.UTF-8   \n",
       " [7] LC_PAPER=en_US.UTF-8       LC_NAME=C                 \n",
       " [9] LC_ADDRESS=C               LC_TELEPHONE=C            \n",
       "[11] LC_MEASUREMENT=en_US.UTF-8 LC_IDENTIFICATION=C       \n",
       "\n",
       "attached base packages:\n",
       "[1] stats     graphics  grDevices utils     datasets  methods   base     \n",
       "\n",
       "other attached packages:\n",
       " [1] farff_1.1        OpenML_1.10      tidyr_1.1.2      splitTools_0.3.1\n",
       " [5] gridExtra_2.3    ggplot2_3.3.3    purrr_0.3.4      tibble_3.0.5    \n",
       " [9] dplyr_1.0.3      magrittr_2.0.1   keras_2.3.0.0    mgcv_1.8-33     \n",
       "[13] nlme_3.1-151    \n",
       "\n",
       "loaded via a namespace (and not attached):\n",
       " [1] pbdZMQ_0.3-4      reticulate_1.18   tidyselect_1.1.0  repr_1.1.3       \n",
       " [5] splines_4.0.3     lattice_0.20-41   colorspace_2.0-0  vctrs_0.3.6      \n",
       " [9] generics_0.1.0    htmltools_0.5.1   base64enc_0.1-3   XML_3.99-0.5     \n",
       "[13] rlang_0.4.10      pillar_1.4.7      glue_1.4.2        withr_2.4.0      \n",
       "[17] DBI_1.1.1         rappdirs_0.3.1    uuid_0.1-4        lifecycle_0.2.0  \n",
       "[21] tensorflow_2.2.0  munsell_0.5.0     gtable_0.3.0      memoise_1.1.0    \n",
       "[25] evaluate_0.14     labeling_0.4.2    tfruns_1.4        curl_4.3         \n",
       "[29] IRdisplay_1.0     Rcpp_1.0.6        readr_1.4.0       scales_1.1.1     \n",
       "[33] backports_1.2.1   checkmate_2.0.0   IRkernel_1.1.1    jsonlite_1.7.2   \n",
       "[37] farver_2.0.3      hms_1.0.0         digest_0.6.27     stringi_1.5.3    \n",
       "[41] BBmisc_1.11       getPass_0.2-2     grid_4.0.3        tools_4.0.3      \n",
       "[45] crayon_1.3.4      whisker_0.4       pkgconfig_2.0.3   zeallot_0.1.0    \n",
       "[49] ellipsis_0.3.1    Matrix_1.3-2      data.table_1.14.0 httr_1.4.2       \n",
       "[53] assertthat_0.2.1  R6_2.5.0          compiler_4.0.3   "
      ]
     },
     "metadata": {},
     "output_type": "display_data"
    }
   ],
   "source": [
    "sessionInfo()"
   ]
  },
  {
   "cell_type": "code",
   "execution_count": 40,
   "metadata": {},
   "outputs": [
    {
     "data": {
      "text/plain": [
       "python:         /usr/bin/python3\n",
       "libpython:      /usr/lib/python3.8/config-3.8-x86_64-linux-gnu/libpython3.8.so\n",
       "pythonhome:     //usr://usr\n",
       "version:        3.8.10 (default, Sep 28 2021, 16:10:42)  [GCC 9.3.0]\n",
       "numpy:          /usr/local/lib/python3.8/dist-packages/numpy\n",
       "numpy_version:  1.20.1\n",
       "tensorflow:     /usr/local/lib/python3.8/dist-packages/tensorflow\n",
       "\n",
       "python versions found: \n",
       " /usr/bin/python3\n",
       " /usr/bin/python"
      ]
     },
     "metadata": {},
     "output_type": "display_data"
    }
   ],
   "source": [
    "reticulate::py_config()"
   ]
  },
  {
   "cell_type": "code",
   "execution_count": 41,
   "metadata": {},
   "outputs": [
    {
     "data": {
      "text/plain": [
       "[1] ‘2.4’"
      ]
     },
     "metadata": {},
     "output_type": "display_data"
    }
   ],
   "source": [
    "tensorflow::tf_version()"
   ]
  }
 ],
 "metadata": {
  "anaconda-cloud": "",
  "kernelspec": {
   "display_name": "R",
   "language": "R",
   "name": "ir"
  },
  "language_info": {
   "codemirror_mode": "r",
   "file_extension": ".r",
   "mimetype": "text/x-r-source",
   "name": "R",
   "pygments_lexer": "r",
   "version": "4.0.3"
  }
 },
 "nbformat": 4,
 "nbformat_minor": 4
}
