{
    "cells": [
        {
            "cell_type": "markdown",
            "metadata": {},
            "source": [
                "# **French Motor Third-Party Liability Claims**\n",
                "\n",
                "Daniel Meier and Jürg Schelldorfer, with support from Christian Lorentzen, Friedrich Loser, Michael Mayer, Mario V. Wüthrich and [Mirai Solutions GmbH](https://mirai-solutions.ch/).\n",
                "\n",
                "2021-15-10\n",
                "\n",
                "# Introduction\n",
                "\n",
                "This notebook was created for the course \"Deep Learning with Actuarial Applications in R\" of the Swiss Association of Actuaries (https://www.actuaries.ch/).\n",
                "\n",
                "This notebook serves as companion to the tutorial “Insights from Inside Neural Networks”, available on [SSRN](https://papers.ssrn.com/sol3/papers.cfm?abstract_id=3226852).\n",
                "\n",
                "The code is similar to the code used in above tutorial and combines the raw R code in the scripts, available on [GitHub](https://github.com/JSchelldorfer/ActuarialDataScience/tree/master/2%20-%20Insights%20from%20Inside%20Neural%20Networks) along with some more comments. Please refer to the tutorial for explanations.\n",
                "\n",
                "Note that the results might vary depending on the R and Python package versions, see last section for the result of `sessionInfo()` and corresponding info on the Python setup.\n",
                "\n",
                "# Data Preparation\n",
                "\n",
                "The tutorial uses the French MTPL data set available on [openML (ID 41214)](https://www.openml.org/d/41214).\n",
                "\n",
                "## Load packages and data\n"
            ]
        },
        {
            "cell_type": "code",
            "execution_count": null,
            "metadata": {},
            "outputs": [],
            "source": [
                "#library(mgcv)\n",
                "library(keras)\n",
                "library(magrittr)\n",
                "library(dplyr)\n",
                "library(tibble)\n",
                "library(purrr)\n",
                "library(ggplot2)\n",
                "library(gridExtra)\n",
                "library(splitTools)\n",
                "library(tidyr)\n"
            ]
        },
        {
            "cell_type": "markdown",
            "metadata": {},
            "source": "\n"
        },
        {
            "cell_type": "code",
            "execution_count": null,
            "metadata": {},
            "outputs": [],
            "source": [
                "# plotting parameters in R Markdown notebook\n",
                "knitr::opts_chunk$set(fig.width = 9, fig.height = 9)\n",
                "# plotting parameters in Jupyter notebook\n",
                "library(repr)  # only needed for Jupyter notebook\n",
                "options(repr.plot.width = 9, repr.plot.height = 9)\n"
            ]
        },
        {
            "cell_type": "markdown",
            "metadata": {},
            "source": [
                "## Set global parameters\n",
                "\n"
            ]
        },
        {
            "cell_type": "code",
            "execution_count": null,
            "metadata": {},
            "outputs": [],
            "source": [
                "options(encoding = 'UTF-8')\n",
                "\n"
            ]
        },
        {
            "cell_type": "markdown",
            "metadata": {},
            "source": "\n"
        },
        {
            "cell_type": "code",
            "execution_count": null,
            "metadata": {},
            "outputs": [],
            "source": [
                "# set seed to obtain best reproducibility. note that the underlying architecture may affect results nonetheless, so full reproducibility cannot be guaranteed across different platforms.\n",
                "seed <- 100\n",
                "Sys.setenv(PYTHONHASHSEED = seed)\n",
                "set.seed(seed)\n",
                "reticulate::py_set_seed(seed)\n",
                "tensorflow::tf$random$set_seed(seed)\n"
            ]
        },
        {
            "cell_type": "markdown",
            "metadata": {},
            "source": [
                "The results below will not exactly match the results in the paper, since the underlying dataset and some packages are different. In addition the split into training and testing data is different as well. However, the general conclusions remain the same.\n",
                "\n",
                "## Helper functions\n",
                "\n",
                "Subsequently, for ease of reading, we provide all the helper functions which are used in this tutorial in this section.\n"
            ]
        },
        {
            "cell_type": "code",
            "execution_count": null,
            "metadata": {},
            "outputs": [],
            "source": [
                "summarize <- function(...) suppressMessages(dplyr::summarize(...))\n",
                "\n"
            ]
        },
        {
            "cell_type": "markdown",
            "metadata": {},
            "source": "\n"
        },
        {
            "cell_type": "code",
            "execution_count": null,
            "metadata": {},
            "outputs": [],
            "source": [
                "load_data <- function(file) {\n",
                "  load(file.path(\"../0_data/\", file), envir = parent.frame(1))\n",
                "}\n"
            ]
        },
        {
            "cell_type": "markdown",
            "metadata": {},
            "source": "\n"
        },
        {
            "cell_type": "code",
            "execution_count": null,
            "metadata": {},
            "outputs": [],
            "source": [
                "# Poisson deviance\n",
                "PoissonDeviance <- function(pred, obs) {\n",
                "    200 * (sum(pred) - sum(obs) + sum(log((obs/pred)^(obs)))) / length(pred)\n",
                "}\n"
            ]
        },
        {
            "cell_type": "markdown",
            "metadata": {},
            "source": "\n"
        },
        {
            "cell_type": "code",
            "execution_count": null,
            "metadata": {},
            "outputs": [],
            "source": [
                "plot_freq <- function(test, xvar, title, model, mdlvariant) {\n",
                "  out <- test %>% group_by(!!sym(xvar)) %>%\n",
                "            summarize(obs = sum(ClaimNb) / sum(Exposure), pred = sum(!!sym(mdlvariant)) / sum(Exposure))\n",
                "  \n",
                "  ggplot(out, aes(x = !!sym(xvar), group = 1)) +\n",
                "    geom_point(aes(y = pred, colour = model)) +\n",
                "    geom_point(aes(y = obs, colour = \"observed\")) + \n",
                "    geom_line(aes(y = pred, colour = model), linetype = \"dashed\") +\n",
                "    geom_line(aes(y = obs, colour = \"observed\"), linetype = \"dashed\") +\n",
                "    ylim(0, 0.35) + labs(x = xvar, y = \"frequency\", title = title) +\n",
                "    theme(legend.position = \"bottom\")\n",
                "}\n"
            ]
        },
        {
            "cell_type": "markdown",
            "metadata": {},
            "source": "\n"
        },
        {
            "cell_type": "code",
            "execution_count": null,
            "metadata": {},
            "outputs": [],
            "source": [
                "plot_loss <- function(x) {\n",
                "  if (length(x) > 1) {\n",
                "    df_val <- data.frame(epoch = 1:length(x$loss), train_loss = x$loss, val_loss = x$val_loss)\n",
                "    df_val <- gather(df_val, variable, loss, -epoch)\n",
                "    p <- ggplot(df_val, aes(x = epoch, y = loss)) + geom_line() +\n",
                "      facet_wrap(~variable, scales = \"free\") + geom_smooth()\n",
                "    suppressMessages(print(p))\n",
                "  }\n",
                "}\n"
            ]
        },
        {
            "cell_type": "markdown",
            "metadata": {},
            "source": [
                "## Load data\n",
                "\n",
                "We consider the data `freMTPL2freq` included in the R package `CASdatasets` for claim frequency modeling. This data comprises a French motor third-party liability (MTPL) insurance portfolio with corresponding claim counts observed in one accounting year.\n",
                "We do not incorporate claim sizes which would also be available through freMTPL2sev.\n",
                "\n",
                "As the current package version provides a slightly amended dataset, we use an older dataset available on [openML (ID 41214)](https://www.openml.org/d/41214). Before we can use this data set we need to do some data cleaning. It has been pointed out by [F. Loser](https://www.kaggle.com/floser/comparing-claims-fremtpl2freq-sev/execution) that some claim counts do not seem to be correct. Hence, we use the pre-processing of the data described in the book [\"Statistical Foundations of Actuarial Learning and its Applications\"](https://papers.ssrn.com/sol3/papers.cfm?abstract_id=3822407) in Appendix A.1. This pre-processed data can be downloaded from the course GitHub page [here](https://github.com/JSchelldorfer/DeepLearningWithActuarialApplications).\n"
            ]
        },
        {
            "cell_type": "code",
            "execution_count": null,
            "metadata": {},
            "outputs": [],
            "source": [
                "load_data(\"freMTPL2freq.RData\")\n",
                "\n"
            ]
        },
        {
            "cell_type": "markdown",
            "metadata": {},
            "source": [
                "## General data preprocessing\n",
                "\n",
                "A priori, there is not sufficient information about this data to do a sensible decision about the best consideration of the exposure measure, either as feature or as offset. In the following we treat the exposure always as an offset.\n",
                "\n",
                "Data preprocessing includes a couple of transformations. We ensure that $\\texttt{ClaimNb}$ is an integer, $\\texttt{VehAge}$, $\\texttt{DrivAge}$ and $\\texttt{BonusMalus}$ have been capped for the plots at age 20, age 90 and bonus-malus level 150, respectively, to improve visualization. $\\texttt{Density}$ is logarithmized and $\\texttt{VehGas}$ is a categorical variable. We leave away the rounding used in the first notebook, which were mainly used for nicer visualizations of the data.\n",
                "\n",
                "We are adding a group_id identifying rows possibly referring to the same policy. Respecting group_id in data splitting techniques (train/test, cross-validation) is essential. This is different to the tutorial where another splitting has been used. As a consequence, the figures in this notebook do not match the figures in the tutorial, but the conclusions drawn are the same.\n",
                "\n",
                "In addition to the previous tutorial, we decide to truncate the $\\texttt{ClaimNb}$ and the $\\texttt{Exposure} in order to correct for unreasonable data entries and simplifications for the modeling part.\n"
            ]
        },
        {
            "cell_type": "code",
            "execution_count": null,
            "metadata": {},
            "outputs": [],
            "source": [
                "# Grouping id\n",
                "distinct <- freMTPL2freq %>% \n",
                "  distinct_at(vars(-c(IDpol, Exposure, ClaimNb))) %>% \n",
                "  mutate(group_id = row_number())\n"
            ]
        },
        {
            "cell_type": "markdown",
            "metadata": {},
            "source": "\n"
        },
        {
            "cell_type": "code",
            "execution_count": null,
            "metadata": {},
            "outputs": [],
            "source": [
                "dat <- freMTPL2freq %>% \n",
                "  left_join(distinct) %>% \n",
                "  mutate(ClaimNb = pmin(as.integer(ClaimNb), 4),\n",
                "         VehAge = pmin(VehAge, 20),\n",
                "         DrivAge = pmin(DrivAge, 90),\n",
                "         BonusMalus = pmin(BonusMalus, 150),\n",
                "         Density = round(log(Density), 2),\n",
                "         VehGas = factor(VehGas),\n",
                "         Exposure = pmin(Exposure, 1))\n"
            ]
        },
        {
            "cell_type": "markdown",
            "metadata": {},
            "source": "\n"
        },
        {
            "cell_type": "code",
            "execution_count": null,
            "metadata": {},
            "outputs": [],
            "source": [
                "# Group sizes of suspected clusters\n",
                "table(table(dat[, \"group_id\"]))\n"
            ]
        },
        {
            "cell_type": "markdown",
            "metadata": {},
            "source": [
                "# Feature pre-processing for generalized linear models\n",
                "\n",
                "As previously mentioned, typically features $x_i$ need pre-processing before being used for a specific model. In our Poisson GLM the regression function is modeled by a log-linear shape in the continuous feature components. From the marginal empirical frequency plots in the previous file we see that such a log-linear form is not always appropriate. We make the following choices here:\n",
                "\n",
                "- $\\texttt{Area}$: we choose a continuous (log-linear) feature component for $\\{A,...,F\\}$ $\\mapsto$ $\\{1,...,6\\}$\n",
                "- $\\texttt{VehPower}$: we choose a categorical feature component where we merge vehicle power groups bigger and equal to 9 (totally 6 classes)\n",
                "- $\\texttt{VehAge}$: we build 3 categorical classes $[0,1), [1,10], (10,\\infty)$\n",
                "- $\\texttt{DrivAge}$: we build 7 categorical classes $[18,21), [21,26), [26,31), [31,41), [41,51), [51,71),\n",
                "[71,\\infty)$\n",
                "- $\\texttt{BonusMalus}$: continuous log-linear feature component (we cap at value 150)\n",
                "- $\\texttt{VehBrand}$: categorical feature component (totally 11 classes)\n",
                "- $\\texttt{VehGas}$: binary feature component;\n",
                "- $\\texttt{Density}$: log-density is chosen as continuous log-linear feature component (note that we\n",
                "have very small volumes for small log-densities)\n",
                "- $\\texttt{Region}$: categorical feature component (totally 22 classes)\n",
                "\n",
                "Thus, we consider 3 continuous feature components ($\\texttt{Area}$, $\\texttt{BonusMalus}$, $\\texttt{log-Density}$), 1 binary feature component ($\\texttt{VehGas}$) and 5 categorical feature components ($\\texttt{VehPower}$, $\\texttt{VehAge}$, $\\texttt{DrivAge}$, $\\texttt{VehBrand}$, $\\texttt{Region}$). The categorical classes for $\\texttt{VehPower}$, $\\texttt{VehAge}$ and $\\texttt{DrivAge}$ have been done based on expert opinion, only. This expert opinion has tried to find homogeneity within class labels (levels) and every class label should receive a sufficient volume (of observations). We could also make a data-driven choice by using a (marginal) regression tree for different feature components, see references in the tutorial.\n"
            ]
        },
        {
            "cell_type": "code",
            "execution_count": null,
            "metadata": {},
            "outputs": [],
            "source": [
                "dat2 <- dat %>% mutate(\n",
                "  AreaGLM = as.integer(Area),\n",
                "  VehPowerGLM = as.factor(pmin(VehPower, 9)),\n",
                "  VehAgeGLM = cut(VehAge, breaks = c(-Inf, 0, 10, Inf), labels = c(\"1\",\"2\",\"3\")),\n",
                "  DrivAgeGLM = cut(DrivAge, breaks = c(-Inf, 20, 25, 30, 40, 50, 70, Inf), labels = c(\"1\",\"2\",\"3\",\"4\",\"5\",\"6\",\"7\")),\n",
                "  BonusMalusGLM = as.integer(pmin(BonusMalus, 150)),\n",
                "  DensityGLM = as.numeric(Density),\n",
                "  VehAgeGLM = relevel(VehAgeGLM, ref = \"2\"),   \n",
                "  DrivAgeGLM = relevel(DrivAgeGLM, ref = \"5\"),\n",
                "  Region = relevel(Region, ref = \"R24\")\n",
                ")\n"
            ]
        },
        {
            "cell_type": "markdown",
            "metadata": {},
            "source": [
                "We remark that for categorical variables we use the data type factor in R. This data type automatically considers dummy coding in the corresponding R procedures. Categorical variables are initialized to one class (reference level). We typically initialize to the class with the biggest volume. This initialization is achieved by the command relevel, see above. This initialization does not influence the fitted means but provides a unique parametrization. See `?relevel` for further details.\n",
                "\n",
                "## Inspect the prepared dataset\n"
            ]
        },
        {
            "cell_type": "code",
            "execution_count": null,
            "metadata": {},
            "outputs": [],
            "source": [
                "knitr::kable(head(dat2))\n",
                "\n"
            ]
        },
        {
            "cell_type": "markdown",
            "metadata": {},
            "source": "\n"
        },
        {
            "cell_type": "code",
            "execution_count": null,
            "metadata": {},
            "outputs": [],
            "source": [
                "str(dat2)\n",
                "\n"
            ]
        },
        {
            "cell_type": "markdown",
            "metadata": {},
            "source": "\n"
        },
        {
            "cell_type": "code",
            "execution_count": null,
            "metadata": {},
            "outputs": [],
            "source": [
                "summary(dat2)\n",
                "\n"
            ]
        },
        {
            "cell_type": "markdown",
            "metadata": {},
            "source": [
                "## Split train and test data\n",
                "\n",
                "\n",
                "First, we split the dataset into train and test. Due to the potential grouping of rows in policies we can not just do a random split. For this purpose, we use the function `partition(...)` from the `splitTools` package.\n"
            ]
        },
        {
            "cell_type": "code",
            "execution_count": null,
            "metadata": {},
            "outputs": [],
            "source": [
                "ind <- partition(dat2[[\"group_id\"]], p = c(train = 0.8, test = 0.2), \n",
                "                 seed = seed, type = \"grouped\")\n",
                "train <- dat2[ind$train, ]\n",
                "test <- dat2[ind$test, ]\n"
            ]
        },
        {
            "cell_type": "markdown",
            "metadata": {},
            "source": [
                "It describes our choices of the learning data set $\\mathcal{D}$ and the test data set $\\mathcal{T}$ That is, we allocate at random 80% of the policies to $\\mathcal{D}$ and the remaining 20% of the policies to $\\mathcal{T}$.\n",
                "\n",
                "Usually, an 90/10 or 80/20 is used for training and test data. This is a rule-of-thumb and best practice in modeling. A good explanation can be found [here](https://stackoverflow.com/questions/13610074/is-there-a-rule-of-thumb-for-how-to-divide-a-dataset-into-training-and-validatio), citing as follows: \"There are two competing concerns: with less training data, your parameter estimates have greater variance. With less testing data, your performance statistic will have greater variance. Broadly speaking you should be concerned with dividing data such that neither variance is too high, which is more to do with the absolute number of instances in each category rather than the percentage.\"\n"
            ]
        },
        {
            "cell_type": "code",
            "execution_count": null,
            "metadata": {},
            "outputs": [],
            "source": [
                "# size of train/test\n",
                "sprintf(\"Number of observations (train): %s\", nrow(train))\n",
                "sprintf(\"Number of observations (test): %s\", nrow(test))\n",
                "\n",
                "# Claims frequency of train/test\n",
                "sprintf(\"Empirical frequency (train): %s\", round(sum(train$ClaimNb) / sum(train$Exposure), 4))\n",
                "sprintf(\"Empirical frequency (test): %s\", round(sum(test$ClaimNb) / sum(test$Exposure), 4))\n"
            ]
        },
        {
            "cell_type": "markdown",
            "metadata": {},
            "source": [
                "## Store model results\n",
                "\n",
                "As we are going to compare various models, we create a table which stores the metrics we are going to use for the comparison and the selection of the best model.\n"
            ]
        },
        {
            "cell_type": "code",
            "execution_count": null,
            "metadata": {},
            "outputs": [],
            "source": [
                "# initialize table to store all model results for comparison\n",
                "df_cmp <- tibble(\n",
                " model = character(),\n",
                " epochs = numeric(),\n",
                " run_time = numeric(),\n",
                " parameters = numeric(),\n",
                " in_sample_loss = numeric(),\n",
                " out_sample_loss = numeric(),\n",
                " avg_freq = numeric(),\n",
                ")\n"
            ]
        },
        {
            "cell_type": "markdown",
            "metadata": {},
            "source": [
                "In the following chapters, we are going to fit various feed-forward neural networks for the data. At the end, we will compare the performance and quality of the several fitted models. We compare them by using the metrics defined above.\n",
                "\n",
                "## Model assumptions\n",
                "\n",
                "Before fitting any neural network, we fit a generalized linear model (GLM) which serves as baseline model.\n",
                "\n",
                "In the following, we will fit various claim frequency models based on a Poisson assumption, to be more precise we make the following assumptions:\n",
                "\n",
                "![2_fnn](Figure_ModelAssFNN.PNG)\n",
                "\n",
                "The main problem to be solved is to find the regression function $\\lambda(\\cdot)$ such that it appropriately describes the data, and such that it generalizes to similar data which has not been seen, yet. Remark that the task of finding an appropriate regression function $\\lambda : \\mathcal{X} \\rightarrow \\mathbb{R}_+$ also includes the definition of the feature space $\\mathcal{X}$ which typically varies over different modeling approaches.\n",
                "\n",
                "# Model 1: GLM\n",
                "\n",
                "## Definition\n",
                "\n",
                "The defined feature components are continuous in nature, but we have been turning them into categorical ones for modeling purposes (as mentioned above). Having so much data, we can further explore these categorical feature components by trying to replace them by ordinal ones assuming an appropriate continuous functional form, still fitting into the GLM framework.\n",
                "\n",
                "As an example we show how to bring DrivAge into a continuous functional form. We therefore modify the feature space $\\mathcal{X}$ and the regression function $\\lambda(\\cdot)$ from (1.3). We replace the 7 categorical age classes by the following continuous function:\n",
                "\n",
                "![2_fnn](Figure_DrivAgeFNN.PNG)\n",
                "\n",
                "Thus, we replace the 7 categorical classes (involving 6 regression parameters from dummy coding) by the above continuous functional form having 5 regression parameters. The remaining parts of the regression function in (1.3) are kept unchanged\n",
                "\n",
                "This model will be our baseline model with which we compare the subsequent fitted feed-forward neural networks.\n",
                "\n",
                "## Fitting\n"
            ]
        },
        {
            "cell_type": "code",
            "execution_count": null,
            "metadata": {},
            "outputs": [],
            "source": [
                "exec_time <- system.time(\n",
                "  glm2 <- glm(ClaimNb ~ AreaGLM + VehPowerGLM + VehAgeGLM + BonusMalusGLM + VehBrand +\n",
                "                        VehGas + DensityGLM + Region + DrivAge + log(DrivAge) +\n",
                "                        I(DrivAge^2) + I(DrivAge^3) + I(DrivAge^4),\n",
                "              data = train, offset = log(Exposure), family = poisson())\n",
                ")\n",
                "exec_time[1:5]\n",
                "summary(glm2)\n"
            ]
        },
        {
            "cell_type": "markdown",
            "metadata": {},
            "source": [
                "**Exercise:** One could possible reduce the number of parameters by reducing the variables included. Do so and compare the result to the currently used model.\n",
                "\n",
                "**Exercise:** This glm might be improved from a modeling perspective by excluding non-significant variables.\n",
                "\n",
                "The `summary()` function for a `glm` object provides the statistical tests of significance for every single parameter. However, with categorical variables the primary interest is to know if a categorical variables at all is significant. This can be done using the R function `drop1`, see its help file for further details. It performs a Likelihood Ratio Test (LRT) which confirms that only the p-value for AreaGLM is above 5%.\n"
            ]
        },
        {
            "cell_type": "code",
            "execution_count": null,
            "metadata": {},
            "outputs": [],
            "source": [
                "drop1(glm2, test = \"LRT\")\n",
                "\n"
            ]
        },
        {
            "cell_type": "markdown",
            "metadata": {},
            "source": [
                "**Exercise:** Consider a similar approach as DrivAge for another feature (e.g. BonusMalus)\n",
                "\n",
                "## Validation\n"
            ]
        },
        {
            "cell_type": "code",
            "execution_count": null,
            "metadata": {},
            "outputs": [],
            "source": [
                "# Predictions\n",
                "train$fitGLM2 <- fitted(glm2)\n",
                "test$fitGLM2 <- predict(glm2, newdata = test, type = \"response\")\n",
                "dat$fitGLM2 <- predict(glm2, newdata = dat2, type = \"response\")\n"
            ]
        },
        {
            "cell_type": "markdown",
            "metadata": {},
            "source": "\n"
        },
        {
            "cell_type": "code",
            "execution_count": null,
            "metadata": {},
            "outputs": [],
            "source": [
                "# in-sample and out-of-sample losses (in 10^(-2))\n",
                "sprintf(\"100 x Poisson deviance GLM (train): %s\", PoissonDeviance(train$fitGLM2, train$ClaimNb))\n",
                "sprintf(\"100 x Poisson deviance GLM (test): %s\", PoissonDeviance(test$fitGLM2, test$ClaimNb))\n",
                "\n",
                "# Overall estimated frequency\n",
                "sprintf(\"average frequency (test): %s\", round(sum(test$fitGLM2) / sum(test$Exposure), 4))\n"
            ]
        },
        {
            "cell_type": "markdown",
            "metadata": {},
            "source": "\n"
        },
        {
            "cell_type": "code",
            "execution_count": null,
            "metadata": {},
            "outputs": [],
            "source": [
                "df_cmp %<>% bind_rows(\n",
                "  data.frame(model = \"M1: GLM\", epochs = NA, run_time = round(exec_time[[3]], 0), parameters = length(coef(glm2)),\n",
                "             in_sample_loss = round(PoissonDeviance(train$fitGLM2, as.vector(unlist(train$ClaimNb))), 4),\n",
                "             out_sample_loss = round(PoissonDeviance(test$fitGLM2, as.vector(unlist(test$ClaimNb))), 4),\n",
                "             avg_freq = round(sum(test$fitGLM2) / sum(test$Exposure), 4))\n",
                ")\n",
                "knitr::kable(df_cmp)\n"
            ]
        },
        {
            "cell_type": "markdown",
            "metadata": {},
            "source": [
                "## Calibration\n",
                "\n",
                "\n",
                "In addition to fitting and validating the model with a few metrics, it is important to check if the model is well calibrated across the feature space. E.g. it could be that the overall fit of a model is good, but that there are areas where the model under- and overestimates the claim frequencies. It is the goal of the subsequent calibration plots to ensure the proper fit along the whole feature space.\n"
            ]
        },
        {
            "cell_type": "code",
            "execution_count": null,
            "metadata": {},
            "outputs": [],
            "source": [
                "# Area\n",
                "p1 <- plot_freq(test, \"Area\", \"frequency by area\", \"GLM\", \"fitGLM2\")\n",
                "# VehPower\n",
                "p2 <- plot_freq(test, \"VehPower\", \"frequency by vehicle power\", \"GLM\", \"fitGLM2\")\n",
                "# VehBrand\n",
                "p3 <- plot_freq(test, \"VehBrand\", \"frequency by vehicle brand\", \"GLM\", \"fitGLM2\")\n",
                "# VehAge\n",
                "p4 <- plot_freq(test, \"VehAge\", \"frequency by vehicle age\", \"GLM\", \"fitGLM2\")\n",
                "\n",
                "grid.arrange(p1, p2, p3, p4)\n"
            ]
        },
        {
            "cell_type": "markdown",
            "metadata": {},
            "source": [
                "Based on the charts, no issues are detected and the model seems to be well calibrated.\n",
                "\n",
                "**Exercise:** Perform the calibration with other variables not yet in the charts above.\n",
                "\n",
                "# Pre-processing Neural Networks\n",
                "\n",
                "## Introduction\n",
                "\n",
                "In this chapter, we explain how the data need to be pre-processed to be used in neural networks. It can not be processed in the same way as shown above for GLMs. Further details can be found in this tutorial on [SSRN](https://papers.ssrn.com/sol3/papers.cfm?abstract_id=3226852), chapter 2.\n",
                "\n",
                "We are going to highlight a few important points in data pre-processing that are necessary for a successful application of networks.\n",
                "\n",
                "In network modeling the choice of the scale of the feature components may substantially influence the fitting procedure of the predictive model. Therefore, data pre-processing requires careful consideration. We treat unordered categorical (nominal) feature components and continuous (or ordinal) feature components separately. Ordered categorical feature components are treated like continuous ones, where we simply replace the ordered categorical labels by integers. Binary categorical feature components are coded by 0's and 1's for the two binary labels (for binary labels we do not distinguish between ordered and unordered components). Remark that if we choose an anti-symmetric activation function, i.e. $-\\phi(x) = \\phi(-x)$, we may also set binary\n",
                "categorical feature components to $\\pm 1/2$, which may simplify initialization of optimization\n",
                "algorithms.\n",
                "\n",
                "### Unordered (nominal) categorical feature components\n",
                "\n",
                "We need to transform (nominal) categorical feature components to numerical values. The most commonly used transformations are the so-called **dummy coding** and the **one-hot encoding**. Both methods construct binary representations for categorical labels. For dummy coding one label is chosen as reference level. Dummy coding then uses binary variables to indicate which label a particular policy possesses if it differs from the reference level. In our example we have two unordered categorical feature components, namely VehBrand and Region. We use VehBrand as\n",
                "illustration. It has 11 different labels $\\{B_1, B_{10}, B_{11}, B_{12}, B_{13}, B_{14}, B_2, B_3, B_4, B_5, B_6\\}$. We choose\n",
                "$B_1$ as reference label. Dummy coding then provides the coding scheme below (left). We observe that the 11 labels are replaced by 10-dimensional feature vectors $\\{0,1\\}^{10}$, with components summing up to either 0 or 1.\n",
                "\n",
                "![2_fnn](Figure_Encoding.PNG)\n",
                "\n",
                "In contrast to dummy coding, one-hot encoding does not choose a reference level, but uses an indicator for each label. In this way the 11 labels of VehBrand are replaced by the 11 unit vectors. The main difference between dummy coding and one-hot encoding is that the former leads to full rank design matrices, whereas the latter does not. This implies that under one-hot encoding there are identifiability issues in parametrizations. In network modeling identifiability is less important because we typically work in over-parametrized nonconvex optimization problems (with multiple equally good models/parametrizations); on the other hand, identifiability in GLMs is an important feature because one typically tries to solve a convex optimization problem, where the full rank property is important to efficiently  and the (unique) solution.\n",
                "\n",
                "Remark that other coding schemes could be used for categorical feature components such as Helmert's contrast coding. In classical GLMs the choice of the coding scheme typically does not influence the prediction, however, interpretation of the results may change by considering\n",
                "a different contrast. In network modeling the choice of the coding scheme may influence the prediction: typically, we exercise an early stopping rule in network calibrations. This early stopping rule and the corresponding result may depend on any chosen modeling strategy, such\n",
                "as the encoding scheme of categorical feature components.\n",
                "\n",
                "Remark that dummy coding and one-hot encoding may lead to very high-dimensional input layers in networks, and it provides sparsity in input features. Moreover, the Euclidean distance between any two labels in the one-hot encoding scheme is that same. From natural language\n",
                "processing (NLP) we have learned that there are more efficient ways of representing categorical feature components, namely, by embedding them into lower-dimensional spaces so that proximity in these spaces has a useful meaning in the regression task. In networks this can be achieved by\n",
                "so-called embedding layers. In the context of our French MTPL example we refer to our next notebook.\n",
                "\n",
                "### Continuous feature components\n",
                "\n",
                "In theory, continuous feature components do not need pre-processing if we choose a sufficiently rich network, because the network may take care of feature components living on different scales. This statement is of purely theoretical value. In practice, continuous feature components need\n",
                "pre-processing such that they all live on a similar scale and such that they are sufficiently equally distributed across this scale. The reason for this requirement is that the calibration algorithms mostly use gradient descent methods (GDMs). These GDMs only work properly, if\n",
                "all components live on a similar scale and, thus, all directions contribute equally to the gradient.\n",
                "Otherwise, the optimization algorithms may get trapped in saddle points or in regions where the gradients are at (also known as vanishing gradient problem). Often, one uses $[-1,+1]$ as the common scale because the/our choice of activation function is focused to that scale.\n",
                "\n",
                "A popular transformation is the so-called MinMaxScaler. For this transformation we fix each continuous feature component of $x$, say $x_l$, at a time. Denote the minimum and the maximum of the domain of $x_l$ by $m_l$ and $M_l$, respectively. The MinMaxScaler then replaces\n",
                "\n",
                "![2_fnn](Figure_MinMaxScaler.PNG)\n",
                "\n",
                "In practice, it may happen that the minimum ml or the maximum Ml is not known. In this case one chooses the corresponding minimum and/or maximum of the features in the observed data. For prediction under new features one then needs to keep the original scaling of the initially\n",
                "observed data, i.e. the one which has been used for model calibration.\n",
                "\n",
                "Remark that if we have outliers, the above transformations may lead to very concentrated transformed feature components $x_l^*$, $i=1,...,n$, because the outliers may, for instance, dominate the maximum in the MinMaxScaler. In this case, feature components should be transformed\n",
                "first by a log-transformation or by a quantile transformation so that they become more equally spaced (and robust) across the real line.\n",
                "\n",
                "### Binary feature components\n",
                "\n",
                "We observe that binary feature components (e.g. gender) are often embedded in the ML literature into a higher-dimensional space. However, we are of the opinion that this does not make sense. Hence, we suggest to set binary categorical feature components to $\\pm 1/2$.\n",
                "\n",
                "### Summary\n",
                "\n",
                "As a rule of thumb one could formulate it as follows:\n",
                "\n",
                "- continuous features $\\Rightarrow$ scale to $[-1,+1]$ (if no outliers)\n",
                "- binary features $\\Rightarrow$ set to $\\{-1/2,+1/2 \\}$\n",
                "- categorical features:\n",
                "     - make them numerical $\\Rightarrow$ scale to $[-1,+1]$\n",
                "     - One-hot encoding $\\Rightarrow$ no scaling\n",
                "     - dummy encoding $\\Rightarrow$ no scaling\n",
                "     - embedding $\\Rightarrow$ made numerical and no scaling\n",
                "\n",
                "## Pre-processing functions\n",
                "\n",
                "In our example we use dummy coding for the feature components VehBrand and Region. We use the MinMaxScaler for Area (after transforming $\\{A,...,F\\}$ $\\mapsto$ $\\{1,...,6\\}$), VehPower, VehAge (after capping at age 20), DrivAge (after capping at age 90), BonusMalus (after capping at level 150) and Density (after first taking the log-transform). VehGas we transform to $\\pm 1/2$ and the volume Exposure $\\in (0,1]$ we keep untransformed.\n",
                "\n",
                "Below the corresponding pre-processing functions:\n"
            ]
        },
        {
            "cell_type": "code",
            "execution_count": null,
            "metadata": {},
            "outputs": [],
            "source": [
                "# MinMax scaler\n",
                "preprocess_minmax <- function(varData) {\n",
                "  X <- as.numeric(varData)\n",
                "  2 * (X - min(X)) / (max(X) - min(X)) - 1\n",
                "}\n",
                "\n",
                "# Dummy coding \n",
                "preprocess_catdummy <- function(data, varName, prefix) {\n",
                "  varData <- data[[varName]]\n",
                "  X <- as.integer(varData)\n",
                "  n0 <- length(unique(X))\n",
                "  n1 <- 2:n0\n",
                "  addCols <- purrr::map(n1, function(x, y) {as.integer(y == x)}, y = X) %>%\n",
                "    rlang::set_names(paste0(prefix, n1))\n",
                "  cbind(data, addCols)\n",
                "}\n",
                "\n",
                "# Feature pre-processing using MinMax Scaler and Dummy Coding\n",
                "preprocess_features <- function(data) {\n",
                "  data %>%\n",
                "    mutate_at(\n",
                "      c(AreaX = \"Area\", VehPowerX = \"VehPower\", VehAgeX = \"VehAge\",\n",
                "        DrivAgeX = \"DrivAge\", BonusMalusX = \"BonusMalus\", DensityX = \"Density\"),\n",
                "      preprocess_minmax\n",
                "    ) %>%\n",
                "    mutate(\n",
                "      VehGasX = as.integer(VehGas) - 1.5\n",
                "    ) %>%\n",
                "    preprocess_catdummy(\"VehBrand\", \"Br\") %>%\n",
                "    preprocess_catdummy(\"Region\", \"R\")\n",
                "}\n"
            ]
        },
        {
            "cell_type": "markdown",
            "metadata": {},
            "source": [
                "## Execute pre-processing\n",
                "\n"
            ]
        },
        {
            "cell_type": "code",
            "execution_count": null,
            "metadata": {},
            "outputs": [],
            "source": [
                "dat2 <- preprocess_features(dat)\n",
                "\n"
            ]
        },
        {
            "cell_type": "markdown",
            "metadata": {},
            "source": [
                "## Inspect the pre-processed data\n",
                "\n"
            ]
        },
        {
            "cell_type": "code",
            "execution_count": null,
            "metadata": {},
            "outputs": [],
            "source": [
                "knitr::kable(head(dat2))\n",
                "\n"
            ]
        },
        {
            "cell_type": "markdown",
            "metadata": {},
            "source": "\n"
        },
        {
            "cell_type": "code",
            "execution_count": null,
            "metadata": {},
            "outputs": [],
            "source": [
                "str(dat2)\n",
                "\n"
            ]
        },
        {
            "cell_type": "markdown",
            "metadata": {},
            "source": "\n"
        },
        {
            "cell_type": "code",
            "execution_count": null,
            "metadata": {},
            "outputs": [],
            "source": [
                "summary(dat2)\n",
                "\n"
            ]
        },
        {
            "cell_type": "markdown",
            "metadata": {},
            "source": [
                "## Split train and test data\n",
                "\n",
                "First, we split the dataset into train and test. Due to the potential grouping of rows in policies we can not just do a random split. For this purpose, we use the function `partition(...)` from the `splitTools` package.\n"
            ]
        },
        {
            "cell_type": "code",
            "execution_count": null,
            "metadata": {},
            "outputs": [],
            "source": [
                "ind <- partition(dat2[[\"group_id\"]], p = c(train = 0.8, test = 0.2), \n",
                "                 seed = seed, type = \"grouped\")\n",
                "train <- dat2[ind$train, ]\n",
                "test <- dat2[ind$test, ]\n"
            ]
        },
        {
            "cell_type": "markdown",
            "metadata": {},
            "source": "\n"
        },
        {
            "cell_type": "code",
            "execution_count": null,
            "metadata": {},
            "outputs": [],
            "source": [
                "# size of train/test\n",
                "sprintf(\"Number of observations (train): %s\", nrow(train))\n",
                "sprintf(\"Number of observations (test): %s\", nrow(test))\n",
                "\n",
                "# Claims frequency of train/test\n",
                "sprintf(\"Empirical frequency (train): %s\", round(sum(train$ClaimNb) / sum(train$Exposure), 4))\n",
                "sprintf(\"Empirical frequency (test): %s\", round(sum(test$ClaimNb) / sum(test$Exposure), 4))\n"
            ]
        },
        {
            "cell_type": "markdown",
            "metadata": {},
            "source": [
                "## Common neural network specifications\n",
                "\n",
                "In this section, we define objects and parameters which are used for all subsequent neural networks considered, independent of their network structure.\n",
                "\n",
                "We need to define which components in the pre-processed dataset `dat2` are used as input features. As we have added the pre-processed features appropriate for the neural networks to the original features, we only must use the relevant ones.\n"
            ]
        },
        {
            "cell_type": "code",
            "execution_count": null,
            "metadata": {},
            "outputs": [],
            "source": [
                "# select the feature space\n",
                "col_start <- ncol(dat) + 1\n",
                "col_end <- ncol(dat2)\n",
                "features <- c(col_start:col_end)  # select features, be careful if pre-processing changes\n",
                "print(colnames(train[, features]))\n"
            ]
        },
        {
            "cell_type": "markdown",
            "metadata": {},
            "source": [
                "The input to keras requires the train and testing data to be of matrix format, including all features used in the matrix and already correctly pre-processed.\n",
                "\n"
            ]
        },
        {
            "cell_type": "code",
            "execution_count": null,
            "metadata": {},
            "outputs": [],
            "source": [
                "# feature matrix\n",
                "Xtrain <- as.matrix(train[, features])  # design matrix training sample\n",
                "Xtest <- as.matrix(test[, features])    # design matrix test sample\n"
            ]
        },
        {
            "cell_type": "markdown",
            "metadata": {},
            "source": [
                "# Designing neural networks\n",
                "\n",
                "The choice of a particular network architecture and its calibration involve many steps. In each of these steps the modeler has to make\n",
                "certain decisions, and it may require that each of these decisions is revised several times in order to get the best (or more modestly a good) predictive model.\n",
                "\n",
                "In this section we provide a short explanation on the ones explicitly used below. We refer to this tutorial on [SSRN](https://papers.ssrn.com/sol3/papers.cfm?abstract_id=3226852) and further literature (provided below in the last chapter) to learn more about these hyperparameters and the way to choose the right architecture.\n",
                "\n",
                "The tutorial covers the choice of a particular network architecture and its calibration. In each of these steps the modeler has to make\n",
                "certain decisions, and it may require that each of these decisions is revised several times in order to get the best (or more modestly a good) predictive model. The choices involve:\n",
                "\n",
                "![2_fnn](Figure_DesignDecisions.PNG)\n",
                "\n",
                "## Gradient descent methods\n",
                "\n",
                "There are several optimizers available to find the solution to a neural networks, a short description as follows:\n",
                "\n",
                "- The stochastic gradient descent method, called 'sgd', can be fine-tuned for the speed of convergence by using optimal learning rates, momentum-based improvements, the Nesterov acceleration and optimal batches. `stochastic' gradient means that in contrast to (steepest) gradient descent, we explore locally optimally steps on random sub-samples\n",
                "- 'adagrad' chooses learning rates that differ in all directions of the gradient and that consider\n",
                "the directional sizes of the gradients ('ada' stands for adapted);\n",
                "- 'adadelta' is a modi\f\n",
                "ed version of 'adagrad' that overcomes some deficiencies of the latter,\n",
                "for instance, the sensitivity to hyperparameters;\n",
                "- 'rmsprop' is another method to overcome the deficiencies of 'adagrad' ('rmsprop' stands\n",
                "for root mean square propagation);\n",
                "- 'adam' stands for adaptive moment estimation, similar to 'adagrad' it searches for directionally\n",
                "optimal learning rates based on the momentum induced by past gradients\n",
                "measured by an `2-norm;\n",
                "- 'adamax' considers optimal learning rates as 'adam' but based on the $l_1$-norm;\n",
                "- 'nadam' is a Nesterov accelerated version of 'adam'.\n",
                "\n",
                "In the tutorial on [SSRN](https://papers.ssrn.com/sol3/papers.cfm?abstract_id=3226852), chapter 4 the performance of the various optimizers are analyzed. The study shows that `nadam` is a good candidate to be used.\n"
            ]
        },
        {
            "cell_type": "code",
            "execution_count": null,
            "metadata": {},
            "outputs": [],
            "source": [
                "# available optimizers for keras\n",
                "# https://keras.io/optimizers/\n",
                "optimizers <- c('sgd', 'adagrad', 'adadelta', 'rmsprop', 'adam', 'adamax', 'nadam')\n"
            ]
        },
        {
            "cell_type": "markdown",
            "metadata": {},
            "source": [
                "## Epochs and batches\n",
                "\n",
                "Epochs indicates how many times we go through the entire learning data $\\mathcal{D}$, and batch size indicates the size of the subsamples considered in each Gradient Descent Method (GDM) step. Thus, if the batch size is equal to the number of observations $n$ we do exactly one GDM step in one epoch, if the batch size is equal to 1 then we do n GDM steps in one epoch until we have seen the entire learning data  $\\mathcal{D}$. Note that smaller batches are needed for big data because it is not feasible to simultaneously calculate the gradient on all data efficiently if we have many observations. Therefore, we partition the entire data at random into (mini-) batches in the application of the GDM. Note that this partitioning of the data is of particular interest if we work with big data because it allows us to explore the data sequentially.\n",
                "\n",
                "Concretely, for the maximal batch size $n$ we can do exactly one GDM step in one epoch, for batch size $k$ we can do $n/k$ GDM steps in one epoch. For the maximal batch size we need to calculate the gradient on the entire data $\\mathcal{D}$. The latter is, of course, much faster but on the other hand we need to calculate $n/k$ gradients to run through the entire data (in an epoch).\n",
                "\n",
                "The partitioning of the data  $\\mathcal{D}$ into batches is done at random, and it may happen that several potential outliers lie in the same batch. This happens especially if the chosen batch size is small and the expected frequency is low (class imbalance problem).\n",
                "\n",
                "## Initialization\n",
                "\n",
                "A simple way to bring the initial network onto the right price level is to embed the homogeneous model into the neural network. This can be achieved by setting the output weights of the neurons equal to zero, and by initializing the output intercept to the homogeneous model. This is obtained subsequently by the code part defining the $\\mathtt{weights}$.\n"
            ]
        },
        {
            "cell_type": "code",
            "execution_count": null,
            "metadata": {},
            "outputs": [],
            "source": [
                "# homogeneous model (train)\n",
                "lambda_hom <- sum(train$ClaimNb) / sum(train$Exposure)\n"
            ]
        },
        {
            "cell_type": "markdown",
            "metadata": {},
            "source": [
                "## Activation function\n",
                "\n",
                "Next we discuss the choice of activation function $\\phi(\\cdot)$ Typical choices of activation functions are:\n",
                "\n",
                "![2_fnn](Figure_ActivFunc.PNG)\n",
                "\n",
                "The particular choice of the activation function may matter: calibration of deep networks may be slightly simpler if we choose the hyperbolic tangent activation because this will guarantee that all hidden neurons are in $(-1,+1)$, which is the domain of the main activation of the neurons in the next layer.\n",
                "\n",
                "The step function activation is useful for theoretical considerations. From a practical point of view it is less useful because it is not differentiable and difficult to calibrate. Moreover, the discontinuity also implies that neighboring feature components may have rather different regression function responses: if the step function jumps, say, between driver's ages 48 and 49, then these two driver's ages may have a rather different insurance premium. For these reasons we do not pursue with the step function activation here.\n",
                "\n",
                "We remark that the ReLU activation function often leads to sparsity in deep network activations because some neurons remain unactivated for the entire input. Such an effect may be wanted because it reduces the complexity of the regression model, but it can also be an undesired side effect because it may increase the difficulty in model calibration because of more vanishing gradients. Moreover, ReLU may lead to arbitrarily large activations in neurons because it is an unbounded activation function, this may be an unwanted effect because it may need re-scaling of  activations to the main domain around the origin.\n",
                "\n",
                "# Model 2: Shallow plain vanilla neural network (shNN)\n",
                "\n",
                "Let us first fit the most simple feed-forward neural network, a so called shallow plain vanilla neural network. Before fitting and specifying a neural network, we highly recommend to draw it. This helps in using the `keras` function.\n",
                "\n",
                "We choose a network with $K=1$ **one hidden layer** and $q_1=20$ **neurons**, which looks as follows:\n",
                "\n",
                "![2_fnn](Figure_shNN.PNG)\n",
                "\n",
                "The dimension of the input layer is defined by the selected input feature dimension (see above).\n",
                "\n",
                "## Definition\n",
                "\n",
                "Below we define the network parameters.\n"
            ]
        },
        {
            "cell_type": "code",
            "execution_count": null,
            "metadata": {},
            "outputs": [],
            "source": [
                "# define network and load pre-specified weights\n",
                "q0 <- length(features)                  # dimension of features\n",
                "q1 <- 20                                # number of hidden neurons in hidden layer\n",
                "\n",
                "sprintf(\"Neural network with K=1 hidden layer\")\n",
                "sprintf(\"Input feature dimension: q0 = %s\", q0)\n",
                "sprintf(\"Number of hidden neurons: q1 = %s\", q1)\n",
                "sprintf(\"Output dimension: %s\", 1)\n"
            ]
        },
        {
            "cell_type": "markdown",
            "metadata": {},
            "source": [
                "Below we define the feed-forward shallow network with $q_1$ hidden neurons and hyperbolic tangent activation function, the output has exponential activation function due to the Poisson GLM.\n",
                "\n",
                "The exposure is included as an offset, and we use the homogeneous model for initializing the output.\n",
                "\n",
                "In this notebook we do not provide further details on the layers used and the structure, we refer to other notebooks or the references at the end of this notebook. A good reference is the `keras` cheat sheet.\n"
            ]
        },
        {
            "cell_type": "code",
            "execution_count": null,
            "metadata": {},
            "outputs": [],
            "source": [
                "Design  <- layer_input(shape = c(q0), dtype = 'float32', name = 'Design') \n",
                "LogVol  <- layer_input(shape = c(1), dtype = 'float32', name = 'LogVol')\n",
                "\n",
                "Network <- Design %>%\n",
                "  layer_dense(units = q1, activation = 'tanh', name = 'layer1') %>%\n",
                "  layer_dense(units = 1, activation = 'linear', name = 'Network',\n",
                "              weights = list(array(0, dim = c(q1, 1)), array(log(lambda_hom), dim = c(1))))\n",
                "\n",
                "Response <- list(Network, LogVol) %>%\n",
                "  layer_add(name = 'Add') %>%\n",
                "  layer_dense(units = 1, activation = k_exp, name = 'Response', trainable = FALSE,\n",
                "              weights = list(array(1, dim = c(1, 1)), array(0, dim = c(1))))\n",
                "\n",
                "model_sh <- keras_model(inputs = c(Design, LogVol), outputs = c(Response))\n"
            ]
        },
        {
            "cell_type": "markdown",
            "metadata": {},
            "source": [
                "## Compilation\n",
                "\n",
                "\n",
                "Let us compile the model, using the Poisson deviance loss function as objective function, and nadam as the optimizer, and we provide a summary of the network structure.\n",
                "\n",
                "For further details, we refer to the help file of `compile` [here](https://keras.rstudio.com/reference/compile.html).\n"
            ]
        },
        {
            "cell_type": "code",
            "execution_count": null,
            "metadata": {},
            "outputs": [],
            "source": [
                "model_sh %>% compile(\n",
                "  loss = 'poisson',\n",
                "  optimizer = optimizers[7]\n",
                ")\n",
                "\n",
                "summary(model_sh)\n"
            ]
        },
        {
            "cell_type": "markdown",
            "metadata": {},
            "source": [
                "This summary is crucial for a good understanding of the fitted model. It contains the total number of parameters and shows what the exposure is included as an offset (without training the corresponding weight).\n",
                "\n",
                "## Fitting\n",
                "\n",
                "For fitting a keras model and its arguments, we refer to the help of `fit` [here](https://keras.rstudio.com/reference/fit.html). There you find details about the `validation_split` and the `verbose` argument.\n",
                "\n",
                "If validation_split>0, then the training set is further subdivided into a new training and a validation set. The new training set is used for fitting the model and the validation set is used for (out-of-sample) validation. We emphasize that the validation set is chosen disjointly from the test data, as this latter data may still be used later for the choice of the optimal model (if, for instance, we need to decide between several networks).\n",
                "\n",
                "With validation_split=0.2 we split the learning data 8:2 into training set and validation set. We fit the network on the training set and we out-of-sample validate it on the validation set.\n"
            ]
        },
        {
            "cell_type": "code",
            "execution_count": null,
            "metadata": {},
            "outputs": [],
            "source": [
                "# set hyperparameters\n",
                "epochs <- 300\n",
                "batch_size <- 10000\n",
                "validation_split <- 0.2  # set to >0 to see train/validation loss in plot(fit)\n",
                "verbose <- 1\n"
            ]
        },
        {
            "cell_type": "markdown",
            "metadata": {},
            "source": "\n"
        },
        {
            "cell_type": "code",
            "execution_count": null,
            "metadata": {},
            "outputs": [],
            "source": [
                "# expected run-time on Renku 8GB environment around 70 seconds\n",
                "exec_time <- system.time(\n",
                "  fit <- model_sh %>% fit(\n",
                "    list(Xtrain, as.matrix(log(train$Exposure))), as.matrix(train$ClaimNb),\n",
                "    epochs = epochs,\n",
                "    batch_size = batch_size,\n",
                "    validation_split = validation_split,\n",
                "    verbose = verbose\n",
                "  )\n",
                ")\n",
                "exec_time[1:5]\n"
            ]
        },
        {
            "cell_type": "markdown",
            "metadata": {},
            "source": [
                "Let us illustrate the decrease of loss during the gradient descent algorithm.\n",
                "We provide two charts below\n",
                "\n",
                "- First one: Depending on the argument validation_split you see one curve or two curves (training and validation).\n",
                "- Second one: only shown if validation_split > 0\n",
                "\n",
                "The plots help to determine the optimal number of epochs.\n"
            ]
        },
        {
            "cell_type": "code",
            "execution_count": null,
            "metadata": {},
            "outputs": [],
            "source": [
                "plot(fit)\n",
                "\n"
            ]
        },
        {
            "cell_type": "markdown",
            "metadata": {},
            "source": "\n"
        },
        {
            "cell_type": "code",
            "execution_count": null,
            "metadata": {},
            "outputs": [],
            "source": [
                "plot_loss(x = fit[[2]])\n",
                "\n"
            ]
        },
        {
            "cell_type": "markdown",
            "metadata": {},
            "source": [
                "You can see the following on the charts:\n",
                "\n",
                "- $\\texttt{validation}\\_\\texttt{split}=0$: Decrease of the loss during the algorithm for the whole training data. You should expect to see a steady decrease and leveling off at some time. The more epochs, the smaller the loss.\n",
                "- $\\texttt{validation}\\_\\texttt{split}>0$: decrease of the loss during the algorithm, for training and validation data separately. The loss on the training data is expected to decrease with leveling off, whereas the loss on the validation data decreases and at some point increases again. The epoch with the smallest loss is then a good selection of the optimal number of epochs.\n",
                "\n",
                "Below, we show two examples how the plots should ideally look like:\n",
                "* The corresponding tutorial on [SSRN](https://papers.ssrn.com/sol3/papers.cfm?abstract_id=3226852), Figure 14.\n",
                "* RStudio blog [here](https://blogs.rstudio.com/ai/posts/2017-12-07-text-classification-with-keras/)\n",
                "\n",
                "as follows, closely copy paste what you find on the linked websites as comments:\n",
                "\n",
                "![2_fnn](Figure_Loss_RStudio.PNG)\n",
                "![2_fnn](Figure_Loss_Tutorial.PNG)\n",
                "\n",
                "In the first chart (citing the comment on the page), the training loss decreases with every epoch. That’s what you would expect when running a gradient-descent optimization – the quantity you’re trying to minimize should be less with every iteration. But that isn’t the case for the validation loss and accuracy: they seem to peak at the fourth epoch. This is an example of what we warned against earlier: a model that performs better on the training data isn’t necessarily a model that will do better on data it has never seen before. In precise terms, what you’re seeing is overfitting: after the second epoch, you’re overoptimizing on the training data, and you end up learning representations that are specific to the training data and don’t generalize to data outside of the training set.\n",
                "\n",
                "In the second chart, the learning data $\\mathcal{D}$ is split into a training set and a validation set. The training set is used for fitting the model and the validation set is used for (out-of-sample) validation. We emphasize that we choose the validation\n",
                "set disjointly from the test data $\\mathcal{T}$. \n",
                "In the second figure the learning data is split 8:2 into training set (blue color) and validation set (green color). The network is fit on the training set and it is validated on the validation set. We observe that the model starts to over-fit to the learning data after roughly 150 epochs, since the validation loss (green color) starts to increase thereafter.\n",
                "\n",
                "**Exercise** In the code here, we see the charts based on the training and validation set. Take this model and look at the curve on the test data.\n",
                "\n",
                "**Exercise** For comparing the models, one should select the optimal number of epochs as selected above. Do so and look how the out-of-sample prediction changes.\n",
                "\n",
                "## Validation\n"
            ]
        },
        {
            "cell_type": "code",
            "execution_count": null,
            "metadata": {},
            "outputs": [],
            "source": [
                "# calculating the predictions\n",
                "train$fitshNN <- as.vector(model_sh %>% predict(list(Xtrain, as.matrix(log(train$Exposure)))))\n",
                "test$fitshNN <- as.vector(model_sh %>% predict(list(Xtest, as.matrix(log(test$Exposure)))))\n",
                "\n",
                "# average in-sample and out-of-sample losses (in 10^(-2))\n",
                "sprintf(\"100 x Poisson deviance shallow network (train): %s\", PoissonDeviance(train$fitshNN, train$ClaimNb))\n",
                "sprintf(\"100 x Poisson deviance shallow network (test): %s\", PoissonDeviance(test$fitshNN, test$ClaimNb))\n",
                "\n",
                "# average frequency\n",
                "sprintf(\"Average frequency (test): %s\", round(sum(test$fitshNN) / sum(test$Exposure), 4))\n"
            ]
        },
        {
            "cell_type": "markdown",
            "metadata": {},
            "source": "\n"
        },
        {
            "cell_type": "code",
            "execution_count": null,
            "metadata": {},
            "outputs": [],
            "source": [
                "trainable_params <- sum(unlist(lapply(model_sh$trainable_weights, k_count_params)))\n",
                "df_cmp %<>% bind_rows(\n",
                "  data.frame(model = \"M2: Shallow Plain Network\", epochs = epochs,\n",
                "             run_time = round(exec_time[[3]], 0), parameters = trainable_params,\n",
                "             in_sample_loss = round(PoissonDeviance(train$fitshNN, train$ClaimNb), 4),\n",
                "             out_sample_loss = round(PoissonDeviance(test$fitshNN, test$ClaimNb), 4),\n",
                "             avg_freq = round(sum(test$fitshNN) / sum(test$Exposure), 4)\n",
                "  ))\n",
                "\n",
                "knitr::kable(df_cmp)\n"
            ]
        },
        {
            "cell_type": "markdown",
            "metadata": {},
            "source": [
                "## Calibration\n",
                "\n"
            ]
        },
        {
            "cell_type": "code",
            "execution_count": null,
            "metadata": {},
            "outputs": [],
            "source": [
                "# Area\n",
                "p1 <- plot_freq(test, \"Area\", \"Frequency by area\", \"shNN\", \"fitshNN\")\n",
                "# VehPower\n",
                "p2 <- plot_freq(test, \"VehPower\", \"Frequency by vehicle power\", \"shNN\", \"fitshNN\")\n",
                "# VehBrand\n",
                "p3 <- plot_freq(test, \"VehBrand\", \"Frequency by vehicle brand\", \"shNN\", \"fitshNN\")\n",
                "# VehAge\n",
                "p4 <- plot_freq(test, \"VehAge\", \"Frequency by vehicle age\", \"shNN\", \"fitshNN\")\n",
                "\n",
                "grid.arrange(p1, p2, p3, p4)\n"
            ]
        },
        {
            "cell_type": "markdown",
            "metadata": {},
            "source": [
                "Is worthwhile to remark that the fit is quite close to the observations and that the neural networks smooths out some jumps in the observations for VehAge which is in line with expectations.\n",
                "\n",
                "**Exercise**: Change the number of neurons, compare the number of parameters and the fitted results.\n",
                "\n",
                "**Exercise:** Change the input feature space by removing for example Area, VehPower from the input and compare the number of network parameters and the fitted results.\n",
                "\n",
                "**Exercise:** Read the documentation to the optimizers and run the subsequent analysis with different optimizers and compare the results.\n",
                "\n",
                "**Exercise**: Change the random seeds (at the beginning of the tutorial) and compare the results.\n",
                "\n",
                "**Exercise** Run the same analysis and see if you can fully reproduce the results. What do you conclude from that?\n",
                "\n",
                "**Exercise:** Change the activation function (only where it is appropriate) and compare the results.\n",
                "\n",
                "**Exercise:** Change the validation_split and verbose argument and see the difference in the fitting of the model.\n",
                "\n",
                "# Model 3: Deep plain vanilla neural network (dpNN)\n",
                "\n",
                "Let us fit a deep neural network. In this chapter, we will not provide as many comments as above, as they remain valid for this chapter as well.\n",
                "\n",
                "Before fitting and specifying a neural network, we highly recommend to draw it. This helps in using the `keras` function.\n",
                "\n",
                "We choose a network with $K=3$ **three hidden layer** and $q_1=20$, $q_1=15$ and $q_1=10$ **neurons**, which looks as follows:\n",
                "\n",
                "![2_fnn](Figure_dpNN.PNG)\n",
                "\n",
                "The dimension of the input layer is defined by the selected input feature dimension (see above).\n",
                "\n",
                "## Definition\n"
            ]
        },
        {
            "cell_type": "code",
            "execution_count": null,
            "metadata": {},
            "outputs": [],
            "source": [
                "# define network\n",
                "q0 <- length(features)   # dimension of features\n",
                "q1 <- 20                 # number of neurons in first hidden layer\n",
                "q2 <- 15                 # number of neurons in second hidden layer\n",
                "q3 <- 10                 # number of neurons in second hidden layer\n",
                "\n",
                "sprintf(\"Neural network with K=3 hidden layer\")\n",
                "sprintf(\"Input feature dimension: q0 = %s\", q0)\n",
                "sprintf(\"Number of hidden neurons first layer: q1 = %s\", q1)\n",
                "sprintf(\"Number of hidden neurons second layer: q2 = %s\", q2)\n",
                "sprintf(\"Number of hidden neurons third layer: q3 = %s\", q3)\n",
                "sprintf(\"Output dimension: %s\", 1)\n"
            ]
        },
        {
            "cell_type": "markdown",
            "metadata": {},
            "source": [
                "Below we define the feed-forward shallow network with $q_1$ hidden neurons and hyperbolic tangent activation function, the output has exponential activation function due to the Poisson GLM.\n",
                "\n",
                "The exposure is included as an offset, and we use the homogeneous model for initializing the output.\n",
                "\n",
                "In this notebook we do not provide further details on the layers used and the structure, we refer to other notebooks or the references at the end of this notebook. A good reference is the `keras` cheat sheet.\n"
            ]
        },
        {
            "cell_type": "code",
            "execution_count": null,
            "metadata": {},
            "outputs": [],
            "source": [
                "Design <- layer_input(shape = c(q0), dtype = 'float32', name = 'Design') \n",
                "LogVol <- layer_input(shape = c(1), dtype = 'float32', name = 'LogVol')\n",
                "\n",
                "Network <- Design %>%\n",
                "  layer_dense(units = q1, activation = 'tanh', name = 'layer1') %>%\n",
                "  layer_dense(units = q2, activation = 'tanh', name = 'layer2') %>%\n",
                "  layer_dense(units = q3, activation = 'tanh', name = 'layer3') %>%\n",
                "  layer_dense(units = 1, activation = 'linear', name = 'Network', \n",
                "              weights = list(array(0, dim = c(q3, 1)), array(log(lambda_hom), dim = c(1))))\n",
                "\n",
                "Response <- list(Network, LogVol) %>%\n",
                "  layer_add(name = 'Add') %>% \n",
                "  layer_dense(units = 1, activation = k_exp, name = 'Response', trainable = FALSE,\n",
                "              weights = list(array(1, dim = c(1, 1)), array(0, dim = c(1))))\n",
                "\n",
                "model_dp <- keras_model(inputs = c(Design, LogVol), outputs = c(Response))\n"
            ]
        },
        {
            "cell_type": "markdown",
            "metadata": {},
            "source": [
                "## Compilation\n",
                "\n"
            ]
        },
        {
            "cell_type": "code",
            "execution_count": null,
            "metadata": {},
            "outputs": [],
            "source": [
                "model_dp %>% compile(\n",
                "  loss = 'poisson',\n",
                "  optimizer = optimizers[7]\n",
                ")\n",
                "\n",
                "summary(model_dp)\n"
            ]
        },
        {
            "cell_type": "markdown",
            "metadata": {},
            "source": [
                "## Fitting\n",
                "\n",
                "For fitting a keras model and its arguments, we refer to the help of `fit` [here](https://keras.rstudio.com/reference/fit.html). There you find details about the `validation_split` and the `verbose` argument.\n"
            ]
        },
        {
            "cell_type": "code",
            "execution_count": null,
            "metadata": {},
            "outputs": [],
            "source": [
                "# select number of epochs and batch_size\n",
                "epochs <- 300\n",
                "batch_size <- 10000\n",
                "validation_split <- 0.2  # set to >0 to see train/validation loss in plot(fit)\n",
                "verbose <- 1\n"
            ]
        },
        {
            "cell_type": "markdown",
            "metadata": {},
            "source": "\n"
        },
        {
            "cell_type": "code",
            "execution_count": null,
            "metadata": {},
            "outputs": [],
            "source": [
                "# expected run-time on Renku 8GB environment around 200 seconds\n",
                "exec_time <- system.time(\n",
                "  fit <- model_dp %>% fit(\n",
                "    list(Xtrain, as.matrix(log(train$Exposure))), as.matrix(train$ClaimNb),\n",
                "    epochs = epochs,\n",
                "    batch_size = batch_size,\n",
                "    validation_split = validation_split,\n",
                "    verbose = verbose\n",
                "  )\n",
                ")\n",
                "exec_time[1:5]\n"
            ]
        },
        {
            "cell_type": "markdown",
            "metadata": {},
            "source": "\n"
        },
        {
            "cell_type": "code",
            "execution_count": null,
            "metadata": {},
            "outputs": [],
            "source": [
                "plot(fit)\n",
                "\n"
            ]
        },
        {
            "cell_type": "markdown",
            "metadata": {},
            "source": "\n"
        },
        {
            "cell_type": "code",
            "execution_count": null,
            "metadata": {},
            "outputs": [],
            "source": [
                "plot_loss(x = fit[[2]])\n",
                "\n"
            ]
        },
        {
            "cell_type": "markdown",
            "metadata": {},
            "source": [
                "Again, around 100 epochs seem to be optimal.\n",
                "\n",
                "## Validation\n"
            ]
        },
        {
            "cell_type": "code",
            "execution_count": null,
            "metadata": {},
            "outputs": [],
            "source": [
                "# Validation: Poisson deviance\n",
                "train$fitdpNN <- as.vector(model_dp %>% predict(list(Xtrain, as.matrix(log(train$Exposure)))))\n",
                "test$fitdpNN <- as.vector(model_dp %>% predict(list(Xtest, as.matrix(log(test$Exposure)))))\n",
                "\n",
                "sprintf(\"100 x Poisson deviance shallow network (train): %s\", PoissonDeviance(train$fitdpNN, train$ClaimNb))\n",
                "sprintf(\"100 x Poisson deviance shallow network (test): %s\", PoissonDeviance(test$fitdpNN, test$ClaimNb))\n",
                "\n",
                "# average frequency\n",
                "sprintf(\"Average frequency (test): %s\", round(sum(test$fitdpNN) / sum(test$Exposure), 4))\n"
            ]
        },
        {
            "cell_type": "markdown",
            "metadata": {},
            "source": "\n"
        },
        {
            "cell_type": "code",
            "execution_count": null,
            "metadata": {},
            "outputs": [],
            "source": [
                "trainable_params <- sum(unlist(lapply(model_dp$trainable_weights, k_count_params)))\n",
                "df_cmp %<>% bind_rows(\n",
                "  data.frame(model = \"M3: Deep Plain Network\", epochs = epochs,\n",
                "             run_time = round(exec_time[[3]], 0), parameters = trainable_params,\n",
                "             in_sample_loss = round(PoissonDeviance(train$fitdpNN, train$ClaimNb), 4),\n",
                "             out_sample_loss = round(PoissonDeviance(test$fitdpNN, test$ClaimNb), 4),\n",
                "             avg_freq = round(sum(test$fitdpNN) / sum(test$Exposure), 4)\n",
                "  ))\n",
                "knitr::kable(df_cmp)\n"
            ]
        },
        {
            "cell_type": "markdown",
            "metadata": {},
            "source": [
                "## Calibration\n",
                "\n"
            ]
        },
        {
            "cell_type": "code",
            "execution_count": null,
            "metadata": {},
            "outputs": [],
            "source": [
                "# Area\n",
                "p1 <- plot_freq(test, \"Area\", \"frequency by area\", \"dpNN\", \"fitdpNN\")\n",
                "# VehPower\n",
                "p2 <- plot_freq(test, \"VehPower\", \"frequency by vehicle power\", \"dpNN\", \"fitdpNN\")\n",
                "# VehBrand\n",
                "p3 <- plot_freq(test, \"VehBrand\", \"frequency by vehicle brand\", \"dpNN\", \"fitdpNN\")\n",
                "# VehAge\n",
                "p4 <- plot_freq(test, \"VehAge\", \"frequency by vehicle age\", \"dpNN\", \"fitdpNN\")\n",
                "\n",
                "grid.arrange(p1, p2, p3, p4)\n"
            ]
        },
        {
            "cell_type": "markdown",
            "metadata": {},
            "source": [
                "# Model 4: Deep neural network with dropout layers (drNN)\n",
                "\n",
                "## Definition\n"
            ]
        },
        {
            "cell_type": "code",
            "execution_count": null,
            "metadata": {},
            "outputs": [],
            "source": [
                "# define network\n",
                "q0 <- length(features)  # dimension of input features\n",
                "q1 <- 20                # number of neurons in first hidden layer\n",
                "q2 <- 15                # number of neurons in second hidden layer\n",
                "q3 <- 10                # number of neurons in second hidden layer\n",
                "p0 <- 0.05              # dropout rate     \n",
                "\n",
                "sprintf(\"Neural network with K=3 hidden layer and 3 dropout layers\")\n",
                "sprintf(\"Input feature dimension: q0 = %s\", q0)\n",
                "sprintf(\"Number of hidden neurons first layer: q1 = %s\", q1)\n",
                "sprintf(\"Number of hidden neurons second layer: q2 = %s\", q2)\n",
                "sprintf(\"Number of hidden neurons third layer: q3 = %s\", q3)\n",
                "sprintf(\"Output dimension: %s\", 1)\n"
            ]
        },
        {
            "cell_type": "markdown",
            "metadata": {},
            "source": [
                "\n",
                "\n"
            ]
        },
        {
            "cell_type": "code",
            "execution_count": null,
            "metadata": {},
            "outputs": [],
            "source": [
                "Design <- layer_input(shape = c(q0), dtype = 'float32', name = 'Design')\n",
                "LogVol <- layer_input(shape = c(1), dtype = 'float32', name = 'LogVol')\n",
                "\n",
                "Network <- Design %>%\n",
                "  layer_dense(units = q1, activation = 'tanh', name = 'layer1') %>%\n",
                "  layer_dropout(rate = p0) %>%\n",
                "  layer_dense(units = q2, activation = 'tanh', name = 'layer2') %>%\n",
                "  layer_dropout(rate = p0) %>%\n",
                "  layer_dense(units = q3, activation = 'tanh', name = 'layer3') %>%\n",
                "  layer_dropout(rate = p0) %>%\n",
                "  layer_dense(units = 1, activation = 'linear', name = 'Network', \n",
                "              weights = list(array(0, dim = c(q3, 1)), array(log(lambda_hom), dim = c(1))))\n",
                "\n",
                "Response <- list(Network, LogVol) %>%\n",
                "  layer_add(name = 'Add') %>% \n",
                "  layer_dense(units = 1, activation = k_exp, name = 'Response', trainable = FALSE, \n",
                "              weights = list(array(1, dim = c(1, 1)), array(0, dim = c(1))))\n",
                "\n",
                "model_dr <- keras_model(inputs = c(Design, LogVol), outputs = c(Response))\n"
            ]
        },
        {
            "cell_type": "markdown",
            "metadata": {},
            "source": [
                "## Compilation\n",
                "\n"
            ]
        },
        {
            "cell_type": "code",
            "execution_count": null,
            "metadata": {},
            "outputs": [],
            "source": [
                "model_dr %>% compile(\n",
                "  loss = 'poisson',\n",
                "  optimizer = optimizers[7]\n",
                ")\n",
                "\n",
                "summary(model_dr)\n"
            ]
        },
        {
            "cell_type": "markdown",
            "metadata": {},
            "source": [
                "## Fitting\n",
                "\n"
            ]
        },
        {
            "cell_type": "code",
            "execution_count": null,
            "metadata": {},
            "outputs": [],
            "source": [
                "# select number of epochs and batch_size\n",
                "epochs <- 500\n",
                "batch_size <- 10000\n",
                "validation_split <- 0.2  # set >0 to see train/validation loss in plot(fit)\n",
                "verbose <- 1\n"
            ]
        },
        {
            "cell_type": "markdown",
            "metadata": {},
            "source": "\n"
        },
        {
            "cell_type": "code",
            "execution_count": null,
            "metadata": {},
            "outputs": [],
            "source": [
                "# expected run-time on Renku 8GB environment around 110 seconds (for 100 epochs)\n",
                "exec_time <- system.time(\n",
                "  fit <- model_dr %>% fit(\n",
                "    list(Xtrain, as.matrix(log(train$Exposure))), as.matrix(train$ClaimNb),\n",
                "    epochs = epochs,\n",
                "    batch_size = batch_size,\n",
                "    validation_split = validation_split,\n",
                "    verbose = verbose\n",
                "  )\n",
                ")\n",
                "exec_time[1:5]\n"
            ]
        },
        {
            "cell_type": "markdown",
            "metadata": {},
            "source": "\n"
        },
        {
            "cell_type": "code",
            "execution_count": null,
            "metadata": {},
            "outputs": [],
            "source": [
                "plot(fit)\n",
                "\n"
            ]
        },
        {
            "cell_type": "markdown",
            "metadata": {},
            "source": "\n"
        },
        {
            "cell_type": "code",
            "execution_count": null,
            "metadata": {},
            "outputs": [],
            "source": [
                "plot_loss(x = fit[[2]])\n",
                "\n"
            ]
        },
        {
            "cell_type": "markdown",
            "metadata": {},
            "source": [
                "## Validation\n",
                "\n"
            ]
        },
        {
            "cell_type": "code",
            "execution_count": null,
            "metadata": {},
            "outputs": [],
            "source": [
                "# Validation: Poisson deviance\n",
                "train$fitdrNN <- as.vector(model_dr %>% predict(list(Xtrain, as.matrix(log(train$Exposure)))))\n",
                "test$fitdrNN <- as.vector(model_dr %>% predict(list(Xtest, as.matrix(log(test$Exposure)))))\n",
                "\n",
                "sprintf(\"100 x Poisson deviance shallow network (train): %s\", PoissonDeviance(train$fitdrNN, train$ClaimNb))\n",
                "sprintf(\"100 x Poisson deviance shallow network (test): %s\", PoissonDeviance(test$fitdrNN, test$ClaimNb))\n",
                "\n",
                "# average frequency\n",
                "sprintf(\"Average frequency (test): %s\", round(sum(test$fitdrNN) / sum(test$Exposure), 4))\n"
            ]
        },
        {
            "cell_type": "markdown",
            "metadata": {},
            "source": [
                "\n",
                "\n"
            ]
        },
        {
            "cell_type": "code",
            "execution_count": null,
            "metadata": {},
            "outputs": [],
            "source": [
                "trainable_params <- sum(unlist(lapply(model_dr$trainable_weights, k_count_params)))\n",
                "df_cmp %<>% bind_rows(\n",
                "  data.frame(model = \"M4: Deep Dropout Network\", epochs = epochs,\n",
                "             run_time = round(exec_time[[3]], 0), parameters = trainable_params,\n",
                "             in_sample_loss = round(PoissonDeviance(train$fitdrNN, train$ClaimNb), 4),\n",
                "             out_sample_loss = round(PoissonDeviance(test$fitdrNN, test$ClaimNb), 4),\n",
                "             avg_freq = round(sum(test$fitdrNN) / sum(test$Exposure), 4)\n",
                "  ))\n",
                "knitr::kable(df_cmp)\n"
            ]
        },
        {
            "cell_type": "markdown",
            "metadata": {},
            "source": [
                "## Calibration\n",
                "\n"
            ]
        },
        {
            "cell_type": "code",
            "execution_count": null,
            "metadata": {},
            "outputs": [],
            "source": [
                "# Area\n",
                "p1 <- plot_freq(test, \"Area\", \"frequency by area\", \"drNN\", \"fitdrNN\")\n",
                "# VehPower\n",
                "p2 <- plot_freq(test, \"VehPower\", \"frequency by vehicle power\", \"drNN\", \"fitdrNN\")\n",
                "# VehBrand\n",
                "p3 <- plot_freq(test, \"VehBrand\", \"frequency by vehicle brand\", \"drNN\", \"fitdrNN\")\n",
                "# VehAge\n",
                "p4 <- plot_freq(test, \"VehAge\", \"frequency by vehicle age\", \"drNN\", \"fitdrNN\")\n",
                "\n",
                "grid.arrange(p1, p2, p3, p4)\n"
            ]
        },
        {
            "cell_type": "markdown",
            "metadata": {},
            "source": [
                "# Further network architectures\n",
                "\n",
                "So far, we have fitted three different network architectures and we are comparing their performance and quality of fit. \n",
                "\n",
                "As mentioned above, one can amend and change hyperparameters (optimizer, batch size, epochs,...) and see how the results change.\n",
                "\n",
                "One can also change the neural network architecture, e.g.\n",
                "* change the number of layers and neurons\n",
                "* add additional layers, e.g. normalization layers\n",
                "* add ridge regularization\n",
                "\n",
                "See:\n",
                "* the keras cheat sheet https://github.com/rstudio/cheatsheets/raw/master/keras.pdf.\n",
                "* the tutorial: https://papers.ssrn.com/sol3/papers.cfm?abstract_id=3226852\n",
                "\n",
                "**Exercise:** Have a look at the keras cheat sheet, study the normalization layer and add them and compare the results.\n",
                "\n",
                "**Exercise:** Look at other layers, try to understand them and compare the impact of these layers.\n",
                "\n",
                "**Exercise:** Apply ridge regularization, understand what it is and compare the results.\n",
                "\n",
                "**Exercise:** In all models above, select the optimal number of epochs as described and compare the overall results.\n",
                "\n",
                "With fitting neural networks, there are a couple of questions arising, and we like to share some of our experience here:\n",
                "\n",
                "- The choice of the architecture can be considered more as art than science\n",
                "- Neural networks move the challenge of feature engineering (which the network learns) to the challenge of selecting the architecture.\n",
                "- There are a few rules of thumb on the architecture:\n",
                "    - For structured data, only 3-5 layers are required, more layers do not improve the accuracy further\n",
                "    - For finding interactions, the third and higher layers are \"considering\" them. The first two are for the \"main effects\"\n",
                "    - In this tutorial on [SSRN](https://papers.ssrn.com/sol3/papers.cfm?abstract_id=3226852), there is a proposal how to choose the optimal batch size for insurance pricing data, see formula (4.5) on p. 25.\n",
                "- The treatment of missing values is an open question.    \n",
                "\n",
                "# Model Comparison\n",
                "\n",
                "The results of the various models are as follows.\n"
            ]
        },
        {
            "cell_type": "code",
            "execution_count": null,
            "metadata": {},
            "outputs": [],
            "source": [
                "knitr::kable(df_cmp)\n",
                "\n"
            ]
        },
        {
            "cell_type": "markdown",
            "metadata": {},
            "source": [
                "We can draw the following conclusions:\n",
                "\n",
                "- The out-of sample loss of the models M3 and M4 is clearly better than for M1 and M2.\n",
                "- The better performance of M3 and M4 indicates that some interactions are missing in M1 and M2. This coincides with the general understanding that as of 3 hidden layers interactions can be captured.\n",
                "- The shallow plain network seems not to be able to model the interactions appropriately, and they are not included in the GLM.\n",
                "- The fitted average claim frequency differs between the neural network models. This is different when comparing GLM's (see the glm tutorial on the same data) where the predicted claim frequency is the same for all models. This is the so called **bias regularization** issue of neural networks, which is discussed in the tutorial, section 6.5.\n",
                "- We see that the $\\texttt{freqMTPL2freq}$ dataset is maybe not ideal and not representative for a standard primary insurance pricing dataset, due to:\n",
                "    - The performance of the various models is quite similar and there are not many areas with highly different predictions.\n",
                "    - The marginal predicted frequencies do not vary much across the various categorical feature levels.\n",
                "    - The goal of the tutorial is more to demonstrate the techniques and compare them rather to nicely identify important features.\n",
                "\n",
                "### Calibration\n"
            ]
        },
        {
            "cell_type": "code",
            "execution_count": null,
            "metadata": {},
            "outputs": [],
            "source": [
                "plot_cmp <- function(xvar, title, maxlim = 0.35) {\n",
                "  out <- test %>% group_by(!!sym(xvar)) %>% summarize(\n",
                "    vol = sum(Exposure),\n",
                "    obs = sum(ClaimNb) / sum(Exposure),\n",
                "    glm = sum(fitGLM2) / sum(Exposure),\n",
                "    shNN = sum(fitshNN) / sum(Exposure),\n",
                "    dpNN = sum(fitdpNN) / sum(Exposure),\n",
                "    drNN = sum(fitdrNN) / sum(Exposure)\n",
                "  )\n",
                "  \n",
                "  max_pri <- max(out$obs, out$glm, out$shNN, out$dpNN, out$drNN)\n",
                "  max_sec <- 1.1 * max(out$vol)\n",
                "  max_ratio <- max_pri / max_sec\n",
                "  \n",
                "  if (is.null(maxlim)) maxlim <- max_pri\n",
                "  \n",
                "  ggplot(out, aes(x = !!sym(xvar), group = 1)) +\n",
                "    geom_point(aes(y = obs, colour = \"observed\")) + geom_line(aes(y = obs, colour = \"observed\"), linetype = \"dashed\") +\n",
                "    geom_point(aes(y = glm, colour = \"GLM\")) + geom_line(aes(y = glm, colour = \"GLM\"), linetype = \"dashed\") +\n",
                "    geom_point(aes(y = shNN, colour = \"shNN\")) + geom_line(aes(y = shNN, colour = \"shNN\"), linetype = \"dashed\") +\n",
                "    geom_point(aes(y = dpNN, colour = \"dpNN\")) + geom_line(aes(y = dpNN, colour = \"dpNN\"), linetype = \"dashed\") +\n",
                "    geom_point(aes(y = drNN, colour = \"drNN\")) + geom_line(aes(y = drNN, colour = \"drNN\"), linetype = \"dashed\") +\n",
                "    geom_bar(aes(y = vol * (max_ratio)), colour = \"grey\", stat = \"identity\", alpha = 0.3) +\n",
                "    scale_y_continuous(name = \"Frequency\", sec.axis = sec_axis( ~ . / (max_ratio), name = \"Exposure\"), limits = c(0, maxlim)) +\n",
                "    labs(x = xvar, title = title) + theme(legend.position = \"bottom\", legend.text = element_text(size = 6))\n",
                "}\n",
                "\n",
                "# Area\n",
                "p1 <- plot_cmp(\"Area\", \"Frequency and Exposure by Area\")\n",
                "# VehPower\n",
                "p2 <- plot_cmp(\"VehPower\", \"Frequency and Exposure by VehPower\")\n",
                "# VehBrand\n",
                "p3 <- plot_cmp(\"VehBrand\", \"Frequency and Exposure by VehBrand\")\n",
                "# VehAge\n",
                "p4 <- plot_cmp(\"VehAge\", \"Frequency and Exposure by VehAge\")\n",
                "# DrivAge plot with exposure distribution\n",
                "p5 <- plot_cmp(\"DrivAge\", \"Frequency and Exposure by DrivAge\")\n",
                "\n",
                "grid.arrange(p1, p2, p3, p4, p5)\n"
            ]
        },
        {
            "cell_type": "markdown",
            "metadata": {},
            "source": [
                "Out-of-sample claims frequency predictions (on log-scales) comparison.\n",
                "\n"
            ]
        },
        {
            "cell_type": "code",
            "execution_count": null,
            "metadata": {},
            "outputs": [],
            "source": [
                "plot_claims_freq <- function(xvar, yvar, xlab, ylab) {\n",
                "  axis_min <- log(max(test[[xvar]], test[[yvar]]))\n",
                "  axis_max <- log(min(test[[xvar]], test[[yvar]]))\n",
                "  \n",
                "  ggplot(test, aes(x = log(!!sym(xvar)), y = log(!!sym(yvar)), colour = Exposure)) + geom_point() +\n",
                "    geom_abline(colour = \"#000000\", slope = 1, intercept = 0) +\n",
                "    xlim(axis_max, axis_min) + ylim(axis_max, axis_min) +\n",
                "    labs(x = xlab, y = ylab, title = \"Claims frequency prediction (log-scale)\") +\n",
                "    scale_colour_gradient(low = \"green\", high = \"red\")\n",
                "}\n"
            ]
        },
        {
            "cell_type": "markdown",
            "metadata": {},
            "source": [
                "\n",
                "\n"
            ]
        },
        {
            "cell_type": "code",
            "execution_count": null,
            "metadata": {},
            "outputs": [],
            "source": [
                "plot_claims_freq(\"fitshNN\", \"fitdpNN\", \"shNN\", \"dpNN\")\n",
                "\n"
            ]
        },
        {
            "cell_type": "markdown",
            "metadata": {},
            "source": [
                "\n",
                "\n"
            ]
        },
        {
            "cell_type": "code",
            "execution_count": null,
            "metadata": {},
            "outputs": [],
            "source": [
                "plot_claims_freq(\"fitshNN\", \"fitGLM2\", \"shNN\", \"GLM\")\n",
                "\n"
            ]
        },
        {
            "cell_type": "markdown",
            "metadata": {},
            "source": [
                "\n",
                "\n"
            ]
        },
        {
            "cell_type": "code",
            "execution_count": null,
            "metadata": {},
            "outputs": [],
            "source": [
                "plot_claims_freq(\"fitdpNN\", \"fitGLM2\", \"dpNN\", \"GLM\")\n",
                "\n"
            ]
        },
        {
            "cell_type": "markdown",
            "metadata": {},
            "source": [
                "\n",
                "\n"
            ]
        },
        {
            "cell_type": "code",
            "execution_count": null,
            "metadata": {},
            "outputs": [],
            "source": [
                "plot_claims_freq(\"fitdrNN\", \"fitdpNN\", \"drNN\", \"dpNN\")\n",
                "\n"
            ]
        },
        {
            "cell_type": "markdown",
            "metadata": {},
            "source": [
                "**Exercise:** The `keras(...)` function can also be used to fit a glm. Take the shallow network structure, reduce the hidden layer and fit a glm instead. Then compare it to the corresponding output from using the function `glm()`.\n",
                "\n",
                "**Exercise:** As initial weight for the fitting, we use the homogeneous model fit (stored in glmHom). Examine the dependency of the output from changes to this input parameter.\n",
                "\n",
                "# Session Info\n",
                "\n",
                "The html is generated with the following packages (which might be slightly newer than the ones used in the published tutorial).\n"
            ]
        },
        {
            "cell_type": "code",
            "execution_count": null,
            "metadata": {},
            "outputs": [],
            "source": [
                "sessionInfo()\n",
                "\n"
            ]
        },
        {
            "cell_type": "markdown",
            "metadata": {},
            "source": "\n"
        },
        {
            "cell_type": "code",
            "execution_count": null,
            "metadata": {},
            "outputs": [],
            "source": [
                "reticulate::py_config()\n",
                "\n"
            ]
        },
        {
            "cell_type": "markdown",
            "metadata": {},
            "source": "\n"
        },
        {
            "cell_type": "code",
            "execution_count": null,
            "metadata": {},
            "outputs": [],
            "source": [
                "tensorflow::tf_version()\n",
                "\n"
            ]
        },
        {
            "cell_type": "markdown",
            "metadata": {},
            "source": [
                "# References\n",
                "\n",
                "- https://tensorflow.rstudio.com/guide/\n",
                "- https://github.com/rstudio/cheatsheets/raw/master/keras.pdf\n",
                "- https://cran.r-project.org/web/packages/keras/vignettes/guide_keras.html\n",
                "- https://keras.rstudio.com/articles/about_keras_models.html\n",
                "- https://keras.rstudio.com/articles/functional_api.html\n",
                "- https://cran.rstudio.com/web/packages/keras/vignettes/sequential_model.html\n",
                "- https://www.rdocumentation.org/packages/keras/versions/2.3.0.0/topics/layer_dense\n",
                "- https://www.rdocumentation.org/packages/keras/versions/2.1.6/topics/compile\n"
            ]
        }
    ],
    "metadata": {
        "anaconda-cloud": "",
        "kernelspec": {
            "display_name": "R",
            "langauge": "R",
            "name": "ir"
        },
        "language_info": {
            "codemirror_mode": "r",
            "file_extension": ".r",
            "mimetype": "text/x-r-source",
            "name": "R",
            "pygments_lexer": "r",
            "version": "3.4.1"
        }
    },
    "nbformat": 4,
    "nbformat_minor": 1
}
