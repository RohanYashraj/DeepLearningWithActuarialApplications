{
    "cells": [
        {
            "cell_type": "markdown",
            "metadata": {},
            "source": [
                "# **French Motor Third-Party Liability Claims**\n",
                "\n",
                "Daniel Meier and Jürg Schelldorfer, with support from Christian Lorentzen, Friedrich Loser, Michael Mayer, Mario V. Wüthrich and [Mirai Solutions GmbH](https://mirai-solutions.ch/).\n",
                "\n",
                "2021-15-10\n",
                "\n",
                "# Introduction\n",
                "\n",
                "This notebook was created for the course \"Deep Learning with Actuarial Applications in R\" of the Swiss Association of Actuaries (https://www.actuaries.ch/).\n",
                "\n",
                "This notebook serves as companion to the tutorial “Case Study: French Motor Third-Party Liability Claims”, available on [SSRN](https://papers.ssrn.com/sol3/papers.cfm?abstract_id=3164764).\n",
                "\n",
                "The code is similar to the code used in above tutorial and combines the raw R code in the scripts, available on [GitHub](https://github.com/JSchelldorfer/ActuarialDataScience/tree/master/1%20-%20French%20Motor%20Third-Party%20Liability%20Claims) along with some more comments. Please refer to the tutorial for explanations.\n",
                "\n",
                "Note that the results might vary depending on the R and Python package versions, see last section for the result of sessionInfo() and corresponding info on the Python setup.\n",
                "\n",
                "# Data Preparation\n",
                "\n",
                "The tutorial uses the French MTPL data set available on [openML (ID 41214)](https://www.openml.org/d/41214).\n",
                "\n",
                "## Load packages and data\n"
            ]
        },
        {
            "cell_type": "code",
            "execution_count": null,
            "metadata": {},
            "outputs": [],
            "source": [
                "library(rgdal)\n",
                "# library(rgeos)\n",
                "library(dplyr)\n",
                "library(ggplot2)\n",
                "library(gridExtra)\n",
                "library(corrplot)\n"
            ]
        },
        {
            "cell_type": "markdown",
            "metadata": {},
            "source": "\n"
        },
        {
            "cell_type": "code",
            "execution_count": null,
            "metadata": {},
            "outputs": [],
            "source": [
                "# plotting parameters in R Markdown notebook\n",
                "knitr::opts_chunk$set(fig.width = 9, fig.height = 9)\n",
                "# plotting parameters in Jupyter notebook\n",
                "library(repr)  # only needed for Jupyter notebook\n",
                "options(repr.plot.width = 9, repr.plot.height = 9)\n"
            ]
        },
        {
            "cell_type": "markdown",
            "metadata": {},
            "source": [
                "## Set global parameters\n",
                "\n"
            ]
        },
        {
            "cell_type": "code",
            "execution_count": null,
            "metadata": {},
            "outputs": [],
            "source": [
                "options(encoding = 'UTF-8')\n",
                "\n"
            ]
        },
        {
            "cell_type": "markdown",
            "metadata": {},
            "source": [
                "## Helper functions\n",
                "\n",
                "Subsequently, for ease of reading, we provide all the helper functions which are used in this tutorial in this section.\n"
            ]
        },
        {
            "cell_type": "code",
            "execution_count": null,
            "metadata": {},
            "outputs": [],
            "source": [
                "summarize <- function(...) suppressMessages(dplyr::summarize(...))\n",
                "\n"
            ]
        },
        {
            "cell_type": "markdown",
            "metadata": {},
            "source": "\n"
        },
        {
            "cell_type": "code",
            "execution_count": null,
            "metadata": {},
            "outputs": [],
            "source": [
                "load_data <- function(file) {\n",
                "  load(file.path(\"../0_data/\", file), envir = parent.frame(1))\n",
                "}\n"
            ]
        },
        {
            "cell_type": "markdown",
            "metadata": {},
            "source": "\n"
        },
        {
            "cell_type": "code",
            "execution_count": null,
            "metadata": {},
            "outputs": [],
            "source": [
                "runMultiPlot <- function(dat, VarName) {\n",
                "  dat <- rename(dat, \"VarName\" = all_of(VarName))\n",
                "  out_sum <- dat %>%\n",
                "    group_by(VarName) %>% \n",
                "    summarize(NrObs = length(Exposure),\n",
                "              Exp = sum(Exposure),\n",
                "              Nr.Claims = sum(ClaimNb),\n",
                "              Freq = sum(ClaimNb) / sum(Exposure),\n",
                "              StDev = sqrt(sum(ClaimNb)) / sum(Exposure))\n",
                "  # Plot 1\n",
                "  p1 <- ggplot(out_sum, aes(x = VarName, y = Exp, fill = VarName)) +\n",
                "    geom_bar(stat = \"identity\") +\n",
                "    geom_text(stat = 'identity', aes(label = round(Exp, 0), color = VarName), vjust = -0.5, size = 2.5) +\n",
                "    labs(x = VarName, y = \"Exposure in years\", title = \"exposure\") + theme(legend.position = \"none\")\n",
                "  \n",
                "  # Plot 2\n",
                "  p2 <- ggplot(out_sum, aes(x = VarName, group = 1)) + geom_point(aes(y = Freq, colour = \"observed\")) +\n",
                "    geom_line(aes(y = Freq, colour = \"observed\"), linetype = \"dashed\") +\n",
                "    geom_line(aes(x = as.numeric(VarName), y = pf_freq), color = \"red\") +\n",
                "    geom_line(aes(x = as.numeric(VarName), y = Freq + 2 * StDev), color = \"red\", linetype = \"dotted\") +\n",
                "    geom_line(aes(x = as.numeric(VarName), y = Freq - 2 * StDev), color = \"red\", linetype = \"dotted\") +\n",
                "    ylim(0, 0.35) + \n",
                "    labs(x = paste(VarName, \"groups\"), y = \"frequency\", title = \"observed frequency\") + theme(legend.position = \"none\")\n",
                "  \n",
                "  # Plot 3\n",
                "  p3 <- ggplot(out_sum) + geom_bar(stat = \"identity\", aes(x = VarName, y = Freq, fill = VarName)) +\n",
                "    geom_line(aes(x = as.numeric(VarName), y = pf_freq), color = \"red\") + guides(fill = FALSE) +\n",
                "    labs(x = paste(VarName, \"groups\"),  y = \"frequency\", title = \"observed frequency\") + theme(legend.position = \"bottom\")\n",
                "  \n",
                "  grid.arrange(p1, p2, p3, ncol = 2)\n",
                "}\n",
                "\n",
                "plot_2dim_contour <- function(data, VarX, VarY, LabelX, LabelY) {\n",
                "  data <- rename(data, \"VarX\" = all_of(VarX), \"VarY\" = all_of(VarY))\n",
                "  df_plt <- data %>%\n",
                "    group_by(VarX, VarY) %>%\n",
                "    summarize(Exp = sum(Exposure),\n",
                "              Freq = sum(ClaimNb) / sum(Exposure),\n",
                "              Pol = n())\n",
                "  p <- ggplot(df_plt, aes(\n",
                "    x = as.numeric(VarX),\n",
                "    y = as.numeric(VarY),\n",
                "    z = Exp\n",
                "  )) + geom_contour_filled() + labs(x = LabelX, y = LabelY)\n",
                "}\n",
                "\n",
                "plotMap <- function(area_points, Var, label, clow, chigh) {\n",
                "  area_points <- rename(area_points, \"Var\" = all_of(Var))\n",
                "  ggplot(area_points, aes(long, lat, group=group)) +\n",
                "    ggtitle(paste(label, \"by region\", sep = \" \")) +\n",
                "    geom_polygon(aes(fill = Var)) +\n",
                "    scale_fill_gradient(low = clow, high = chigh, name = label) +\n",
                "    xlab(\"Longitude\") + ylab(\"Latitude\")\n",
                "}\n"
            ]
        },
        {
            "cell_type": "markdown",
            "metadata": {},
            "source": [
                "## Load data\n",
                "\n",
                "We consider the data `freMTPL2freq` included in the R package `CASdatasets` for claim frequency modeling. This data comprises a French motor third-party liability (MTPL) insurance portfolio with corresponding claim counts observed in one accounting year.\n",
                "We do not incorporate claim sizes which would also be available through freMTPL2sev.\n",
                "\n",
                "As the current package version provides a slightly amended dataset, we use an older dataset available on [openML (ID 41214)](https://www.openml.org/d/41214). Before we can use this data set we need to do some data cleaning. It has been pointed out by [F. Loser](https://www.kaggle.com/floser/comparing-claims-fremtpl2freq-sev/execution) that some claim counts do not seem to be correct. Hence, we use the pre-processing of the data described in the book [\"Statistical Foundations of Actuarial Learning and its Applications\"](https://papers.ssrn.com/sol3/papers.cfm?abstract_id=3822407) in Appendix A.1. This pre-processed data can be downloaded from the course GitHub page [here](https://github.com/JSchelldorfer/DeepLearningWithActuarialApplications).\n"
            ]
        },
        {
            "cell_type": "code",
            "execution_count": null,
            "metadata": {},
            "outputs": [],
            "source": [
                "load_data(\"freMTPL2freq.RData\")\n",
                "\n"
            ]
        },
        {
            "cell_type": "markdown",
            "metadata": {},
            "source": [
                "## Inspect the raw dataset\n",
                "\n"
            ]
        },
        {
            "cell_type": "code",
            "execution_count": null,
            "metadata": {},
            "outputs": [],
            "source": [
                "str(freMTPL2freq)\n",
                "\n"
            ]
        },
        {
            "cell_type": "markdown",
            "metadata": {},
            "source": "\n"
        },
        {
            "cell_type": "code",
            "execution_count": null,
            "metadata": {},
            "outputs": [],
            "source": [
                "knitr::kable(head(freMTPL2freq))\n",
                "\n"
            ]
        },
        {
            "cell_type": "markdown",
            "metadata": {},
            "source": [
                "We briefly describe this data. See the `CASdatasets` reference manual [here](http://cas.uqam.ca/pub/web/CASdatasets-manual.pdf) for a description of the variables of the `freMTPLfre` dataset.\n",
                "\n",
                "We have 6'780'013 individual car insurance policies and for each policy we have 12 variables:\n",
                "\n",
                "- $\\texttt{IDpol}$: policy number (unique identifier)\n",
                "- $\\texttt{ClaimNb}$: number of claims on the given policy\n",
                "- $\\texttt{Exposure}$: total exposure in yearly units\n",
                "- $\\texttt{Area}$: area code (categorical, ordinal)\n",
                "- $\\texttt{VehPower}$: power of the car (categorical, ordinal)\n",
                "- $\\texttt{VehAge}$: age of the car in years\n",
                "- $\\texttt{DrivAge}$: age of the (most common) driver in years\n",
                "- $\\texttt{BonusMalus}$: bonus-malus level between 50 and 230 (with reference level 100)\n",
                "- $\\texttt{VehBrand}$: car brand (categorical, nominal)\n",
                "- $\\texttt{VehGas}$: diesel or regular fuel car (binary)\n",
                "- $\\texttt{Density}$: density of inhabitants per km2 in the city of the living place of the driver\n",
                "- $\\texttt{Region}$: regions in France (prior to 2016), as illustrated below\n",
                "\n",
                "![1_desc](Figure_FrenchRegions.PNG)\n",
                "\n",
                "Please find some more charts on the raw data in the tutorial.\n",
                "\n",
                "# Data preprocessing\n",
                "\n",
                "Data preprocessing includes a couple of transformations. We ensure that ClaimNb is an integer, VehAge, DrivAge and BonusMalus have been capped for the plots at age 20, age 90 and bonus-malus level 150, respectively, to improve visualization. Density is logarithmized and VehGas is a categorical variable.\n"
            ]
        },
        {
            "cell_type": "code",
            "execution_count": null,
            "metadata": {},
            "outputs": [],
            "source": [
                "dat <- freMTPL2freq %>% \n",
                "  mutate(ClaimNb = as.integer(ClaimNb),\n",
                "         VehAge = pmin(VehAge, 20),\n",
                "         DrivAge = pmin(DrivAge, 90),\n",
                "         BonusMalus = round(pmin(BonusMalus, 150) / 10, 0) * 10,\n",
                "         Density = round(log(Density), 0),\n",
                "         VehGas = factor(VehGas))\n"
            ]
        },
        {
            "cell_type": "markdown",
            "metadata": {},
            "source": [
                "# Descriptive Analysis\n",
                "\n",
                "In order to get used to the dataset, we start with a descriptive analysis.\n",
                "\n",
                "## Inspect the prepared dataset\n"
            ]
        },
        {
            "cell_type": "code",
            "execution_count": null,
            "metadata": {},
            "outputs": [],
            "source": [
                "knitr::kable(head(dat))\n",
                "\n"
            ]
        },
        {
            "cell_type": "markdown",
            "metadata": {},
            "source": "\n"
        },
        {
            "cell_type": "code",
            "execution_count": null,
            "metadata": {},
            "outputs": [],
            "source": [
                "str(dat)\n",
                "\n"
            ]
        },
        {
            "cell_type": "markdown",
            "metadata": {},
            "source": "\n"
        },
        {
            "cell_type": "code",
            "execution_count": null,
            "metadata": {},
            "outputs": [],
            "source": [
                "summary(dat)\n",
                "\n"
            ]
        },
        {
            "cell_type": "markdown",
            "metadata": {},
            "source": [
                "## Portfolio Structure\n",
                "\n",
                "We start by providing descriptive and exploratory statistics of the data. This comprises first the portfolio structure in terms of volumes and key statistics.\n"
            ]
        },
        {
            "cell_type": "code",
            "execution_count": null,
            "metadata": {},
            "outputs": [],
            "source": [
                "p1 <- ggplot(dat, aes(Exposure)) + geom_histogram()\n",
                "p2 <- ggplot(dat, aes(x = \"Exposure\", y = Exposure)) + geom_boxplot() +\n",
                "      labs(x = \"Exposure\", y = \"frequency\", title = \"boxplot of exposure\")\n",
                "p3 <- ggplot(dat, aes(ClaimNb)) + geom_histogram() +\n",
                "      labs(x = \"number of claims\", y = \"frequency\", title = \"histogram of claims number\")\n",
                "grid.arrange(p1, p2, p3, ncol = 2)\n"
            ]
        },
        {
            "cell_type": "markdown",
            "metadata": {},
            "source": [
                "We start by describing the $\\texttt{Exposure}$. The $\\texttt{Exposure}$ measures the duration of an insurance policy in yearly units; sometimes it is also called years-at-risk. The shortest exposure in our data set is 0.0027 which corresponds to 1 day, and the longest exposure is 1 which corresponds to 1 accounting year. The figure shows a histogram and a boxplot of these exposures. In view of the histogram we conclude that roughly 1/4 of all policies have a full exposure of 1 accounting year, and all other policies are only partly exposed during the accounting year. From a practical point of view this high ratio of partly exposed policies seems rather unusual. A further inspection of the data indicates that policy renewals during the year are accounted for two separate records in the data set. Of course, such split policies should be merged to one yearly policy. Unfortunately, we do not have the necessary information to perform this merger, therefore, we need to work with the data as it is.\n",
                "\n",
                "On 653’069 insurance policies (amounting to a total exposure of 341’090 years-at-risk) we do not have any claim, and on the remaining 24’938 policies (17’269 years-at-risk) we have at least one claim.\n"
            ]
        },
        {
            "cell_type": "code",
            "execution_count": null,
            "metadata": {},
            "outputs": [],
            "source": [
                "dat %>% \n",
                "  group_by(ClaimNb) %>% \n",
                "  summarize(n = n(), Exposure = round(sum(Exposure), 0))\n"
            ]
        },
        {
            "cell_type": "markdown",
            "metadata": {},
            "source": [
                "Before fitting any model later, let us see what the overall observed claim frequency in the data is.\n",
                "\n"
            ]
        },
        {
            "cell_type": "code",
            "execution_count": null,
            "metadata": {},
            "outputs": [],
            "source": [
                "# calculate portfolio claims frequency\n",
                "pf_freq <- sum(dat$ClaimNb) / sum(dat$Exposure)\n",
                "\n",
                "# portfolio claims frequency (homogeneous estimator)\n",
                "sprintf(\"Portfolio claim frequency:  %s\", round(pf_freq, 4))\n"
            ]
        },
        {
            "cell_type": "markdown",
            "metadata": {},
            "source": [
                "## Observed (marginal) frequencies\n",
                "\n",
                "Describing the observed (marginal) frequencies build the foundations for fitting any frequency model to the data.\n",
                "Below, we provide  exposures per variable on the top left, the marginal empirical frequency per variable (w.r.t. $\\texttt{Exposure}$) (bottom left) and the marginal empirical frequencies including confidence intervals.\n",
                "\n",
                "The frequencies are complemented by confidence bounds of two standard deviations (dotted\n",
                "lines). These confidence bounds correspond to twice the estimated standard deviations, see Appendix A.1 in the [book](https://papers.ssrn.com/sol3/papers.cfm?abstract_id=3822407) for the mathematical definition. We note that in all frequency plots the y-axis ranges from 0% to 35%. From these plots we conclude that some labels have only a small underlying $\\texttt{Exposure}$, $\\texttt{BonusMalus}$ leads to the highest variability in frequencies followed by $\\texttt{DrivAge}$; and there is quite some heterogeneity in feature values across the different French regions.\n",
                "\n",
                "### Area\n"
            ]
        },
        {
            "cell_type": "code",
            "execution_count": null,
            "metadata": {},
            "outputs": [],
            "source": [
                "runMultiPlot(dat, VarName = \"Area\")\n",
                "\n"
            ]
        },
        {
            "cell_type": "markdown",
            "metadata": {},
            "source": [
                "### VehPower\n",
                "\n"
            ]
        },
        {
            "cell_type": "code",
            "execution_count": null,
            "metadata": {},
            "outputs": [],
            "source": [
                "runMultiPlot(dat, VarName = \"VehPower\")\n",
                "\n"
            ]
        },
        {
            "cell_type": "markdown",
            "metadata": {},
            "source": [
                "### VehAge\n",
                "\n"
            ]
        },
        {
            "cell_type": "code",
            "execution_count": null,
            "metadata": {},
            "outputs": [],
            "source": [
                "runMultiPlot(dat, VarName = \"VehAge\")\n",
                "\n"
            ]
        },
        {
            "cell_type": "markdown",
            "metadata": {},
            "source": [
                "### DrivAge\n",
                "\n"
            ]
        },
        {
            "cell_type": "code",
            "execution_count": null,
            "metadata": {},
            "outputs": [],
            "source": [
                "runMultiPlot(dat, VarName = \"DrivAge\")\n",
                "\n"
            ]
        },
        {
            "cell_type": "markdown",
            "metadata": {},
            "source": [
                "### BonusMalus\n",
                "\n"
            ]
        },
        {
            "cell_type": "code",
            "execution_count": null,
            "metadata": {},
            "outputs": [],
            "source": [
                "runMultiPlot(dat, VarName = \"BonusMalus\")\n",
                "\n"
            ]
        },
        {
            "cell_type": "markdown",
            "metadata": {},
            "source": [
                "### VehBrand\n",
                "\n"
            ]
        },
        {
            "cell_type": "code",
            "execution_count": null,
            "metadata": {},
            "outputs": [],
            "source": [
                "runMultiPlot(dat, VarName = \"VehBrand\")\n",
                "\n"
            ]
        },
        {
            "cell_type": "markdown",
            "metadata": {},
            "source": [
                "### VehGas\n",
                "\n"
            ]
        },
        {
            "cell_type": "code",
            "execution_count": null,
            "metadata": {},
            "outputs": [],
            "source": [
                "runMultiPlot(dat, VarName = \"VehGas\")\n",
                "\n"
            ]
        },
        {
            "cell_type": "markdown",
            "metadata": {},
            "source": [
                "### Density\n",
                "\n"
            ]
        },
        {
            "cell_type": "code",
            "execution_count": null,
            "metadata": {},
            "outputs": [],
            "source": [
                "runMultiPlot(dat, VarName = \"Density\")\n",
                "\n"
            ]
        },
        {
            "cell_type": "markdown",
            "metadata": {},
            "source": [
                "### Region\n",
                "\n"
            ]
        },
        {
            "cell_type": "code",
            "execution_count": null,
            "metadata": {},
            "outputs": [],
            "source": [
                "runMultiPlot(dat, VarName = \"Region\")\n",
                "\n"
            ]
        },
        {
            "cell_type": "markdown",
            "metadata": {},
            "source": [
                "## Two-dimensional contour plots: Exposure\n",
                "\n",
                "In the previous sections, we have focused on the one-dimensional marginal exposure and frequencies. We provide the two-dimensional plots of the portfolio distribution (exposure) of some variables. These plots are useful to detect collinearity in the feature components.\n",
                "\n",
                "The function below takes two variables as inputs and their names, and `plot_2dim_contour` shows the sum of the exposure by a unique combination of variable 1 and variable 2.\n"
            ]
        },
        {
            "cell_type": "code",
            "execution_count": null,
            "metadata": {},
            "outputs": [],
            "source": [
                "p1 <- plot_2dim_contour(dat, \"Area\", \"BonusMalus\", \"area group\",  \"bonus-malus group\")\n",
                "p2 <- plot_2dim_contour(dat, \"VehPower\", \"DrivAge\", \"vehicle power group\",  \"driver age group\")\n",
                "p3 <- plot_2dim_contour(dat, \"VehPower\", \"BonusMalus\", \"vehicle power group\",  \"bonus-malus group\")\n",
                "p4 <- plot_2dim_contour(dat, \"VehAge\", \"DrivAge\", \"vehicle age group\",  \"driver age group\")\n",
                "\n",
                "grid.arrange(p1, p2, p3, p4, ncol = 2)\n"
            ]
        },
        {
            "cell_type": "markdown",
            "metadata": {},
            "source": [
                "Observations are: (a) the area code has a slight positive dependence with the bonus-malus level and a slight\n",
                "negative dependence with the vehicle age and driver's age, (b) the vehicle power has a slight\n",
                "positive dependence with driver's age, (c) the vehicle power has a slight negative dependence\n",
                "with the bonus-malus level, (d) younger people drive newer cars.\n",
                "\n",
                "**Exercise:** Change the function `plot_2dim_contour` to use the claim frequency as the color in the charts above, and not the exposure.\n",
                "\n",
                "**Exercise:** Change the function `plot_2dim_contour` to use the number of policies as the color in the charts above, and not the exposure.\n",
                "\n",
                "**Exercise:** Look at other combinations of variables in the data, e.g. area code and the density of the population.\n",
                "\n",
                "## Correlations\n",
                "\n",
                "\n",
                "Let us calculate the Pearson and Spearman correlation between the variables.\n"
            ]
        },
        {
            "cell_type": "code",
            "execution_count": null,
            "metadata": {},
            "outputs": [],
            "source": [
                "df_cor <- dat %>% \n",
                "  select(Area, VehPower, VehAge, DrivAge, BonusMalus, Density) \n",
                "df_cor$Area <- as.numeric(df_cor$Area)\n",
                "df_cor$VehPower <- as.numeric(df_cor$VehPower)\n"
            ]
        },
        {
            "cell_type": "markdown",
            "metadata": {},
            "source": [
                "\n",
                "\n"
            ]
        },
        {
            "cell_type": "code",
            "execution_count": null,
            "metadata": {},
            "outputs": [],
            "source": [
                "M <- round(cor(df_cor, method = \"pearson\"), 2)\n",
                "knitr::kable(M)\n",
                "corrplot(M, method = \"color\")\n"
            ]
        },
        {
            "cell_type": "markdown",
            "metadata": {},
            "source": [
                "\n",
                "\n"
            ]
        },
        {
            "cell_type": "code",
            "execution_count": null,
            "metadata": {},
            "outputs": [],
            "source": [
                "M <- round(cor(df_cor, method = \"spearman\"), 2)\n",
                "knitr::kable(M)\n",
                "corrplot(M, method = \"color\")\n"
            ]
        },
        {
            "cell_type": "markdown",
            "metadata": {},
            "source": [
                "## Geographical maps\n",
                "\n",
                "As Region is available in the data, we are interested in plotting the claim frequencies by region in a geographical map.\n",
                "\n",
                "First, let us calculate the metrics per region, transforming the categorical variables to numerical in order to be able to compare values. Mutating categorical variables to numerical is not ideal, but it allows to visualize data in a more convenient form and still derive some insights.\n"
            ]
        },
        {
            "cell_type": "code",
            "execution_count": null,
            "metadata": {},
            "outputs": [],
            "source": [
                "reg_sum <- dat %>% \n",
                "  group_by(Region) %>% \n",
                "  mutate(VehGas = factor(VehGas)) %>% \n",
                "  mutate_at(c(\"Area\", \"VehPower\", \"VehGas\"), as.numeric) %>% \n",
                "  summarize(NrObs = length(Exposure),\n",
                "            Exp = sum(Exposure),\n",
                "            Freq = sum(ClaimNb) / sum(Exposure),\n",
                "            Area = mean(Area),\n",
                "            VehPower = mean(VehPower),\n",
                "            VehAge = mean(VehAge),\n",
                "            DrivAge = mean(DrivAge),\n",
                "            BonusMalus = mean(BonusMalus),\n",
                "            VehGas = mean(VehGas),\n",
                "            Density = mean(Density))\n",
                "\n",
                "knitr::kable(head(reg_sum, n = 10))\n"
            ]
        },
        {
            "cell_type": "markdown",
            "metadata": {},
            "source": [
                "The visualizations can be done using data containing the boundaries of regions and the two R packages `rgdal` and `rgeos`. Please check their reference manual for further details about them.\n",
                "\n",
                "First, we need to import the files which contain the map to be displayed. Geo data have some standard formats, which we are not going to discuss here. See the R packages `rgal` and `rgeos` for further information and links.\n"
            ]
        },
        {
            "cell_type": "code",
            "execution_count": null,
            "metadata": {},
            "outputs": [],
            "source": [
                "# Downloaded shapefiles from http://www.diva-gis.org/gData and extracted all the files from the zip file.\n",
                "area <- rgdal::readOGR(file.path(\"../../data/shapefiles\", \"FRA_adm2.shp\"))\n"
            ]
        },
        {
            "cell_type": "markdown",
            "metadata": {},
            "source": [
                "Second, we need to merge the aggregated information from the insurance data to the geographical data.\n",
                "\n"
            ]
        },
        {
            "cell_type": "code",
            "execution_count": null,
            "metadata": {},
            "outputs": [],
            "source": [
                "reg_sum$id <- sapply(reg_sum$Region, substr, 2, 3)\n",
                "area_points <- fortify(area, region = \"ID_1\")  # convert to data.frame\n"
            ]
        },
        {
            "cell_type": "markdown",
            "metadata": {},
            "source": [
                "Unfortunately, the numerical regional labels in the geographical data (labeled as $1,...,22$) do not match the numerical labels in the insurance data, hence we need to convert them in order to be able to merge the insurance and geographical data by a unique key. We do it manually (see `mapvalues` for another way).\n",
                "\n"
            ]
        },
        {
            "cell_type": "code",
            "execution_count": null,
            "metadata": {},
            "outputs": [],
            "source": [
                "area_points$id <- recode(\n",
                "  area_points$id,\n",
                "  \"1\"=\"42\",\"2\"=\"72\",\"3\"=\"83\",\"4\"=\"11\",\"5\"=\"25\",\"6\"=\"26\",\"7\"=\"53\",\"8\"=\"24\",\"9\"=\"21\",\n",
                "  \"10\"=\"94\",\"11\"=\"43\",\"12\"=\"23\",\"13\"=\"91\",\"14\"=\"74\",\"15\"=\"41\",\"16\"=\"73\",\"17\"=\"31\",\n",
                "  \"18\"=\"52\",\"19\"=\"22\",\"20\"=\"54\",\"21\"=\"93\",\"22\"=\"82\"\n",
                ")\n"
            ]
        },
        {
            "cell_type": "markdown",
            "metadata": {},
            "source": "\n"
        },
        {
            "cell_type": "code",
            "execution_count": null,
            "metadata": {},
            "outputs": [],
            "source": [
                "area_points <- merge(\n",
                "  area_points,\n",
                "  reg_sum[, c(\"id\",\"Exp\",\"Freq\",\"Area\",\"VehPower\",\"VehAge\",\"DrivAge\",\"BonusMalus\",\"VehGas\",\"Density\")],\n",
                "  by.x = \"id\",\n",
                "  by.y = \"id\",\n",
                "  all.x = TRUE\n",
                ")\n",
                "area_points <- area_points[order(area_points$order), ]  # Has to be ordered correctly to plot.\n"
            ]
        },
        {
            "cell_type": "markdown",
            "metadata": {},
            "source": [
                "Third, we can do the map plots.\n",
                "\n"
            ]
        },
        {
            "cell_type": "code",
            "execution_count": null,
            "metadata": {},
            "outputs": [],
            "source": [
                "plotMap(area_points, \"Exp\", \"Exposure\", \"blue\", \"red\")\n",
                "\n"
            ]
        },
        {
            "cell_type": "markdown",
            "metadata": {},
            "source": "\n"
        },
        {
            "cell_type": "code",
            "execution_count": null,
            "metadata": {},
            "outputs": [],
            "source": [
                "plotMap(area_points, \"Freq\", \"Observed frequencies\", \"green\", \"red\")\n",
                "\n"
            ]
        },
        {
            "cell_type": "markdown",
            "metadata": {},
            "source": [
                "\n",
                "\n"
            ]
        },
        {
            "cell_type": "code",
            "execution_count": null,
            "metadata": {},
            "outputs": [],
            "source": [
                "plotMap(area_points, \"VehGas\", \"Average diesel ratio\", \"green\", \"red\")\n",
                "\n"
            ]
        },
        {
            "cell_type": "markdown",
            "metadata": {},
            "source": "\n"
        },
        {
            "cell_type": "code",
            "execution_count": null,
            "metadata": {},
            "outputs": [],
            "source": [
                "plotMap(area_points, \"VehAge\", \"average vehicle age\", \"green\", \"red\")\n",
                "\n"
            ]
        },
        {
            "cell_type": "markdown",
            "metadata": {},
            "source": [
                "Please find some more charts on the raw data in the tutorial.\n",
                "\n",
                "**Exercise:** Do additional plots for the following variables: $\\texttt{density}$, $\\texttt{BonusMalus}$ and $\\texttt{VehGas}$. You might need to convert the categorical features to some numerical values in order to get a meaningful plot.\n",
                "\n",
                "**Exercise:** The coloring of the mas is not necessarily illustrative due to the skewed distribution of metrics by region. Amend the function plotMap to better capture the skewness.\n",
                "\n",
                "**Exercise:** In the tutorial, you find the subsequent charts (which describe the distribution of the variables $\\texttt{Area}$, $\\texttt{VehPower}$, $\\texttt{VehAge}$, $\\texttt{DrivAge}$, $\\texttt{BonusMalus}$, $\\texttt{VehGas}$ for each car brand  $\\texttt{VehBrand}$ individually), write the code for them.\n",
                "\n",
                "![1_desc](Figure_percentages.PNG)\n",
                "\n",
                "# Session Info\n",
                "\n",
                "The html is generated with the follow packages (which might be slightly newer than the ones used in the published tutorial).\n"
            ]
        },
        {
            "cell_type": "code",
            "execution_count": null,
            "metadata": {},
            "outputs": [],
            "source": [
                "sessionInfo()\n",
                "\n"
            ]
        },
        {
            "cell_type": "markdown",
            "metadata": {},
            "source": "\n"
        }
    ],
    "metadata": {
        "anaconda-cloud": "",
        "kernelspec": {
            "display_name": "R",
            "langauge": "R",
            "name": "ir"
        },
        "language_info": {
            "codemirror_mode": "r",
            "file_extension": ".r",
            "mimetype": "text/x-r-source",
            "name": "R",
            "pygments_lexer": "r",
            "version": "3.4.1"
        }
    },
    "nbformat": 4,
    "nbformat_minor": 1
}
