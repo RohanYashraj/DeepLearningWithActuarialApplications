{
    "cells": [
        {
            "cell_type": "markdown",
            "metadata": {},
            "source": [
                "# **Discrimination-free Insurance Pricing: A simple example**\n",
                "\n",
                "Jürg Schelldorfer, with support from Mario V. Wüthrich\n",
                "\n",
                "2021-07-30\n",
                "\n",
                "# Introduction\n",
                "\n",
                "This notebook was created for the course \"Deep Learning with Actuarial Applications in R\" of the Swiss Association of Actuaries (https://www.actuaries.ch/).\n",
                "\n",
                "This notebook serves as companion to the paper “Discrimination-Free Insurance Pricing”, available on [SSRN](https://papers.ssrn.com/sol3/papers.cfm?abstract_id=3520676).\n",
                "\n",
                "The code has been shared by Mario Wüthrich and is not public.\n",
                "\n",
                "Note that the results might vary depending on the R and Python package versions, see last section for the result of `sessionInfo()` and corresponding info on the Python setup.\n",
                "\n",
                "# Global settings\n",
                "\n",
                "## Load packages and data\n"
            ]
        },
        {
            "cell_type": "code",
            "execution_count": null,
            "metadata": {},
            "outputs": [],
            "source": [
                "library(tidyr)\n",
                "library(ggplot2)\n",
                "library(gridExtra)\n",
                "library(repr)  # not needed in the Rmarkdown version, only for Jupyter notebook\n"
            ]
        },
        {
            "cell_type": "markdown",
            "metadata": {},
            "source": "\n"
        },
        {
            "cell_type": "code",
            "execution_count": null,
            "metadata": {},
            "outputs": [],
            "source": [
                "# plotting parameters in R Markdown notebook\n",
                "knitr::opts_chunk$set(fig.width = 18, fig.height = 9)\n",
                "# plotting parameters in Jupyter-notebook\n",
                "# https://stackoverflow.com/questions/42729049/how-to-change-the-size-of-r-plots-in-jupyter\n",
                "options(repr.plot.width = 18, repr.plot.height = 9)\n"
            ]
        },
        {
            "cell_type": "markdown",
            "metadata": {},
            "source": [
                "## Set global parameters\n",
                "\n"
            ]
        },
        {
            "cell_type": "code",
            "execution_count": null,
            "metadata": {},
            "outputs": [],
            "source": [
                "ylims <- c(0.14, 0.33)\n",
                "ylims_freq <- c(0, 0.33)\n",
                "# random seed for reproducibility\n",
                "seed <- 100\n"
            ]
        },
        {
            "cell_type": "markdown",
            "metadata": {},
            "source": [
                "## Helper functions\n",
                "\n",
                "Subsequently, for ease of reading, we provide all the helper functions which are used in this tutorial in this section.\n"
            ]
        },
        {
            "cell_type": "code",
            "execution_count": null,
            "metadata": {},
            "outputs": [],
            "source": [
                "plot_prices <- function(data, title, legend_title, y_label,\n",
                "                        labels, linetypes, colors) {\n",
                "  data_gg <- gather(df, key = price_type, value = price, -ages)\n",
                "\n",
                "  ggplot(data_gg, aes(x = ages, y = price, group = price_type,\n",
                "                      colour = price_type, linetype = price_type)) +\n",
                "    geom_line(size = 1) +\n",
                "    scale_linetype_manual(labels = labels, values = linetypes, name = legend_title) +\n",
                "    scale_color_manual(labels = labels, values = colors, name = legend_title) +\n",
                "    labs(title = title, x = \"age\", y = y_label) +\n",
                "    theme(legend.position = c(0.75, 0.87), legend.text = element_text(size = 12),\n",
                "          text = element_text(size = 15), legend.key.width = unit(1.5, \"cm\"))\n",
                "}\n"
            ]
        },
        {
            "cell_type": "markdown",
            "metadata": {},
            "source": [
                "# Define the true prices\n",
                "\n",
                "We present a simple health insurance example, demonstrating the approach to discrimination-free pricing. The example we present satisfies the causal relations of Figure 1, such that discrimination-free prices can be understood as reflecting direct unconfounded) causal effects (in an insured sub-population).\n",
                "\n",
                "- Let $D$ correspond to the single discriminatory characteristic gender, that is, $D \\in \\{woman, man\\}$.\n",
                "- Let $X = (X_1, X_2)$, where $X_1 \\in \\{15,...,80\\}$ denotes the age of the policyholder, and $X_2 \\in \\{non-smoker, smoker\\}$.\n",
                "\n",
                "Below we assume that smoking habits are gender related. We consider three different types of health costs:\n",
                "\n",
                "1. **Type 1**: Birthing related health costs only affecting women between ages 20 and 40\n",
                "2. **Type 2**: Cancer related health costs with a higher frequency for smokers and also for women\n",
                "3. **Type 3**: Health costs due to other disabilities\n",
                "\n",
                "For simplicity, we only consider claim counts, assuming deterministic claim costs for the three different claim types. Moreover, we model all individuals as independent, having the same exposure (= 1). We assume that the claim counts for the different\n",
                "claim types are described by independent Poisson GLMs with canonical (i.e. log-) link function.\n"
            ]
        },
        {
            "cell_type": "code",
            "execution_count": null,
            "metadata": {},
            "outputs": [],
            "source": [
                "ages <- c(15:80)\n",
                "nAges <- length(ages)\n"
            ]
        },
        {
            "cell_type": "markdown",
            "metadata": {},
            "source": [
                "The three different types of claims are governed by the following log-frequencies:\n",
                "\n",
                "![5_dfp](Figure_logFreq.PNG)\n",
                "\n",
                "based on the joint non-discriminatory and discriminatory covariates $(X, D)$. The\n",
                "deterministic claims costs of the different claim types are given by $(c_1, c_2, c_3) =\n",
                "(0.5, 0.9, 0.1)$ for claims of type 1, type 2, and type 3, respectively.\n"
            ]
        },
        {
            "cell_type": "code",
            "execution_count": null,
            "metadata": {},
            "outputs": [],
            "source": [
                "claimCost <- c(0.5, 0.9, 0.1)\n",
                "\n"
            ]
        },
        {
            "cell_type": "markdown",
            "metadata": {},
            "source": [
                "## Best-Estimate Price\n",
                "\n",
                "The best-estimate price (considering all covariates) is given by:\n",
                "\n",
                "![5_dfp](Figure_theo_price.PNG)\n",
                "\n",
                "This best-estimate price is illustrated below for the parameter values\n",
                "\n",
                "- $(\\alpha_0, \\alpha_1) = (-40, 38.5)$\n",
                "- $(\\beta_0,\\beta_1, \\beta_2, \\beta_3) = (-2, 0.004, 0.1, 0.2)$\n",
                "- $(\\gamma_0, \\gamma_1) = (-2, 0.01)$\n"
            ]
        },
        {
            "cell_type": "code",
            "execution_count": null,
            "metadata": {},
            "outputs": [],
            "source": [
                "alpha0 <- c(-40, 38.5)\n",
                "beta0 <- c(-2, 0.004, 0.1, 0.2)\n",
                "gamma0 <- c(-2, 0.01)\n"
            ]
        },
        {
            "cell_type": "markdown",
            "metadata": {},
            "source": "\n"
        },
        {
            "cell_type": "code",
            "execution_count": null,
            "metadata": {},
            "outputs": [],
            "source": [
                "price_true_best_estimate <- array(NA, c(nAges, 4), dimnames = list(NULL, NULL))\n",
                "colnames(price_true_best_estimate) <- c(\"woman-non-smoker\", \"woman-smoker\",\n",
                "                                        \"man-non-smoker\", \"man-smoker\")\n",
                "\n",
                "# woman and non-smoker\n",
                "price_true_best_estimate[, \"woman-non-smoker\"] <-\n",
                "  claimCost[1] * exp(alpha0[1] + alpha0[2]*(ages >= 20)*(ages <= 40)) +\n",
                "  claimCost[2] * exp(beta0[1] + beta0[2]*ages + beta0[4]) +\n",
                "  claimCost[3] * exp(gamma0[1] + gamma0[2]*ages)\n",
                "\n",
                "# woman and smoker\n",
                "price_true_best_estimate[, \"woman-smoker\"] <-\n",
                "  claimCost[1] * exp(alpha0[1] + alpha0[2]*(ages >= 20)*(ages <= 40)) +\n",
                "  claimCost[2] * exp(beta0[1] + beta0[2]*ages + beta0[3] + beta0[4]) +\n",
                "  claimCost[3] * exp(gamma0[1] + gamma0[2]*ages)\n",
                "\n",
                "# man and non-smoker\n",
                "price_true_best_estimate[, \"man-non-smoker\"] <-\n",
                "  claimCost[1] * exp(alpha0[1]) +\n",
                "  claimCost[2] * exp(beta0[1] + beta0[2]*ages) +\n",
                "  claimCost[3] * exp(gamma0[1] + gamma0[2]*ages)\n",
                "\n",
                "# man and smoker\n",
                "price_true_best_estimate[, \"man-smoker\"] <-\n",
                "  claimCost[1] * exp(alpha0[1]) +\n",
                "  claimCost[2] * exp(beta0[1] + beta0[2]*ages + beta0[3]) +\n",
                "  claimCost[3] * exp(gamma0[1] + gamma0[2] * ages)\n"
            ]
        },
        {
            "cell_type": "markdown",
            "metadata": {},
            "source": "\n"
        },
        {
            "cell_type": "code",
            "execution_count": null,
            "metadata": {},
            "outputs": [],
            "source": [
                "summary(price_true_best_estimate)\n",
                "\n"
            ]
        },
        {
            "cell_type": "markdown",
            "metadata": {},
            "source": "\n"
        },
        {
            "cell_type": "code",
            "execution_count": null,
            "metadata": {},
            "outputs": [],
            "source": [
                "legend_title <- \"Price\"\n",
                "y_label <- \"true prices\"\n",
                "labels <- c(\"best-estimate price (women)\", \"best-estimate price (men)\")\n",
                "linetypes <- c(\"solid\", \"solid\")\n",
                "colors <- c(\"blue\", \"black\")\n",
                "\n",
                "# Smokers\n",
                "df <- data.frame(ages,\n",
                "                 be_women = price_true_best_estimate[, \"woman-smoker\"],\n",
                "                 be_men = price_true_best_estimate[, \"man-smoker\"])\n",
                "\n",
                "p1 <- plot_prices(df, title = \"Smokers\", legend_title, y_label,\n",
                "                  labels, linetypes, colors) + ylim(ylims)\n",
                "\n",
                "# Non-smokers\n",
                "df <- data.frame(ages,\n",
                "                 be_women = price_true_best_estimate[, \"woman-non-smoker\"],\n",
                "                 be_men = price_true_best_estimate[, \"man-non-smoker\"])\n",
                "\n",
                "p2 <- plot_prices(df, title = \"Non-Smokers\", legend_title, y_label,\n",
                "                  labels, linetypes, colors) + ylim(ylims)\n",
                "\n",
                "grid.arrange(p1, p2, ncol = 2)\n"
            ]
        },
        {
            "cell_type": "markdown",
            "metadata": {},
            "source": [
                "The first plot refers to smokers ($X_2 = smoker$), while the second to non-smokers ($X_2 = non-smoker$). The solid black lines give the best-estimate prices $\\mu(X,D)$ for women and the solid red lines for men. Obviously, these best-estimate prices discriminate between genders.\n",
                "\n",
                "## Discrimination-free Price\n",
                "\n",
                "Next, we calculate the discrimination-free price. It is given by\n",
                "\n",
                "![5_dfp](Figure_theo_discfree.PNG)\n",
                "\n",
                "For the calculation of this discrimination-free price we need the gender proportions\n",
                "within our population. We set $P(D = woman) = 0.45$.\n"
            ]
        },
        {
            "cell_type": "code",
            "execution_count": null,
            "metadata": {},
            "outputs": [],
            "source": [
                "womanProp <- 0.45\n",
                "\n"
            ]
        },
        {
            "cell_type": "markdown",
            "metadata": {},
            "source": "\n"
        },
        {
            "cell_type": "code",
            "execution_count": null,
            "metadata": {},
            "outputs": [],
            "source": [
                "price_true_disc_free <- array(NA, c(nAges, 2), dimnames = list(NULL, NULL))\n",
                "colnames(price_true_disc_free) <- c(\"non-smoker\", \"smoker\")\n",
                "# non-smoker non-discriminating\n",
                "price_true_disc_free[, \"non-smoker\"] <-\n",
                "  womanProp * price_true_best_estimate[, \"woman-non-smoker\"] +\n",
                "  (1 - womanProp) * price_true_best_estimate[, \"man-non-smoker\"]\n",
                "# smoker non-discriminating\n",
                "price_true_disc_free[, \"smoker\"] <-\n",
                "  womanProp * price_true_best_estimate[, \"woman-smoker\"] +\n",
                "  (1 - womanProp) * price_true_best_estimate[, \"man-smoker\"]\n"
            ]
        },
        {
            "cell_type": "markdown",
            "metadata": {},
            "source": "\n"
        },
        {
            "cell_type": "code",
            "execution_count": null,
            "metadata": {},
            "outputs": [],
            "source": [
                "summary(price_true_disc_free)\n",
                "\n"
            ]
        },
        {
            "cell_type": "markdown",
            "metadata": {},
            "source": "\n"
        },
        {
            "cell_type": "code",
            "execution_count": null,
            "metadata": {},
            "outputs": [],
            "source": [
                "legend_title <- \"Price\"\n",
                "y_label <- \"true prices\"\n",
                "labels <- c(\"best-estimate price (women)\", \"best-estimate price (men)\",\n",
                "            \"discrimination-free price\")\n",
                "linetypes <- c(\"solid\", \"solid\", \"longdash\")\n",
                "colors <- c(\"blue\", \"black\", \"green\")\n",
                "\n",
                "# Smokers\n",
                "df <- data.frame(ages, be_women = price_true_best_estimate[, \"woman-smoker\"],\n",
                "                 be_men = price_true_best_estimate[, \"man-smoker\"],\n",
                "                 df = price_true_disc_free[, \"smoker\"])\n",
                "\n",
                "p1 <- plot_prices(df, title = \"Smokers\", legend_title, y_label,\n",
                "                  labels, linetypes, colors) + ylim(ylims)\n",
                "\n",
                "# Non-smokers\n",
                "df <- data.frame(ages,\n",
                "                 be_women = price_true_best_estimate[, \"woman-non-smoker\"],\n",
                "                 be_men = price_true_best_estimate[, \"man-non-smoker\"],\n",
                "                 df = price_true_disc_free[, \"non-smoker\"])\n",
                "\n",
                "p2 <- plot_prices(df, title = \"Non-smokers\", legend_title, y_label,\n",
                "                  labels, linetypes, colors) + ylim(ylims)\n",
                "\n",
                "grid.arrange(p1, p2, ncol = 2)\n"
            ]
        },
        {
            "cell_type": "markdown",
            "metadata": {},
            "source": [
                "The green dotted lines provide the resulting discrimination-free prices for smokers and non-\n",
                "smokers. Note that these are identical for men and women, such that all price differences can be described solely by different ages $X_1$ and smoking habits $X_2$, irrespective of gender $D$. Moreover, the smoking habits do not allow us to infer the gender; note that in the exposition so far, it has not been necessary to described\n",
                "how smoking habits vary by gender.\n",
                "\n",
                "## Unawareness Price\n",
                "\n",
                "We compare this discrimination-free price to the unawareness price obtained by\n",
                "simply dropping the gender covariate $D$ from the calculations. Thus,\n",
                "we calculate\n",
                "\n",
                "![5_dfp](Figure_theo_unaware.PNG)\n",
                "\n",
                "The unawareness price requires additional information about the following conditional probabilities\n",
                "\n",
                "![5_dfp](Figure_theo_probs.PNG)\n",
                "\n",
                "The last equality following from assuming that the age variable $X_1$ is independent from the random vector $(X_2,D)$. In addition, we set $P(D = woman | X2 = smoker) = 0.8$ and $P(X_2 = smoker) = 0.3$. The former assumption tells us that smokers are more likely women; this is similar to Example 1. As a consequence, $X_2$ has explanatory power to predict the gender $D$, and the unawareness price will therefore be indirectly discriminatory against women.\n"
            ]
        },
        {
            "cell_type": "code",
            "execution_count": null,
            "metadata": {},
            "outputs": [],
            "source": [
                "smokerProp <- 0.3\n",
                "womanSmokerProp <- 0.8\n"
            ]
        },
        {
            "cell_type": "markdown",
            "metadata": {},
            "source": "\n"
        },
        {
            "cell_type": "code",
            "execution_count": null,
            "metadata": {},
            "outputs": [],
            "source": [
                "# woman conditional on non-smoking\n",
                "womanNonSmokerProp <- (womanProp - womanSmokerProp * smokerProp) / (1 - smokerProp)\n",
                "\n",
                "price_true_unaware <- array(NA, c(nAges, 2), dimnames = list(NULL, NULL))\n",
                "colnames(price_true_unaware) = c(\"non-smoker\", \"smoker\")\n",
                "# non-smoker conditional\n",
                "price_true_unaware[, \"non-smoker\"] <-\n",
                "  womanNonSmokerProp * price_true_best_estimate[, \"woman-non-smoker\"] +\n",
                "  (1 - womanNonSmokerProp) * price_true_best_estimate[, \"man-non-smoker\"]\n",
                "# smoker conditional\n",
                "price_true_unaware[, \"smoker\"] <-\n",
                "  womanSmokerProp * price_true_best_estimate[, \"woman-smoker\"] +\n",
                "  (1 - womanSmokerProp) * price_true_best_estimate[, \"man-smoker\"]\n"
            ]
        },
        {
            "cell_type": "markdown",
            "metadata": {},
            "source": "\n"
        },
        {
            "cell_type": "code",
            "execution_count": null,
            "metadata": {},
            "outputs": [],
            "source": [
                "summary(price_true_unaware)\n",
                "\n"
            ]
        },
        {
            "cell_type": "markdown",
            "metadata": {},
            "source": [
                "These unawareness prices are illustrated by the red dotted lines in the figure below. The red dotted line lies above\n",
                "the discrimination-free price (green) for smokers and below for non-smokers. Thus, the unawareness price implicitly allocates a higher price to women because smokers are more likely women.\n"
            ]
        },
        {
            "cell_type": "code",
            "execution_count": null,
            "metadata": {},
            "outputs": [],
            "source": [
                "legend_title <- \"Price\"\n",
                "y_label <- \"true prices\"\n",
                "labels <- c(\"best-estimate price (women)\", \"best-estimate price (men)\",\n",
                "            \"discrimination-free price\", \"unawareness price\")\n",
                "linetypes <- c(\"solid\", \"solid\", \"longdash\", \"dotted\")\n",
                "colors <- c(\"blue\", \"black\", \"green\", \"red\")\n",
                "\n",
                "# Smokers\n",
                "df <- data.frame(ages,\n",
                "                 be_women = price_true_best_estimate[, \"woman-smoker\"],\n",
                "                 be_men = price_true_best_estimate[, \"man-smoker\"],\n",
                "                 df = price_true_disc_free[, \"smoker\"],\n",
                "                 un = price_true_unaware[, \"smoker\"])\n",
                "\n",
                "p1 <- plot_prices(df, title = \"Smokers\", legend_title, y_label,\n",
                "                  labels, linetypes, colors) + ylim(ylims)\n",
                "\n",
                "# Non-smokers\n",
                "df <- data.frame(ages,\n",
                "                 be_women = price_true_best_estimate[, \"woman-non-smoker\"],\n",
                "                 be_men = price_true_best_estimate[, \"man-non-smoker\"],\n",
                "                 df = price_true_disc_free[, \"non-smoker\"],\n",
                "                 un = price_true_unaware[, \"non-smoker\"])\n",
                "\n",
                "p2 <- plot_prices(df, title = \"Non-smokers\", legend_title, y_label,\n",
                "                  labels, linetypes, colors) + ylim(ylims)\n",
                "\n",
                "grid.arrange(p1, p2, ncol = 2)\n"
            ]
        },
        {
            "cell_type": "markdown",
            "metadata": {},
            "source": [
                "# Creating the portfolio of policyholders\n",
                "\n",
                "The previous discussion has been based on the knowledge of the model generating the data. We now address the more realistic situation where the model needs to be estimated. To this effect, we simulate data from $(X, D, Y) \\sim P$ consistently with the given model assumptions, and subsequently calibrate a regression model to the simulated data.\n",
                "\n",
                "Specifically, we choose a health insurance portfolio of size $n = 100000$, and simulate claim counts from the Poisson GLMs (19), (20), and (21), with the choice $P(D = woman | X_2 = smoker) = 0.8$.\n"
            ]
        },
        {
            "cell_type": "code",
            "execution_count": null,
            "metadata": {},
            "outputs": [],
            "source": [
                "nPolicies <- 100000\n",
                "\n"
            ]
        },
        {
            "cell_type": "markdown",
            "metadata": {},
            "source": [
                "An age distribution for $X_1$ is also needed for the simulation; the chosen probability weights are shown below. We assume that age $X_1$ is independent from gender $D$ and smoking habits $X_2$, as in (22).\n",
                "\n"
            ]
        },
        {
            "cell_type": "code",
            "execution_count": null,
            "metadata": {},
            "outputs": [],
            "source": [
                "agePattern <- dnorm(x = ages / 100, mean = 0.45, sd = 0.2)\n",
                "ageProp <- agePattern / sum(agePattern)\n"
            ]
        },
        {
            "cell_type": "markdown",
            "metadata": {},
            "source": "\n"
        },
        {
            "cell_type": "code",
            "execution_count": null,
            "metadata": {},
            "outputs": [],
            "source": [
                "# custom plot size for this plot (Jupyter, done with chunk options R Markdown)\n",
                "options(repr.plot.width = 9, repr.plot.height = 9)\n",
                "ggplot(data = data.frame(ages = ages, ageProp = ageProp), aes(x = ages, y = ageProp)) +\n",
                "  geom_step() +\n",
                "  labs(title = \"Age distribution\", y = \"age\", y = \"frequency\")\n",
                "# reset original\n",
                "options(repr.plot.width = 18, repr.plot.height = 9)\n"
            ]
        },
        {
            "cell_type": "markdown",
            "metadata": {},
            "source": "\n"
        },
        {
            "cell_type": "code",
            "execution_count": null,
            "metadata": {},
            "outputs": [],
            "source": [
                "X <- matrix(0, nrow = nPolicies, ncol = 2)\n",
                "D <- matrix(0, nrow = nPolicies, ncol = 1)\n",
                "\n",
                "set.seed(seed)\n",
                "nWomen <- rbinom(n = 1, size = nPolicies, prob = womanProp)\n",
                "nSmokingWomen <- rbinom(n = 1, size = nWomen,\n",
                "                        prob = womanSmokerProp * smokerProp / womanProp)\n",
                "nSmokingMen <- rbinom(n = 1, size = nPolicies - nWomen,\n",
                "                      prob = (1 - womanSmokerProp) * smokerProp / (1 - womanProp))\n",
                "probWoman <- nWomen / nPolicies\n",
                "\n",
                "D[1:nWomen] <- 1\n",
                "X[, 1] <- matrix(ages, nrow = 1, ncol = nAges) %*%\n",
                "          rmultinom(n = nPolicies, size = 1, prob = ageProp)\n",
                "X[1:nSmokingWomen, 2] <- 1\n",
                "X[(nWomen + 1):(nWomen + 1 + nSmokingMen), 2] <- 1\n",
                "\n",
                "logMu1 <- alpha0[1] + alpha0[2] * (X[, 1] >= 20) * (X[, 1] <= 40) * D\n",
                "logMu2 <- beta0[1] + beta0[2] * X[, 1] + beta0[3] * X[, 2] + beta0[4] * D\n",
                "logMu3 <- gamma0[1] + gamma0[2] * X[, 1]\n",
                "\n",
                "X1 <- X[, 1]\n",
                "X2 <- X[, 2]\n",
                "\n",
                "N1 <- rpois(n = nPolicies, lambda = exp(logMu1))\n",
                "N2 <- rpois(n = nPolicies, lambda = exp(logMu2))\n",
                "N3 <- rpois(n = nPolicies, lambda = exp(logMu3))\n",
                "\n",
                "fullData <- data.frame(N1 = N1, N2 = N2, N3 = N3, X1 = X1, X2 = X2, D = D)\n",
                "# randomize order because this can influence fitting\n",
                "set.seed(50)  # NOTE: there is no strict need to set a new seed explicitly here\n",
                "fullData <- fullData[sample(1:nrow(fullData)), ]\n",
                "str(fullData)\n"
            ]
        },
        {
            "cell_type": "markdown",
            "metadata": {},
            "source": [
                "The listing above gives an excerpt of the simulated data. We have the three covariates $X_1$ (age), $X_2$ (smoking habit) and $D$ (gender) on lines 5-7, and lines 2-4 illustrate the number of claims $N_1$, $N_2$ and $N_3$, separated by claim types. The proportion of women in this simulated data is 0.4505 which is close to the true value of $P(D = woman) = 0.45$. Our first aim is to fit a regression model to this data, under the assumptions that individual policies are independent, and that the different claim types are independent and Poisson distributed. Beside this, we do not make any\n",
                "structural assumption about the regression functions, but we try to infer them from the data using regression models. The independence assumption between the claim counts $N_1$, $N_2$ and $N_3$ motivates modeling them separately. Thus, we will\n",
                "fit three different regression models to model $\\lambda_1$, $\\lambda_2$ and $\\lambda_3$, respectively. As we do\n",
                "not use prior knowledge on the data generating process, we will feed all covariates $(X_1,X_2,D)$ to each of the three networks.\n",
                "\n",
                "# Model 1: Generalized Linear Model\n",
                "\n",
                "We first fit a simple generalized linear model ignoring the knowledge from the data generation process above. We choose a poor model by just assuming GLMs for $j = 1, 2, 3$\n",
                "\n",
                "![5_dfp](Figure_glm.PNG)\n",
                "\n",
                "This model will perform well for $j = 2, 3$, see (20)-(21), but it will perform poorly for $j = 1$, see (19). This is because such a model has difficulties capturing the highly non-linear birthing related effects.\n"
            ]
        },
        {
            "cell_type": "code",
            "execution_count": null,
            "metadata": {},
            "outputs": [],
            "source": [
                "womanSmoker <- data.frame(matrix(0, nrow = nAges, ncol = 3))\n",
                "names(womanSmoker) <- c(\"X1\", \"X2\", \"D\")\n",
                "womanSmoker[, \"X1\"] <- ages\n",
                "womanNonSmoker <- manSmoker <- manNonSmoker <- womanSmoker\n",
                "womanSmoker[, \"X2\"] <- 1\n",
                "manSmoker[, \"X2\"] <- 1\n",
                "womanSmoker[, \"D\"] <- 1\n",
                "womanNonSmoker[, \"D\"] <- 1\n"
            ]
        },
        {
            "cell_type": "markdown",
            "metadata": {},
            "source": [
                "## Best-Estimate Price\n",
                "\n",
                "First, we fit the frequency for every type of claims.\n"
            ]
        },
        {
            "cell_type": "code",
            "execution_count": null,
            "metadata": {},
            "outputs": [],
            "source": [
                "glm1_be <- glm(N1 ~ X1 + X2 + D, data = fullData, family = poisson(link = \"log\"))\n",
                "glm2_be <- glm(N2 ~ X1 + X2 + D, data = fullData, family = poisson(link = \"log\"))\n",
                "glm3_be <- glm(N3 ~ X1 + X2 + D, data = fullData, family = poisson(link = \"log\"))\n"
            ]
        },
        {
            "cell_type": "markdown",
            "metadata": {},
            "source": [
                "First, it is illustrative to look at the estimated frequencies by claims type.\n",
                "\n"
            ]
        },
        {
            "cell_type": "code",
            "execution_count": null,
            "metadata": {},
            "outputs": [],
            "source": [
                "legend_title <- \"Frequency\"\n",
                "y_label <- \"estimated frequency\"\n",
                "labels <- c(\"man non-smoker\", \"man smoker\",\n",
                "            \"woman non-smoker\", \"woman smoker\")\n",
                "linetypes <- c(\"solid\", \"dotdash\", \"solid\", \"dotdash\")\n",
                "colors <- c(\"black\", \"black\", \"blue\", \"blue\")\n",
                "\n",
                "# claims type 1\n",
                "df <- data.frame(ages,\n",
                "                 be_women_smoker = predict(glm1_be, newdata = womanSmoker, type = \"response\"),\n",
                "                 be_women_nonsmoker = predict(glm1_be, newdata = womanNonSmoker, type = \"response\"),\n",
                "                 be_men_smoker = predict(glm1_be, newdata = manSmoker, type = \"response\"),\n",
                "                 be_men_nonsmoker = predict(glm1_be, newdata = manNonSmoker, type = \"response\"))\n",
                "\n",
                "p1 <- plot_prices(df, title = \"Claims type 1\", legend_title, y_label,\n",
                "                  labels, linetypes, colors) + ylim(ylims_freq)\n",
                "\n",
                "# claims type 2\n",
                "df <- data.frame(ages,\n",
                "                 be_women_smoker = predict(glm2_be, newdata = womanSmoker, type = \"response\"),\n",
                "                 be_women_nonsmoker = predict(glm2_be, newdata = womanNonSmoker, type = \"response\"),\n",
                "                 be_men_smoker = predict(glm2_be, newdata = manSmoker, type = \"response\"),\n",
                "                 be_men_nonsmoker = predict(glm2_be, newdata = manNonSmoker, type = \"response\"))\n",
                "\n",
                "p2 <- plot_prices(df, title = \"Claims type 2\", legend_title, y_label,\n",
                "                  labels, linetypes, colors) + ylim(ylims_freq)\n",
                "\n",
                "# claims type 3\n",
                "df <- data.frame(ages,\n",
                "                 be_women_smoker = predict(glm3_be, newdata = womanSmoker, type = \"response\"),\n",
                "                 be_women_nonsmoker = predict(glm3_be, newdata = womanNonSmoker, type = \"response\"),\n",
                "                 be_men_smoker = predict(glm3_be, newdata = manSmoker, type = \"response\"),\n",
                "                 be_men_nonsmoker = predict(glm3_be, newdata = manNonSmoker, type = \"response\"))\n",
                "\n",
                "p3 <- plot_prices(df, title = \"Claims type 3\", legend_title, y_label,\n",
                "                  labels, linetypes, colors) + ylim(ylims_freq)\n",
                "\n",
                "\n",
                "grid.arrange(p1, p2, p3, ncol = 3)\n"
            ]
        },
        {
            "cell_type": "markdown",
            "metadata": {},
            "source": [
                "Third, we calculate the best-estimate prices.\n",
                "\n"
            ]
        },
        {
            "cell_type": "code",
            "execution_count": null,
            "metadata": {},
            "outputs": [],
            "source": [
                "price_glm_best_estimate <- array(0, c(nAges, 4), dimnames = list(NULL, NULL))\n",
                "colnames(price_glm_best_estimate) <- colnames(price_true_best_estimate)\n",
                "\n",
                "# woman and non-smoker\n",
                "price_glm_best_estimate[, \"woman-non-smoker\"] <-\n",
                "  claimCost[1] * predict(glm1_be, newdata = womanNonSmoker, type = \"response\") +\n",
                "  claimCost[2] * predict(glm2_be, newdata = womanNonSmoker, type = \"response\") +\n",
                "  claimCost[3] * predict(glm3_be, newdata = womanNonSmoker, type = \"response\")\n",
                "# woman and smoker\n",
                "price_true_best_estimate[, \"woman-smoker\"] <-\n",
                "  claimCost[1] * predict(glm1_be, newdata = womanSmoker, type = \"response\") +\n",
                "  claimCost[2] * predict(glm2_be, newdata = womanSmoker, type = \"response\") +\n",
                "  claimCost[3] * predict(glm3_be, newdata = womanSmoker, type = \"response\")\n",
                "# man and non-smoker\n",
                "price_true_best_estimate[, \"man-non-smoker\"] <-\n",
                "  claimCost[1] * predict(glm1_be, newdata = manNonSmoker, type = \"response\") +\n",
                "  claimCost[2] * predict(glm2_be, newdata = manNonSmoker, type = \"response\") +\n",
                "  claimCost[3] * predict(glm3_be, newdata = manNonSmoker, type = \"response\")\n",
                "# man and smoker\n",
                "price_true_best_estimate[, \"man-smoker\"] <-\n",
                "  claimCost[1] * predict(glm1_be, newdata = manSmoker, type = \"response\") +\n",
                "  claimCost[2] * predict(glm2_be, newdata = manSmoker, type = \"response\") +\n",
                "  claimCost[3] * predict(glm3_be, newdata = manSmoker, type = \"response\")\n"
            ]
        },
        {
            "cell_type": "markdown",
            "metadata": {},
            "source": "\n"
        },
        {
            "cell_type": "code",
            "execution_count": null,
            "metadata": {},
            "outputs": [],
            "source": [
                "legend_title <- \"Price\"\n",
                "y_label <- \"true prices\"\n",
                "labels <- c(\"best-estimate price (women)\", \"best-estimate price (men)\")\n",
                "linetypes <- c(\"solid\", \"solid\")\n",
                "colors <- c(\"blue\", \"black\")\n",
                "\n",
                "# Smokers\n",
                "df <- data.frame(ages,\n",
                "                 be_women = price_true_best_estimate[, \"woman-smoker\"],\n",
                "                 be_men = price_true_best_estimate[, \"man-smoker\"])\n",
                "\n",
                "p1 <- plot_prices(df, title = \"Smokers\", legend_title, y_label,\n",
                "                  labels, linetypes, colors) + ylim(ylims)\n",
                "\n",
                "# Non-smokers\n",
                "df <- data.frame(ages,\n",
                "                 be_women = price_glm_best_estimate[, \"woman-non-smoker\"],\n",
                "                 be_men = price_true_best_estimate[, \"man-non-smoker\"])\n",
                "\n",
                "p2 <- plot_prices(df, title = \"Non-smokers\", legend_title, y_label,\n",
                "                  labels, linetypes, colors) + ylim(ylims)\n",
                "\n",
                "grid.arrange(p1, p2, ncol = 2)\n"
            ]
        },
        {
            "cell_type": "markdown",
            "metadata": {},
            "source": [
                "## Discrimination-Free Price\n",
                "\n",
                "We calculate the discrimination-free price based on the best-estimate prices.\n"
            ]
        },
        {
            "cell_type": "code",
            "execution_count": null,
            "metadata": {},
            "outputs": [],
            "source": [
                "price_glm_disc_free <- array(NA, c(nAges, 2), dimnames = c(NULL, NULL))\n",
                "colnames(price_glm_disc_free) <- c(\"non-smoker\", \"smoker\")\n",
                "# non-smoker non-discriminating\n",
                "price_glm_disc_free[, \"non-smoker\"] <-\n",
                "  probWoman * price_glm_best_estimate[, \"woman-non-smoker\"] +\n",
                "  (1 - probWoman) * price_true_best_estimate[, \"man-non-smoker\"]\n",
                "# smoker non-discriminating\n",
                "price_glm_disc_free[, \"smoker\"] <-\n",
                "  probWoman * price_true_best_estimate[, \"woman-smoker\"] +\n",
                "  (1 - probWoman) * price_true_best_estimate[, \"man-smoker\"]\n"
            ]
        },
        {
            "cell_type": "markdown",
            "metadata": {},
            "source": "\n"
        },
        {
            "cell_type": "code",
            "execution_count": null,
            "metadata": {},
            "outputs": [],
            "source": [
                "legend_title <- \"Price\"\n",
                "y_label <- \"true prices\"\n",
                "labels <-  c(\"best-estimate price (women)\", \"best-estimate price (men)\",\n",
                "             \"discrimination-free price\")\n",
                "linetypes <- c(\"solid\", \"solid\", \"longdash\")\n",
                "colors <- c(\"blue\", \"black\", \"green\")\n",
                "\n",
                "# Smokers\n",
                "df <- data.frame(ages,\n",
                "                 be_women = price_true_best_estimate[, \"woman-smoker\"],\n",
                "                 be_men = price_true_best_estimate[, \"man-smoker\"],\n",
                "                 df = price_glm_disc_free[, \"smoker\"])\n",
                "\n",
                "p1 <- plot_prices(df, title = \"Smokers\", legend_title, y_label,\n",
                "                  labels, linetypes, colors) + ylim(ylims)\n",
                "\n",
                "# Non-smokers\n",
                "df <- data.frame(ages, be_women = price_glm_best_estimate[, \"woman-non-smoker\"],\n",
                "                 be_men = price_true_best_estimate[, \"man-non-smoker\"],\n",
                "                 df = price_glm_disc_free[, \"non-smoker\"])\n",
                "\n",
                "p2 <- plot_prices(df, title = \"Non-smokers\", legend_title, y_label,\n",
                "                  labels, linetypes, colors) + ylim(ylims)\n",
                "\n",
                "grid.arrange(p1, p2, ncol = 2)\n"
            ]
        },
        {
            "cell_type": "markdown",
            "metadata": {},
            "source": [
                "## Unawareness Price\n",
                "\n",
                "First, we fit the frequency for every type of claims, ignoring the information about $D$.\n"
            ]
        },
        {
            "cell_type": "code",
            "execution_count": null,
            "metadata": {},
            "outputs": [],
            "source": [
                "glm1_un <- glm(N1 ~ X1 + X2 , data = fullData, family = poisson(link = \"log\"))\n",
                "glm2_un <- glm(N2 ~ X1 + X2 , data = fullData, family = poisson(link = \"log\"))\n",
                "glm3_un <- glm(N3 ~ X1 + X2 , data = fullData, family = poisson(link = \"log\"))\n"
            ]
        },
        {
            "cell_type": "markdown",
            "metadata": {},
            "source": [
                "First, it is illustrative to look at the estimated frequencies by claims type.\n",
                "\n"
            ]
        },
        {
            "cell_type": "code",
            "execution_count": null,
            "metadata": {},
            "outputs": [],
            "source": [
                "legend_title <- \"Frequency\"\n",
                "y_label <- \"estimated frequency\"\n",
                "labels <-  c(\"non-smoker\", \"smoker\")\n",
                "linetypes <- c(\"twodash\", \"dotdash\")\n",
                "colors <- c(\"yellow\", \"orange\")\n",
                "\n",
                "# claims type 1\n",
                "df <- data.frame(ages,\n",
                "                 be_smoker = predict(glm1_un, newdata = womanSmoker, type = \"response\"),\n",
                "                 be_nonsmoker = predict(glm1_un, newdata = womanNonSmoker, type = \"response\"))\n",
                "\n",
                "p1 <- plot_prices(df, title = \"Claims type 1 (without gender)\", legend_title, y_label,\n",
                "                  labels, linetypes, colors) + ylim(ylims_freq)\n",
                "\n",
                "# claims type 2\n",
                "df <- data.frame(ages,\n",
                "                 be_smoker = predict(glm2_un, newdata = womanSmoker, type = \"response\"),\n",
                "                 be_nonsmoker = predict(glm2_un, newdata = womanNonSmoker, type = \"response\"))\n",
                "\n",
                "p2 <- plot_prices(df, title = \"Claims type 2 (without gender)\", legend_title, y_label,\n",
                "                  labels, linetypes, colors) + ylim(ylims_freq)\n",
                "\n",
                "# claims type 3\n",
                "df <- data.frame(ages,\n",
                "                 be_smoker = predict(glm3_un, newdata = womanSmoker, type = \"response\"),\n",
                "                 be_nonsmoker = predict(glm3_un, newdata = womanNonSmoker, type = \"response\"))\n",
                "\n",
                "p3 <- plot_prices(df, title = \"Claims type 3 (without gender)\", legend_title, y_label,\n",
                "                  labels, linetypes, colors) + ylim(ylims_freq)\n",
                "\n",
                "grid.arrange(p1, p2, p3, ncol = 3)\n"
            ]
        },
        {
            "cell_type": "markdown",
            "metadata": {},
            "source": [
                "The resulting estimated regression functions, ignoring gender information $D$, are illustrated above. The left-hand side shows that we can no longer distinguish between gender, however, smokers are more heavily punished for birthing related costs, which is an undesired indirect discrimination effect against women because they are more often among the group of smokers. Finally, merging the different claim types provides the estimated unawareness prices (when first dropping D) as illustrated by the red dotted lines below.\n",
                "\n"
            ]
        },
        {
            "cell_type": "code",
            "execution_count": null,
            "metadata": {},
            "outputs": [],
            "source": [
                "price_glm_unaware <- array(0, c(nAges, 2), dimnames = c(NULL, NULL))\n",
                "colnames(price_glm_unaware) <- c(\"non-smoker\", \"smoker\")\n",
                "# non-smoker\n",
                "price_glm_unaware[, \"non-smoker\"] <-\n",
                "  claimCost[1] * predict(glm1_un, newdata = womanNonSmoker, type = \"response\") +\n",
                "  claimCost[2] * predict(glm2_un, newdata = womanNonSmoker, type = \"response\") +\n",
                "  claimCost[3] * predict(glm3_un, newdata = womanNonSmoker, type = \"response\")\n",
                "# smoker\n",
                "price_glm_unaware[, \"smoker\"] <-\n",
                "  claimCost[1] * predict(glm1_un, newdata = womanSmoker, type = \"response\") +\n",
                "  claimCost[2] * predict(glm2_un, newdata = womanSmoker, type = \"response\") +\n",
                "  claimCost[3] * predict(glm3_un, newdata = womanSmoker, type = \"response\")\n"
            ]
        },
        {
            "cell_type": "markdown",
            "metadata": {},
            "source": [
                "In the following figure we present the resulting best-estimate prices, unawareness prices, and discrimination-free prices (in green longdashed lines), as estimated using the GLM. The first observation is that the resulting prices are a poor approximation to the true prices of the previous section, the latter assuming full knowledge of the true model. However,\n",
                "the general discrimination behavior is the same in both figures, namely, that the unawareness price discriminates indirectly by learning the gender $D$ from smoking habits $X_2$. This is illustrated by the relative positioning of red and green lines, with smokers more heavily charged for birthing related costs due to the fact\n",
                "that smokers are more likely women.\n"
            ]
        },
        {
            "cell_type": "code",
            "execution_count": null,
            "metadata": {},
            "outputs": [],
            "source": [
                "legend_title <- \"Price\"\n",
                "y_label <- \"true prices\"\n",
                "labels <- c(\"best-estimate price (women)\", \"best-estimate price (men)\",\n",
                "            \"discrimination-free price\", \"unawareness price\")\n",
                "linetypes <- c(\"solid\", \"solid\", \"longdash\", \"dotted\")\n",
                "colors <-  c(\"blue\", \"black\", \"green\", \"red\")\n",
                "\n",
                "# Smokers\n",
                "df <- data.frame(ages,\n",
                "                 be_women = price_true_best_estimate[, \"woman-smoker\"],\n",
                "                 be_men = price_true_best_estimate[, \"man-smoker\"],\n",
                "                 df = price_glm_disc_free[, \"smoker\"],\n",
                "                 un = price_glm_unaware[, \"smoker\"])\n",
                "\n",
                "p1 <- plot_prices(df, title = \"Smokers\", legend_title, y_label,\n",
                "                  labels, linetypes, colors) + ylim(ylims)\n",
                "\n",
                "# Non-smokers\n",
                "df <- data.frame(ages,\n",
                "                 be_women = price_glm_best_estimate[, \"woman-non-smoker\"],\n",
                "                 be_men = price_true_best_estimate[, \"man-non-smoker\"],\n",
                "                 df = price_glm_disc_free[, \"non-smoker\"],\n",
                "                 un = price_glm_unaware[, \"non-smoker\"])\n",
                "\n",
                "p2 <- plot_prices(df, title = \"Non-smokers\", legend_title, y_label,\n",
                "                  labels, linetypes, colors) + ylim(ylims)\n",
                "\n",
                "grid.arrange(p1, p2, ncol = 2)\n"
            ]
        },
        {
            "cell_type": "markdown",
            "metadata": {},
            "source": [
                "# Conclusions\n",
                "\n",
                "We can draw the following conclusions:\n",
                "\n",
                "- If we want to avoid discrimination in insurance pricing, we need to have access to all discriminatory characteristics, otherwise it is not possible to properly adjust for the discriminatory characteristics' influence.\n",
                "- We propose a simple formula for discrimination-free insurance pricing.\n",
                "- First, we construct a price that is based on all available information, including discriminatory information.\n",
                "- Second, we average out the effect of discriminatory information.\n",
                "- This approach neither allows for direct nor for indirect discrimination.\n",
                "- The omission of discriminatory information leads to indirect discrimination in prices.\n",
                "- We illustrate that the (non-)discrimination property does not depend on the quality of the regression model chosen.\n",
                "\n",
                "# Exercises\n",
                "\n",
                "**Exercise:** Change the portfolio percentage of women (womanProp) and compare the result.\n",
                "\n",
                "**Exercise:** Change the assumption of the probability of a women given it is a smoker.\n",
                "\n",
                "**Exercise:** Change the claims costs.\n",
                "\n",
                "**Exercise:** Change the parameters $\\alpha$, $\\beta$ and $\\gamma$\n",
                "\n",
                "**Exercise:** Change portfolio parameters and compare the results.\n",
                "\n",
                "**Exercise:** Think about the overall prices received by the best estimate, discrimination-free and unawareness price. What does it mean for the insurance company?\n",
                "\n",
                "**Exercise:** Plot the charts by claims type for the discrimination-free frequency and also for the true frequencies.\n",
                "\n",
                "# Session Info\n",
                "\n",
                "The html is generated with the follow packages (which might be slightly newer than the ones used in the published tutorial).\n"
            ]
        },
        {
            "cell_type": "code",
            "execution_count": null,
            "metadata": {},
            "outputs": [],
            "source": [
                "sessionInfo()\n",
                "\n"
            ]
        },
        {
            "cell_type": "markdown",
            "metadata": {},
            "source": [
                "# References\n",
                "\n",
                "- [Discrimination-Free Insurance Pricing](https://papers.ssrn.com/sol3/papers.cfm?abstract_id=3520676)\n",
                "- [The Proxy Problem](https://ethz.ch/content/dam/ethz/special-interest/math/risklab-dam/documents/The_Proxy_Problem.pdf)\n"
            ]
        }
    ],
    "metadata": {
        "anaconda-cloud": "",
        "kernelspec": {
            "display_name": "R",
            "langauge": "R",
            "name": "ir"
        },
        "language_info": {
            "codemirror_mode": "r",
            "file_extension": ".r",
            "mimetype": "text/x-r-source",
            "name": "R",
            "pygments_lexer": "r",
            "version": "3.4.1"
        }
    },
    "nbformat": 4,
    "nbformat_minor": 1
}
